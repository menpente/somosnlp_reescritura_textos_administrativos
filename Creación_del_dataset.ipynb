{
  "nbformat": 4,
  "nbformat_minor": 0,
  "metadata": {
    "colab": {
      "provenance": [],
      "authorship_tag": "ABX9TyP7aFrC5V/WYHXXMaheDtIV",
      "include_colab_link": true
    },
    "kernelspec": {
      "name": "python3",
      "display_name": "Python 3"
    },
    "language_info": {
      "name": "python"
    }
  },
  "cells": [
    {
      "cell_type": "markdown",
      "metadata": {
        "id": "view-in-github",
        "colab_type": "text"
      },
      "source": [
        "<a href=\"https://colab.research.google.com/github/telodigoensergio/somosnlp_reescritura_textos_administrativos/blob/main/Creaci%C3%B3n_del_dataset.ipynb\" target=\"_parent\"><img src=\"https://colab.research.google.com/assets/colab-badge.svg\" alt=\"Open In Colab\"/></a>"
      ]
    },
    {
      "cell_type": "code",
      "execution_count": 1,
      "metadata": {
        "id": "aiWoQ1B8L1RA"
      },
      "outputs": [],
      "source": [
        "import requests\n",
        "from bs4 import BeautifulSoup\n",
        "import re\n",
        "from urllib.parse import urljoin\n",
        "import pandas as pd\n",
        "from requests.packages.urllib3.exceptions import InsecureRequestWarning\n",
        "from requests.packages.urllib3 import disable_warnings\n",
        "\n",
        "disable_warnings(InsecureRequestWarning)\n"
      ]
    },
    {
      "cell_type": "code",
      "source": [
        "def extraer_links(lista_de_enlaces):\n",
        "    todos_los_links = set()  # Utiliza un conjunto para evitar duplicados a nivel global\n",
        "\n",
        "    for base_url in lista_de_enlaces:\n",
        "        response = requests.get(base_url, verify=False)  # Haciendo la petición a la página principal\n",
        "        response.raise_for_status()\n",
        "        soup = BeautifulSoup(response.content, 'html.parser')\n",
        "\n",
        "        for link in soup.find_all('a'):\n",
        "            href = link.get('href')\n",
        "            if href and not href.startswith('#'):  # Ignorar enlaces internos de la página que comienzan con '#'\n",
        "                full_url = urljoin(base_url, href)  # Convierte rutas relativas en absolutas usando la URL base\n",
        "                todos_los_links.add(full_url)\n",
        "\n",
        "    df_enlaces = pd.DataFrame(list(todos_los_links), columns=['Enlaces'])\n",
        "    return df_enlaces\n"
      ],
      "metadata": {
        "id": "fkZXFqY4L5gE"
      },
      "execution_count": null,
      "outputs": []
    },
    {
      "cell_type": "code",
      "source": [
        "def scrape_paragraphs(url, timeout=10):\n",
        "    try:\n",
        "        response = requests.get(url, timeout=timeout)\n",
        "        response.raise_for_status()\n",
        "        soup = BeautifulSoup(response.content, 'html.parser')\n",
        "\n",
        "        for tag in soup([\"script\", \"style\", \"meta\", \"link\", \"noscript\", \"header\", \"footer\", \"aside\", \"nav\", \"img\"]):\n",
        "            tag.extract()\n",
        "\n",
        "        for cookie_alert in soup.find_all(\"div\", class_=[\"alertaModal\", \"msg cookies oculto\"]):\n",
        "            cookie_alert.decompose()\n",
        "\n",
        "        # Extraer los párrafos como elementos separados\n",
        "        paragraphs = []\n",
        "        for element in soup.body.find_all(['p']):  # Incluye también elementos de lista si es necesario\n",
        "            text = element.get_text(separator=' ', strip=True)\n",
        "            if text:\n",
        "                paragraphs.append(text)\n",
        "\n",
        "        return paragraphs  # Retorna la lista de párrafos directamente\n",
        "\n",
        "    except requests.exceptions.Timeout:\n",
        "        # Manejar el caso de tiempo de espera excedido\n",
        "        print(f\"La solicitud a {url} excedió el tiempo máximo de espera.\")\n",
        "        return []\n",
        "    except Exception as e:\n",
        "        print(f\"Error occurred while scraping the data: {e}\")\n",
        "        return []\n"
      ],
      "metadata": {
        "id": "8NaDGvCbL8AH"
      },
      "execution_count": null,
      "outputs": []
    },
    {
      "cell_type": "code",
      "source": [
        "lista_de_enlaces= [\"https://www.hacienda.gob.es/es-ES/Paginas/Home.aspx\",\n",
        "                   \"https://www.comunidad.madrid/\",\n",
        "                   \"https://www.exteriores.gob.es/es/Paginas/index.aspx\",\n",
        "                   \"https://www.mdsocialesa2030.gob.es/index.htm\",\n",
        "                   \"https://www.defensa.gob.es/\",\n",
        "                   \"https://portal.mineco.gob.es/es-es/Paginas/index.aspx\",\n",
        "                   \"https://www.educacionyfp.gob.es/portada.html\",\n",
        "                   \"https://www.igualdad.gob.es/\",\n",
        "                   \"https://www.inclusion.gob.es/home\",\n",
        "                   \"https://www.mdsocialesa2030.gob.es/\",\n",
        "                   \"https://mpt.gob.es/index.html\",\n",
        "                   \"https://www.sanidad.gob.es/\",\n",
        "                   \"https://www.mites.gob.es/\",\n",
        "                   \"https://www.transportes.gob.es/\",\n",
        "                   \"https://www.mivau.gob.es/\",\n",
        "                   \"https://www.interior.gob.es/opencms/es/inicio/\",\n",
        "                   \"https://www.miteco.gob.es/es.html\",\n",
        "                   \"https://avancedigital.mineco.gob.es/es-es/Paginas/index.aspx\"]\n",
        "\n",
        "df_enlaces = extraer_links(lista_de_enlaces)"
      ],
      "metadata": {
        "id": "MW6UUqeAL95X"
      },
      "execution_count": null,
      "outputs": []
    },
    {
      "cell_type": "code",
      "source": [
        "import time\n",
        "import pandas as pd\n",
        "\n",
        "def procesar_en_lotes(lista_de_enlaces, tamaño_del_lote=10, pausa=5):\n",
        "    \"\"\"\n",
        "    Procesa una lista de enlaces en lotes, haciendo una pausa entre cada lote.\n",
        "\n",
        "    Args:\n",
        "        lista_de_enlaces (list): Lista de URLs a procesar.\n",
        "        tamaño_del_lote (int): Número de enlaces a procesar en cada lote.\n",
        "        pausa (int): Tiempo de pausa entre lotes, en segundos.\n",
        "\n",
        "    Returns:\n",
        "        list de listas: Lista de resultados del procesamiento de cada enlace.\n",
        "    \"\"\"\n",
        "    lista_de_resultados = []\n",
        "    for i in range(0, len(lista_de_enlaces), tamaño_del_lote):\n",
        "        lote = lista_de_enlaces[i:i+tamaño_del_lote]\n",
        "        resultados_del_lote = [scrape_paragraphs(enlace) for enlace in lote]\n",
        "        lista_de_resultados.extend(resultados_del_lote)\n",
        "\n",
        "        # Imprimir el progreso\n",
        "        print(f\"Procesados {i + len(lote)} de {len(lista_de_enlaces)} enlaces\")\n",
        "\n",
        "        # Esperar antes de procesar el siguiente lote\n",
        "        time.sleep(pausa)\n",
        "    return lista_de_resultados\n",
        "\n",
        "\n",
        "lista_de_enlaces_en_df = df_enlaces['Enlaces'].tolist()\n",
        "\n",
        "# Llamar a la función con la lista de enlaces\n",
        "resultados = procesar_en_lotes(lista_de_enlaces_en_df, tamaño_del_lote=10, pausa=5)"
      ],
      "metadata": {
        "colab": {
          "base_uri": "https://localhost:8080/"
        },
        "id": "PNkBp6KnvZ9a",
        "outputId": "730ef7ce-1cca-43dd-a5c0-8db2679bf065"
      },
      "execution_count": null,
      "outputs": [
        {
          "output_type": "stream",
          "name": "stdout",
          "text": [
            "Error occurred while scraping the data: 'NoneType' object has no attribute 'find_all'\n",
            "Error occurred while scraping the data: HTTPSConnectionPool(host='portal.mineco.gob.es', port=443): Max retries exceeded with url: /es-es/ministerio/publicaciones/gratuitas (Caused by SSLError(SSLCertVerificationError(1, '[SSL: CERTIFICATE_VERIFY_FAILED] certificate verify failed: unable to get local issuer certificate (_ssl.c:1007)')))\n",
            "Error occurred while scraping the data: HTTPSConnectionPool(host='portal.mineco.gob.es', port=443): Max retries exceeded with url: /es-es/ministerio/empleo/Paginas/convocatorias.aspx (Caused by SSLError(SSLCertVerificationError(1, '[SSL: CERTIFICATE_VERIFY_FAILED] certificate verify failed: unable to get local issuer certificate (_ssl.c:1007)')))\n",
            "Procesados 10 de 1878 enlaces\n",
            "Error occurred while scraping the data: HTTPSConnectionPool(host='portal.mineco.gob.es', port=443): Max retries exceeded with url: /es-es/TID/noticias/Paginas/default.aspx (Caused by SSLError(SSLCertVerificationError(1, '[SSL: CERTIFICATE_VERIFY_FAILED] certificate verify failed: unable to get local issuer certificate (_ssl.c:1007)')))\n",
            "Error occurred while scraping the data: HTTPSConnectionPool(host='www.lamoncloa.gob.es', port=443): Max retries exceeded with url: / (Caused by SSLError(SSLError(1, '[SSL: UNSAFE_LEGACY_RENEGOTIATION_DISABLED] unsafe legacy renegotiation disabled (_ssl.c:1007)')))\n",
            "Procesados 20 de 1878 enlaces\n",
            "Error occurred while scraping the data: 403 Client Error: Forbidden for url: https://administracion.gob.es\n",
            "Error occurred while scraping the data: 429 Client Error: Too Many Requests for url: https://www.instagram.com/accounts/login/?next=https%3A%2F%2Fwww.instagram.com%2Feducaciongob%2F\n",
            "Procesados 30 de 1878 enlaces\n",
            "Error occurred while scraping the data: 400 Client Error: Bad Request for url: https://twitter.com/transportesgob\n",
            "Error occurred while scraping the data: HTTPSConnectionPool(host='portal.mineco.gob.es', port=443): Max retries exceeded with url: /es-es/ministerio/planrecuperacion/ (Caused by SSLError(SSLCertVerificationError(1, '[SSL: CERTIFICATE_VERIFY_FAILED] certificate verify failed: unable to get local issuer certificate (_ssl.c:1007)')))\n",
            "Procesados 40 de 1878 enlaces\n",
            "Error occurred while scraping the data: HTTPSConnectionPool(host='datos.gob.es', port=443): Max retries exceeded with url: /es (Caused by SSLError(SSLCertVerificationError(1, '[SSL: CERTIFICATE_VERIFY_FAILED] certificate verify failed: unable to get local issuer certificate (_ssl.c:1007)')))\n",
            "Procesados 50 de 1878 enlaces\n",
            "Error occurred while scraping the data: 404 Client Error: Not found for url: https://www.sanidad.gob.es/ssi/portada/home.htm\n",
            "Error occurred while scraping the data: HTTPSConnectionPool(host='www.inclusion.gob.es', port=443): Max retries exceeded with url: /tramites/pensiones (Caused by SSLError(SSLCertVerificationError(1, '[SSL: CERTIFICATE_VERIFY_FAILED] certificate verify failed: unable to get local issuer certificate (_ssl.c:1007)')))\n",
            "Procesados 60 de 1878 enlaces\n",
            "Error occurred while scraping the data: HTTPSConnectionPool(host='www.inclusion.gob.es', port=443): Max retries exceeded with url: /site/seguridad-social (Caused by SSLError(SSLCertVerificationError(1, '[SSL: CERTIFICATE_VERIFY_FAILED] certificate verify failed: unable to get local issuer certificate (_ssl.c:1007)')))\n",
            "Procesados 70 de 1878 enlaces\n",
            "Error occurred while scraping the data: 429 Client Error: Too Many Requests for url: https://www.instagram.com/accounts/login/?next=https%3A%2F%2Fwww.instagram.com%2Ftransportesgob%2F%3Fhl%3Des\n",
            "Procesados 80 de 1878 enlaces\n"
          ]
        },
        {
          "output_type": "stream",
          "name": "stderr",
          "text": [
            "WARNING:bs4.dammit:Some characters could not be decoded, and were replaced with REPLACEMENT CHARACTER.\n"
          ]
        },
        {
          "output_type": "stream",
          "name": "stdout",
          "text": [
            "Error occurred while scraping the data: 'NoneType' object has no attribute 'find_all'\n",
            "Error occurred while scraping the data: HTTPSConnectionPool(host='sede.maec.gob.es', port=443): Max retries exceeded with url: / (Caused by SSLError(SSLCertVerificationError(1, '[SSL: CERTIFICATE_VERIFY_FAILED] certificate verify failed: unable to get local issuer certificate (_ssl.c:1007)')))\n",
            "Procesados 90 de 1878 enlaces\n",
            "Procesados 100 de 1878 enlaces\n",
            "Error occurred while scraping the data: 403 Client Error: Forbidden for url: https://administracion.gob.es/pagFront/espanaAdmon/directorioOrganigramas/gobiernoEstado/gobiernoEstado.htm\n",
            "Error occurred while scraping the data: HTTPSConnectionPool(host='portal.mineco.gob.es', port=443): Max retries exceeded with url: /es-es/economiayempresa/EconomiaInformesMacro (Caused by SSLError(SSLCertVerificationError(1, '[SSL: CERTIFICATE_VERIFY_FAILED] certificate verify failed: unable to get local issuer certificate (_ssl.c:1007)')))\n",
            "Procesados 110 de 1878 enlaces\n",
            "Error occurred while scraping the data: HTTPSConnectionPool(host='portal.mineco.gob.es', port=443): Max retries exceeded with url: /es-es/economiayempresa/unidadmercado/asistencia_reformas/Paginas/asistencia_reformas.aspx (Caused by SSLError(SSLCertVerificationError(1, '[SSL: CERTIFICATE_VERIFY_FAILED] certificate verify failed: unable to get local issuer certificate (_ssl.c:1007)')))\n",
            "Procesados 120 de 1878 enlaces\n",
            "Error occurred while scraping the data: HTTPSConnectionPool(host='www.inclusion.gob.es', port=443): Max retries exceeded with url: / (Caused by SSLError(SSLCertVerificationError(1, '[SSL: CERTIFICATE_VERIFY_FAILED] certificate verify failed: unable to get local issuer certificate (_ssl.c:1007)')))\n",
            "Procesados 130 de 1878 enlaces\n",
            "Error occurred while scraping the data: HTTPSConnectionPool(host='portal.mineco.gob.es', port=443): Max retries exceeded with url: /es-es/economiayempresa/internacional (Caused by SSLError(SSLCertVerificationError(1, '[SSL: CERTIFICATE_VERIFY_FAILED] certificate verify failed: unable to get local issuer certificate (_ssl.c:1007)')))\n",
            "Error occurred while scraping the data: HTTPSConnectionPool(host='www.inclusion.gob.es', port=443): Max retries exceeded with url: /web/guest/comunicacion/videos (Caused by SSLError(SSLCertVerificationError(1, '[SSL: CERTIFICATE_VERIFY_FAILED] certificate verify failed: unable to get local issuer certificate (_ssl.c:1007)')))\n",
            "La solicitud a https://imserso.es/web/imserso excedió el tiempo máximo de espera.\n",
            "Procesados 140 de 1878 enlaces\n",
            "Error occurred while scraping the data: HTTPSConnectionPool(host='portal.mineco.gob.es', port=443): Max retries exceeded with url: /es-es/ministerio (Caused by SSLError(SSLCertVerificationError(1, '[SSL: CERTIFICATE_VERIFY_FAILED] certificate verify failed: unable to get local issuer certificate (_ssl.c:1007)')))\n",
            "Procesados 150 de 1878 enlaces\n",
            "Procesados 160 de 1878 enlaces\n"
          ]
        },
        {
          "output_type": "stream",
          "name": "stderr",
          "text": [
            "WARNING:bs4.dammit:Some characters could not be decoded, and were replaced with REPLACEMENT CHARACTER.\n"
          ]
        },
        {
          "output_type": "stream",
          "name": "stdout",
          "text": [
            "Error occurred while scraping the data: 'NoneType' object has no attribute 'find_all'\n"
          ]
        },
        {
          "output_type": "stream",
          "name": "stderr",
          "text": [
            "WARNING:bs4.dammit:Some characters could not be decoded, and were replaced with REPLACEMENT CHARACTER.\n"
          ]
        },
        {
          "output_type": "stream",
          "name": "stdout",
          "text": [
            "Error occurred while scraping the data: 'NoneType' object has no attribute 'find_all'\n"
          ]
        },
        {
          "output_type": "stream",
          "name": "stderr",
          "text": [
            "WARNING:bs4.dammit:Some characters could not be decoded, and were replaced with REPLACEMENT CHARACTER.\n"
          ]
        },
        {
          "output_type": "stream",
          "name": "stdout",
          "text": [
            "Error occurred while scraping the data: 'NoneType' object has no attribute 'find_all'\n",
            "Procesados 170 de 1878 enlaces\n",
            "Procesados 180 de 1878 enlaces\n",
            "Error occurred while scraping the data: 403 Client Error: Forbidden for url: https://administracionelectronica.gob.es/pae_Home\n",
            "Procesados 190 de 1878 enlaces\n",
            "Error occurred while scraping the data: 403 Client Error: Forbidden for url: https://administracion.gob.es\n",
            "Error occurred while scraping the data: HTTPSConnectionPool(host='www.inclusion.gob.es', port=443): Max retries exceeded with url: /web/migraciones/entidades-colaboradoras1 (Caused by SSLError(SSLCertVerificationError(1, '[SSL: CERTIFICATE_VERIFY_FAILED] certificate verify failed: unable to get local issuer certificate (_ssl.c:1007)')))\n",
            "Error occurred while scraping the data: HTTPSConnectionPool(host='www.inclusion.gob.es', port=443): Max retries exceeded with url: /documents/20121/3479582/Informe+Proyec_SS+2023_final.pdf (Caused by SSLError(SSLCertVerificationError(1, '[SSL: CERTIFICATE_VERIFY_FAILED] certificate verify failed: unable to get local issuer certificate (_ssl.c:1007)')))\n",
            "Procesados 200 de 1878 enlaces\n",
            "Error occurred while scraping the data: HTTPSConnectionPool(host='www.inclusion.gob.es', port=443): Max retries exceeded with url: /web/migraciones/red-europea-de-migraciones-rem-emn (Caused by SSLError(SSLCertVerificationError(1, '[SSL: CERTIFICATE_VERIFY_FAILED] certificate verify failed: unable to get local issuer certificate (_ssl.c:1007)')))\n"
          ]
        },
        {
          "output_type": "stream",
          "name": "stderr",
          "text": [
            "WARNING:bs4.dammit:Some characters could not be decoded, and were replaced with REPLACEMENT CHARACTER.\n"
          ]
        },
        {
          "output_type": "stream",
          "name": "stdout",
          "text": [
            "Error occurred while scraping the data: 'NoneType' object has no attribute 'find_all'\n",
            "Error occurred while scraping the data: 400 Client Error: Bad Request for url: https://twitter.com/Haciendagob\n",
            "Error occurred while scraping the data: 'NoneType' object has no attribute 'find_all'\n",
            "Procesados 210 de 1878 enlaces\n",
            "Error occurred while scraping the data: HTTPSConnectionPool(host='www.inclusion.gob.es', port=443): Max retries exceeded with url: /web/guest/el-ministerio/atencion-al-ciudadano (Caused by SSLError(SSLCertVerificationError(1, '[SSL: CERTIFICATE_VERIFY_FAILED] certificate verify failed: unable to get local issuer certificate (_ssl.c:1007)')))\n",
            "Error occurred while scraping the data: HTTPSConnectionPool(host='sede.maec.gob.es', port=443): Max retries exceeded with url: / (Caused by SSLError(SSLCertVerificationError(1, '[SSL: CERTIFICATE_VERIFY_FAILED] certificate verify failed: unable to get local issuer certificate (_ssl.c:1007)')))\n"
          ]
        },
        {
          "output_type": "stream",
          "name": "stderr",
          "text": [
            "WARNING:bs4.dammit:Some characters could not be decoded, and were replaced with REPLACEMENT CHARACTER.\n"
          ]
        },
        {
          "output_type": "stream",
          "name": "stdout",
          "text": [
            "Error occurred while scraping the data: 'NoneType' object has no attribute 'find_all'\n",
            "Procesados 220 de 1878 enlaces\n",
            "Error occurred while scraping the data: HTTPSConnectionPool(host='www.inclusion.gob.es', port=443): Max retries exceeded with url: /web/guest/organizacion (Caused by SSLError(SSLCertVerificationError(1, '[SSL: CERTIFICATE_VERIFY_FAILED] certificate verify failed: unable to get local issuer certificate (_ssl.c:1007)')))\n",
            "Error occurred while scraping the data: HTTPSConnectionPool(host='www.inclusion.gob.es', port=443): Max retries exceeded with url: /web/seguridad-social/autonomos (Caused by SSLError(SSLCertVerificationError(1, '[SSL: CERTIFICATE_VERIFY_FAILED] certificate verify failed: unable to get local issuer certificate (_ssl.c:1007)')))\n",
            "Procesados 230 de 1878 enlaces\n",
            "La solicitud a https://www.institucionpenitenciaria.es/es/inicio excedió el tiempo máximo de espera.\n",
            "Procesados 240 de 1878 enlaces\n",
            "Error occurred while scraping the data: 503 Server Error: Service Unavailable for url: https://empleate.gob.es/empleo/#/index.htm\n",
            "Procesados 250 de 1878 enlaces\n",
            "Error occurred while scraping the data: 'NoneType' object has no attribute 'find_all'\n",
            "Error occurred while scraping the data: HTTPSConnectionPool(host='www.lamoncloa.gob.es', port=443): Max retries exceeded with url: / (Caused by SSLError(SSLError(1, '[SSL: UNSAFE_LEGACY_RENEGOTIATION_DISABLED] unsafe legacy renegotiation disabled (_ssl.c:1007)')))\n",
            "Procesados 260 de 1878 enlaces\n",
            "Error occurred while scraping the data: 404 Client Error: Not found for url: https://www.sanidad.gob.es/profesionales/saludPublica/ccayes/alertasActual/nCov/videosPrensa.htm\n",
            "Procesados 270 de 1878 enlaces\n",
            "Error occurred while scraping the data: HTTPSConnectionPool(host='expinterweb.inclusion.gob.es', port=443): Max retries exceeded with url: /participacion/index.html (Caused by SSLError(SSLCertVerificationError(1, '[SSL: CERTIFICATE_VERIFY_FAILED] certificate verify failed: unable to get local issuer certificate (_ssl.c:1007)')))\n",
            "Error occurred while scraping the data: HTTPSConnectionPool(host='www.inclusion.gob.es', port=443): Max retries exceeded with url: /web/inclusion/ingreso-minimo-vital (Caused by SSLError(SSLCertVerificationError(1, '[SSL: CERTIFICATE_VERIFY_FAILED] certificate verify failed: unable to get local issuer certificate (_ssl.c:1007)')))\n",
            "Error occurred while scraping the data: HTTPSConnectionPool(host='portal.mineco.gob.es', port=443): Max retries exceeded with url: /es-es/ministerio/participacionpublica/audienciapublica (Caused by SSLError(SSLCertVerificationError(1, '[SSL: CERTIFICATE_VERIFY_FAILED] certificate verify failed: unable to get local issuer certificate (_ssl.c:1007)')))\n",
            "Procesados 280 de 1878 enlaces\n"
          ]
        },
        {
          "output_type": "stream",
          "name": "stderr",
          "text": [
            "WARNING:bs4.dammit:Some characters could not be decoded, and were replaced with REPLACEMENT CHARACTER.\n"
          ]
        },
        {
          "output_type": "stream",
          "name": "stdout",
          "text": [
            "Error occurred while scraping the data: 'NoneType' object has no attribute 'find_all'\n",
            "Error occurred while scraping the data: 400 Client Error: Bad Request for url: https://twitter.com/incluinfo\n"
          ]
        },
        {
          "output_type": "stream",
          "name": "stderr",
          "text": [
            "WARNING:bs4.dammit:Some characters could not be decoded, and were replaced with REPLACEMENT CHARACTER.\n"
          ]
        },
        {
          "output_type": "stream",
          "name": "stdout",
          "text": [
            "Error occurred while scraping the data: 'NoneType' object has no attribute 'find_all'\n",
            "Procesados 290 de 1878 enlaces\n",
            "Error occurred while scraping the data: HTTPSConnectionPool(host='www.inclusion.gob.es', port=443): Max retries exceeded with url: /web/guest/comunicacion (Caused by SSLError(SSLCertVerificationError(1, '[SSL: CERTIFICATE_VERIFY_FAILED] certificate verify failed: unable to get local issuer certificate (_ssl.c:1007)')))\n"
          ]
        },
        {
          "output_type": "stream",
          "name": "stderr",
          "text": [
            "WARNING:bs4.dammit:Some characters could not be decoded, and were replaced with REPLACEMENT CHARACTER.\n"
          ]
        },
        {
          "output_type": "stream",
          "name": "stdout",
          "text": [
            "Error occurred while scraping the data: 'NoneType' object has no attribute 'find_all'\n",
            "Procesados 300 de 1878 enlaces\n",
            "Error occurred while scraping the data: 400 Client Error: Bad Request for url: https://twitter.com/MSocialGob?ref_src=twsrc%5Etfw\n",
            "Procesados 310 de 1878 enlaces\n",
            "Error occurred while scraping the data: HTTPSConnectionPool(host='www.inclusion.gob.es', port=443): Max retries exceeded with url: /ingreso-minimo-vital (Caused by SSLError(SSLCertVerificationError(1, '[SSL: CERTIFICATE_VERIFY_FAILED] certificate verify failed: unable to get local issuer certificate (_ssl.c:1007)')))\n",
            "Error occurred while scraping the data: 429 Client Error: Too Many Requests for url: https://www.instagram.com/accounts/login/?next=https%3A%2F%2Fwww.instagram.com%2Finclusiongob%2F\n",
            "Error occurred while scraping the data: HTTPSConnectionPool(host='www.inclusion.gob.es', port=443): Max retries exceeded with url: /web/guest/ingreso-minimo-vital (Caused by SSLError(SSLCertVerificationError(1, '[SSL: CERTIFICATE_VERIFY_FAILED] certificate verify failed: unable to get local issuer certificate (_ssl.c:1007)')))\n",
            "Procesados 320 de 1878 enlaces\n",
            "Error occurred while scraping the data: HTTPSConnectionPool(host='portal.mineco.gob.es', port=443): Max retries exceeded with url: /es-es/economiayempresa (Caused by SSLError(SSLCertVerificationError(1, '[SSL: CERTIFICATE_VERIFY_FAILED] certificate verify failed: unable to get local issuer certificate (_ssl.c:1007)')))\n",
            "Error occurred while scraping the data: 403 Client Error: Forbidden for url: https://sede.administracionespublicas.gob.es/\n",
            "Procesados 330 de 1878 enlaces\n",
            "Error occurred while scraping the data: HTTPSConnectionPool(host='www.inclusion.gob.es', port=443): Max retries exceeded with url: /web/inclusion/quienes-somos (Caused by SSLError(SSLCertVerificationError(1, '[SSL: CERTIFICATE_VERIFY_FAILED] certificate verify failed: unable to get local issuer certificate (_ssl.c:1007)')))\n",
            "Error occurred while scraping the data: 403 Client Error: Forbidden for url: https://transparencia.gob.es/transparencia/transparencia_Home/index.html\n",
            "Error occurred while scraping the data: HTTPSConnectionPool(host='www.inclusion.gob.es', port=443): Max retries exceeded with url: /web/migraciones/sistema-de-acogida (Caused by SSLError(SSLCertVerificationError(1, '[SSL: CERTIFICATE_VERIFY_FAILED] certificate verify failed: unable to get local issuer certificate (_ssl.c:1007)')))\n",
            "Error occurred while scraping the data: HTTPSConnectionPool(host='www.inclusion.gob.es', port=443): Max retries exceeded with url: /el-ministerio/quienes-somos (Caused by SSLError(SSLCertVerificationError(1, '[SSL: CERTIFICATE_VERIFY_FAILED] certificate verify failed: unable to get local issuer certificate (_ssl.c:1007)')))\n",
            "Procesados 340 de 1878 enlaces\n"
          ]
        },
        {
          "output_type": "stream",
          "name": "stderr",
          "text": [
            "WARNING:bs4.dammit:Some characters could not be decoded, and were replaced with REPLACEMENT CHARACTER.\n"
          ]
        },
        {
          "output_type": "stream",
          "name": "stdout",
          "text": [
            "Error occurred while scraping the data: 'NoneType' object has no attribute 'find_all'\n",
            "Error occurred while scraping the data: HTTPSConnectionPool(host='portal.mineco.gob.es', port=443): Max retries exceeded with url: /es-es/ministerio/infoservicios (Caused by SSLError(SSLCertVerificationError(1, '[SSL: CERTIFICATE_VERIFY_FAILED] certificate verify failed: unable to get local issuer certificate (_ssl.c:1007)')))\n",
            "Error occurred while scraping the data: HTTPSConnectionPool(host='www.inclusion.gob.es', port=443): Max retries exceeded with url: /web/migraciones/retorno-voluntario (Caused by SSLError(SSLCertVerificationError(1, '[SSL: CERTIFICATE_VERIFY_FAILED] certificate verify failed: unable to get local issuer certificate (_ssl.c:1007)')))\n",
            "Procesados 350 de 1878 enlaces\n",
            "Error occurred while scraping the data: HTTPSConnectionPool(host='portal.mineco.gob.es', port=443): Max retries exceeded with url: /es-es/digitalizacionIA/oficina-del-dato/Paginas/oficina-del-dato-se-digitalizacion-ia.aspx (Caused by SSLError(SSLCertVerificationError(1, '[SSL: CERTIFICATE_VERIFY_FAILED] certificate verify failed: unable to get local issuer certificate (_ssl.c:1007)')))\n",
            "Error occurred while scraping the data: HTTPSConnectionPool(host='www.inclusion.gob.es', port=443): Max retries exceeded with url: /web/migraciones/cartaespana (Caused by SSLError(SSLCertVerificationError(1, '[SSL: CERTIFICATE_VERIFY_FAILED] certificate verify failed: unable to get local issuer certificate (_ssl.c:1007)')))\n",
            "Error occurred while scraping the data: HTTPSConnectionPool(host='www.inmujer.gob.es', port=443): Max retries exceeded with url: / (Caused by SSLError(SSLCertVerificationError(1, '[SSL: CERTIFICATE_VERIFY_FAILED] certificate verify failed: certificate has expired (_ssl.c:1007)')))\n",
            "Procesados 360 de 1878 enlaces\n",
            "Procesados 370 de 1878 enlaces\n",
            "Error occurred while scraping the data: ('Connection aborted.', RemoteDisconnected('Remote end closed connection without response'))\n",
            "Procesados 380 de 1878 enlaces\n",
            "Error occurred while scraping the data: HTTPSConnectionPool(host='www.inclusion.gob.es', port=443): Max retries exceeded with url: /web/guest/organizacion/se-seguridad-social-pensiones (Caused by SSLError(SSLCertVerificationError(1, '[SSL: CERTIFICATE_VERIFY_FAILED] certificate verify failed: unable to get local issuer certificate (_ssl.c:1007)')))\n"
          ]
        },
        {
          "output_type": "stream",
          "name": "stderr",
          "text": [
            "WARNING:bs4.dammit:Some characters could not be decoded, and were replaced with REPLACEMENT CHARACTER.\n"
          ]
        },
        {
          "output_type": "stream",
          "name": "stdout",
          "text": [
            "Error occurred while scraping the data: 'NoneType' object has no attribute 'find_all'\n",
            "Error occurred while scraping the data: HTTPSConnectionPool(host='sede.maec.gob.es', port=443): Max retries exceeded with url: /procedimientos/portada/ida/925/idp/58 (Caused by SSLError(SSLCertVerificationError(1, '[SSL: CERTIFICATE_VERIFY_FAILED] certificate verify failed: unable to get local issuer certificate (_ssl.c:1007)')))\n",
            "Procesados 390 de 1878 enlaces\n",
            "Error occurred while scraping the data: 403 Client Error: Forbidden for url: http://transparencia.gob.es/\n",
            "Error occurred while scraping the data: HTTPSConnectionPool(host='www.inclusion.gob.es', port=443): Max retries exceeded with url: /web/migraciones/vivir-en-espana (Caused by SSLError(SSLCertVerificationError(1, '[SSL: CERTIFICATE_VERIFY_FAILED] certificate verify failed: unable to get local issuer certificate (_ssl.c:1007)')))\n",
            "Procesados 400 de 1878 enlaces\n",
            "Error occurred while scraping the data: 404 Client Error: Not found for url: https://www.sanidad.gob.es/organizacion/ministerio/home.htm\n",
            "Error occurred while scraping the data: HTTPSConnectionPool(host='www.inclusion.gob.es', port=443): Max retries exceeded with url: /web/seguridad-social/home (Caused by SSLError(SSLCertVerificationError(1, '[SSL: CERTIFICATE_VERIFY_FAILED] certificate verify failed: unable to get local issuer certificate (_ssl.c:1007)')))\n",
            "Error occurred while scraping the data: HTTPSConnectionPool(host='sede.mir.gob.es', port=443): Max retries exceeded with url: / (Caused by SSLError(SSLCertVerificationError(1, '[SSL: CERTIFICATE_VERIFY_FAILED] certificate verify failed: unable to get local issuer certificate (_ssl.c:1007)')))\n",
            "Procesados 410 de 1878 enlaces\n",
            "Error occurred while scraping the data: 403 Client Error: Forbidden for url: https://administracion.gob.es/pag_Home/index.html#.XUfurOgzZPY/\n",
            "Procesados 420 de 1878 enlaces\n",
            "Error occurred while scraping the data: HTTPSConnectionPool(host='www.inclusion.gob.es', port=443): Max retries exceeded with url: /web/inclusion/home (Caused by SSLError(SSLCertVerificationError(1, '[SSL: CERTIFICATE_VERIFY_FAILED] certificate verify failed: unable to get local issuer certificate (_ssl.c:1007)')))\n",
            "Error occurred while scraping the data: HTTPSConnectionPool(host='planderecuperacion.gob.es', port=443): Max retries exceeded with url: / (Caused by SSLError(SSLError(1, '[SSL: UNSAFE_LEGACY_RENEGOTIATION_DISABLED] unsafe legacy renegotiation disabled (_ssl.c:1007)')))\n"
          ]
        },
        {
          "output_type": "stream",
          "name": "stderr",
          "text": [
            "WARNING:bs4.dammit:Some characters could not be decoded, and were replaced with REPLACEMENT CHARACTER.\n"
          ]
        },
        {
          "output_type": "stream",
          "name": "stdout",
          "text": [
            "Error occurred while scraping the data: 'NoneType' object has no attribute 'find_all'\n",
            "Procesados 430 de 1878 enlaces\n",
            "Error occurred while scraping the data: HTTPSConnectionPool(host='www.inclusion.gob.es', port=443): Max retries exceeded with url: /web/guest/brexit/residentes-y-trabajadores-en-espana (Caused by SSLError(SSLCertVerificationError(1, '[SSL: CERTIFICATE_VERIFY_FAILED] certificate verify failed: unable to get local issuer certificate (_ssl.c:1007)')))\n",
            "Error occurred while scraping the data: 'NoneType' object has no attribute 'find_all'\n",
            "Procesados 440 de 1878 enlaces\n",
            "Error occurred while scraping the data: HTTPSConnectionPool(host='www.reddecasas.es', port=443): Max retries exceeded with url: / (Caused by NewConnectionError('<urllib3.connection.HTTPSConnection object at 0x7f0257a63d30>: Failed to establish a new connection: [Errno 111] Connection refused'))\n",
            "Error occurred while scraping the data: 429 Client Error: Too Many Requests for url: https://www.instagram.com/accounts/login/?next=https%3A%2F%2Fwww.instagram.com%2Fminecogob_%2F\n",
            "Error occurred while scraping the data: 503 Server Error: Service Unavailable for url: https://www.empleate.gob.es/empleo/#/\n",
            "Procesados 450 de 1878 enlaces\n"
          ]
        },
        {
          "output_type": "stream",
          "name": "stderr",
          "text": [
            "WARNING:bs4.dammit:Some characters could not be decoded, and were replaced with REPLACEMENT CHARACTER.\n"
          ]
        },
        {
          "output_type": "stream",
          "name": "stdout",
          "text": [
            "Error occurred while scraping the data: 'NoneType' object has no attribute 'find_all'\n",
            "Error occurred while scraping the data: 403 Client Error: Forbidden for url: https://forma.administracionelectronica.gob.es/form/open/corp/9730/tYSI/tOCdhAWE\n",
            "Error occurred while scraping the data: HTTPSConnectionPool(host='www.inclusion.gob.es', port=443): Max retries exceeded with url: /web/opi/estadisticas/observatorio_permanente_inmigracion (Caused by SSLError(SSLCertVerificationError(1, '[SSL: CERTIFICATE_VERIFY_FAILED] certificate verify failed: unable to get local issuer certificate (_ssl.c:1007)')))\n",
            "Error occurred while scraping the data: 500 Server Error: Internal Server Error for url: https://expinterweb.mites.gob.es/participa/\n",
            "Procesados 460 de 1878 enlaces\n",
            "Error occurred while scraping the data: HTTPSConnectionPool(host='www.inclusion.gob.es', port=443): Max retries exceeded with url: /web/migraciones/prioridades-de-integracion (Caused by SSLError(SSLCertVerificationError(1, '[SSL: CERTIFICATE_VERIFY_FAILED] certificate verify failed: unable to get local issuer certificate (_ssl.c:1007)')))\n",
            "Error occurred while scraping the data: HTTPSConnectionPool(host='oficinanacional-delitosdeodio.ses.mir.es', port=443): Max retries exceeded with url: /publico/ONDOD (Caused by SSLError(SSLCertVerificationError(1, '[SSL: CERTIFICATE_VERIFY_FAILED] certificate verify failed: unable to get local issuer certificate (_ssl.c:1007)')))\n",
            "Error occurred while scraping the data: 400 Client Error: Bad Request for url: https://twitter.com/empleogob\n",
            "Procesados 470 de 1878 enlaces\n",
            "Error occurred while scraping the data: HTTPSConnectionPool(host='portal.mineco.gob.es', port=443): Max retries exceeded with url: /es-es/comunicacion (Caused by SSLError(SSLCertVerificationError(1, '[SSL: CERTIFICATE_VERIFY_FAILED] certificate verify failed: unable to get local issuer certificate (_ssl.c:1007)')))\n",
            "Procesados 480 de 1878 enlaces\n",
            "Error occurred while scraping the data: HTTPSConnectionPool(host='portal.mineco.gob.es', port=443): Max retries exceeded with url: /es-es/comunicacion/multimedia (Caused by SSLError(SSLCertVerificationError(1, '[SSL: CERTIFICATE_VERIFY_FAILED] certificate verify failed: unable to get local issuer certificate (_ssl.c:1007)')))\n",
            "Error occurred while scraping the data: 400 Client Error: Bad Request for url: https://twitter.com/MSocialGob\n",
            "Error occurred while scraping the data: 400 Client Error: Bad Request for url: https://twitter.com/IgualdadGob\n",
            "Error occurred while scraping the data: HTTPSConnectionPool(host='portal.mineco.gob.es', port=443): Max retries exceeded with url: /es-es/digitalizacionIA (Caused by SSLError(SSLCertVerificationError(1, '[SSL: CERTIFICATE_VERIFY_FAILED] certificate verify failed: unable to get local issuer certificate (_ssl.c:1007)')))\n",
            "Procesados 490 de 1878 enlaces\n",
            "Error occurred while scraping the data: 429 Client Error: Too Many Requests for url: https://www.instagram.com/accounts/login/?next=https%3A%2F%2Fwww.instagram.com%2Fhaciendagob%2F\n",
            "Error occurred while scraping the data: HTTPSConnectionPool(host='portal.mineco.gob.es', port=443): Max retries exceeded with url: /es-es/economiayempresa/noticias (Caused by SSLError(SSLCertVerificationError(1, '[SSL: CERTIFICATE_VERIFY_FAILED] certificate verify failed: unable to get local issuer certificate (_ssl.c:1007)')))\n",
            "Error occurred while scraping the data: HTTPSConnectionPool(host='www.inclusion.gob.es', port=443): Max retries exceeded with url: /comunicacion/noticias (Caused by SSLError(SSLCertVerificationError(1, '[SSL: CERTIFICATE_VERIFY_FAILED] certificate verify failed: unable to get local issuer certificate (_ssl.c:1007)')))\n",
            "Procesados 500 de 1878 enlaces\n",
            "Error occurred while scraping the data: HTTPSConnectionPool(host='portal.mineco.gob.es', port=443): Max retries exceeded with url: /ca-es/Pagines/index.aspx (Caused by SSLError(SSLCertVerificationError(1, '[SSL: CERTIFICATE_VERIFY_FAILED] certificate verify failed: unable to get local issuer certificate (_ssl.c:1007)')))\n",
            "Procesados 510 de 1878 enlaces\n",
            "Error occurred while scraping the data: 400 Client Error: Bad Request for url: https://twitter.com/educaciongob\n",
            "Error occurred while scraping the data: HTTPSConnectionPool(host='www.inclusion.gob.es', port=443): Max retries exceeded with url: /web/guest/el-ministerio/empleo-publico (Caused by SSLError(SSLCertVerificationError(1, '[SSL: CERTIFICATE_VERIFY_FAILED] certificate verify failed: unable to get local issuer certificate (_ssl.c:1007)')))\n",
            "Procesados 520 de 1878 enlaces\n",
            "Error occurred while scraping the data: HTTPSConnectionPool(host='www.inclusion.gob.es', port=443): Max retries exceeded with url: /web/guest/brexit (Caused by SSLError(SSLCertVerificationError(1, '[SSL: CERTIFICATE_VERIFY_FAILED] certificate verify failed: unable to get local issuer certificate (_ssl.c:1007)')))\n",
            "Error occurred while scraping the data: HTTPSConnectionPool(host='www.inclusion.gob.es', port=443): Max retries exceeded with url: /web/migraciones/reasentamiento-y-otros-programas (Caused by SSLError(SSLCertVerificationError(1, '[SSL: CERTIFICATE_VERIFY_FAILED] certificate verify failed: unable to get local issuer certificate (_ssl.c:1007)')))\n",
            "Procesados 530 de 1878 enlaces\n",
            "Error occurred while scraping the data: 403 Client Error: Forbidden for url: https://www.adifaltavelocidad.es/\n",
            "Error occurred while scraping the data: HTTPSConnectionPool(host='www.inclusion.gob.es', port=443): Max retries exceeded with url: /web/inclusion/ingreso-minimo-vital/registro-mediadores-sociales-imv (Caused by SSLError(SSLCertVerificationError(1, '[SSL: CERTIFICATE_VERIFY_FAILED] certificate verify failed: unable to get local issuer certificate (_ssl.c:1007)')))\n",
            "Procesados 540 de 1878 enlaces\n",
            "Error occurred while scraping the data: HTTPSConnectionPool(host='portal.mineco.gob.es', port=443): Max retries exceeded with url: /es-es/ministerio/Paginas/Info_RSS.aspx (Caused by SSLError(SSLCertVerificationError(1, '[SSL: CERTIFICATE_VERIFY_FAILED] certificate verify failed: unable to get local issuer certificate (_ssl.c:1007)')))\n",
            "Procesados 550 de 1878 enlaces\n",
            "Error occurred while scraping the data: HTTPSConnectionPool(host='www.inclusion.gob.es', port=443): Max retries exceeded with url: /web/guest/el-ministerio/el-ministerio-en-el-mundo (Caused by SSLError(SSLCertVerificationError(1, '[SSL: CERTIFICATE_VERIFY_FAILED] certificate verify failed: unable to get local issuer certificate (_ssl.c:1007)')))\n",
            "Error occurred while scraping the data: HTTPSConnectionPool(host='www.inclusion.gob.es', port=443): Max retries exceeded with url: /documents/20121/970399/GUIA_PENSIONES_2022.pdf/b6ab92c2-a3ed-6859-5d8e-9619ea41f8dc?t=1652263302675 (Caused by SSLError(SSLCertVerificationError(1, '[SSL: CERTIFICATE_VERIFY_FAILED] certificate verify failed: unable to get local issuer certificate (_ssl.c:1007)')))\n",
            "Error occurred while scraping the data: HTTPSConnectionPool(host='www.inclusion.gob.es', port=443): Max retries exceeded with url: /web/opi/estadisticas/productos_servicios/indicadores_nacionalidad (Caused by SSLError(SSLCertVerificationError(1, '[SSL: CERTIFICATE_VERIFY_FAILED] certificate verify failed: unable to get local issuer certificate (_ssl.c:1007)')))\n",
            "Procesados 560 de 1878 enlaces\n",
            "Error occurred while scraping the data: HTTPSConnectionPool(host='www.inclusion.gob.es', port=443): Max retries exceeded with url: /web/migraciones/proyectos-de-migracion-regular (Caused by SSLError(SSLCertVerificationError(1, '[SSL: CERTIFICATE_VERIFY_FAILED] certificate verify failed: unable to get local issuer certificate (_ssl.c:1007)')))\n",
            "Error occurred while scraping the data: HTTPSConnectionPool(host='registroviajeros.exteriores.gob.es', port=443): Max retries exceeded with url: / (Caused by SSLError(SSLCertVerificationError(1, '[SSL: CERTIFICATE_VERIFY_FAILED] certificate verify failed: unable to get local issuer certificate (_ssl.c:1007)')))\n",
            "Procesados 570 de 1878 enlaces\n",
            "Error occurred while scraping the data: HTTPSConnectionPool(host='funcionpublica.digital.gob.es', port=443): Max retries exceeded with url: //funcion-publica/Acceso-Empleo-Publico.html (Caused by SSLError(SSLCertVerificationError(1, '[SSL: CERTIFICATE_VERIFY_FAILED] certificate verify failed: unable to get local issuer certificate (_ssl.c:1007)')))\n",
            "Error occurred while scraping the data: HTTPSConnectionPool(host='portal.mineco.gob.es', port=443): Max retries exceeded with url: /es-es/ministerio/publicaciones/electronicas (Caused by SSLError(SSLCertVerificationError(1, '[SSL: CERTIFICATE_VERIFY_FAILED] certificate verify failed: unable to get local issuer certificate (_ssl.c:1007)')))\n",
            "Error occurred while scraping the data: 403 Client Error: Forbidden for url: https://igualdad.sede.gob.es/\n",
            "Procesados 580 de 1878 enlaces\n",
            "Error occurred while scraping the data: 'NoneType' object has no attribute 'find_all'\n",
            "Error occurred while scraping the data: HTTPSConnectionPool(host='www.inclusion.gob.es', port=443): Max retries exceeded with url: /web/guest/sede-electronica (Caused by SSLError(SSLCertVerificationError(1, '[SSL: CERTIFICATE_VERIFY_FAILED] certificate verify failed: unable to get local issuer certificate (_ssl.c:1007)')))\n",
            "Procesados 590 de 1878 enlaces\n",
            "Procesados 600 de 1878 enlaces\n",
            "Error occurred while scraping the data: 403 Client Error: Forbidden for url: https://transparencia.gob.es/transparencia/transparencia_Home/index/Gobierno-abierto/Comunicacion-Inclusiva/CampanaComunicacionGA.html\n",
            "Procesados 610 de 1878 enlaces\n",
            "Error occurred while scraping the data: HTTPSConnectionPool(host='ingesa.sanidad.gob.es', port=443): Max retries exceeded with url: /quienesSomos/home.htm (Caused by SSLError(SSLCertVerificationError(1, '[SSL: CERTIFICATE_VERIFY_FAILED] certificate verify failed: unable to get local issuer certificate (_ssl.c:1007)')))\n",
            "Error occurred while scraping the data: HTTPSConnectionPool(host='www.inclusion.gob.es', port=443): Max retries exceeded with url: /web/migraciones/como-funciona (Caused by SSLError(SSLCertVerificationError(1, '[SSL: CERTIFICATE_VERIFY_FAILED] certificate verify failed: unable to get local issuer certificate (_ssl.c:1007)')))\n",
            "Procesados 620 de 1878 enlaces\n",
            "Error occurred while scraping the data: HTTPSConnectionPool(host='ingesa.sanidad.gob.es', port=443): Max retries exceeded with url: / (Caused by SSLError(SSLCertVerificationError(1, '[SSL: CERTIFICATE_VERIFY_FAILED] certificate verify failed: unable to get local issuer certificate (_ssl.c:1007)')))\n",
            "Procesados 630 de 1878 enlaces\n",
            "Error occurred while scraping the data: 404 Client Error: Not Found for url: https://www.mivau.gob.es/el-ministerio/contacte-con-fomento/ministerio-de-fomento\n",
            "Procesados 640 de 1878 enlaces\n",
            "Error occurred while scraping the data: HTTPSConnectionPool(host='www.inclusion.gob.es', port=443): Max retries exceeded with url: /web/inclusion/sello-de-inclusion-social (Caused by SSLError(SSLCertVerificationError(1, '[SSL: CERTIFICATE_VERIFY_FAILED] certificate verify failed: unable to get local issuer certificate (_ssl.c:1007)')))\n",
            "Error occurred while scraping the data: HTTPSConnectionPool(host='www.inclusion.gob.es', port=443): Max retries exceeded with url: /web/guest/contacto (Caused by SSLError(SSLCertVerificationError(1, '[SSL: CERTIFICATE_VERIFY_FAILED] certificate verify failed: unable to get local issuer certificate (_ssl.c:1007)')))\n",
            "Error occurred while scraping the data: 429 Client Error: Too Many Requests for url: https://www.instagram.com/accounts/login/?next=https%3A%2F%2Fwww.instagram.com%2Figualdadgob%2F%3Fhl%3Des\n",
            "Error occurred while scraping the data: HTTPSConnectionPool(host='www.csd.gob.es', port=443): Max retries exceeded with url: / (Caused by SSLError(SSLCertVerificationError(1, '[SSL: CERTIFICATE_VERIFY_FAILED] certificate verify failed: unable to get local issuer certificate (_ssl.c:1007)')))\n"
          ]
        },
        {
          "output_type": "stream",
          "name": "stderr",
          "text": [
            "WARNING:bs4.dammit:Some characters could not be decoded, and were replaced with REPLACEMENT CHARACTER.\n"
          ]
        },
        {
          "output_type": "stream",
          "name": "stdout",
          "text": [
            "Error occurred while scraping the data: 'NoneType' object has no attribute 'find_all'\n",
            "Procesados 650 de 1878 enlaces\n",
            "Procesados 660 de 1878 enlaces\n",
            "Error occurred while scraping the data: HTTPSConnectionPool(host='www.inclusion.gob.es', port=443): Max retries exceeded with url: /web/guest/tramites/altas-bajas-seguridad-social (Caused by SSLError(SSLCertVerificationError(1, '[SSL: CERTIFICATE_VERIFY_FAILED] certificate verify failed: unable to get local issuer certificate (_ssl.c:1007)')))\n",
            "Error occurred while scraping the data: 400 Client Error: Bad Request for url: https://twitter.com/mitecogob\n"
          ]
        },
        {
          "output_type": "stream",
          "name": "stderr",
          "text": [
            "WARNING:bs4.dammit:Some characters could not be decoded, and were replaced with REPLACEMENT CHARACTER.\n"
          ]
        },
        {
          "output_type": "stream",
          "name": "stdout",
          "text": [
            "Error occurred while scraping the data: 'NoneType' object has no attribute 'find_all'\n",
            "Procesados 670 de 1878 enlaces\n",
            "Error occurred while scraping the data: HTTPSConnectionPool(host='www.inclusion.gob.es', port=443): Max retries exceeded with url: /web/guest/comunicacion/noticias (Caused by SSLError(SSLCertVerificationError(1, '[SSL: CERTIFICATE_VERIFY_FAILED] certificate verify failed: unable to get local issuer certificate (_ssl.c:1007)')))\n",
            "Error occurred while scraping the data: HTTPSConnectionPool(host='portal.mineco.gob.es', port=443): Max retries exceeded with url: /es-es/TID (Caused by SSLError(SSLCertVerificationError(1, '[SSL: CERTIFICATE_VERIFY_FAILED] certificate verify failed: unable to get local issuer certificate (_ssl.c:1007)')))\n"
          ]
        },
        {
          "output_type": "stream",
          "name": "stderr",
          "text": [
            "WARNING:bs4.dammit:Some characters could not be decoded, and were replaced with REPLACEMENT CHARACTER.\n"
          ]
        },
        {
          "output_type": "stream",
          "name": "stdout",
          "text": [
            "Error occurred while scraping the data: 'NoneType' object has no attribute 'find_all'\n",
            "Procesados 680 de 1878 enlaces\n",
            "Error occurred while scraping the data: HTTPSConnectionPool(host='portal.mineco.gob.es', port=443): Max retries exceeded with url: /es-es/economiayempresa/unidadmercado/competencia (Caused by SSLError(SSLCertVerificationError(1, '[SSL: CERTIFICATE_VERIFY_FAILED] certificate verify failed: unable to get local issuer certificate (_ssl.c:1007)')))\n",
            "Procesados 690 de 1878 enlaces\n",
            "Error occurred while scraping the data: 429 Client Error: Too Many Requests for url: https://www.instagram.com/accounts/login/?next=https%3A%2F%2Fwww.instagram.com%2Fmsocialgob%2F\n",
            "Error occurred while scraping the data: HTTPSConnectionPool(host='ucraniaurgente.inclusion.gob.es', port=443): Max retries exceeded with url: /home (Caused by SSLError(SSLCertVerificationError(1, '[SSL: CERTIFICATE_VERIFY_FAILED] certificate verify failed: unable to get local issuer certificate (_ssl.c:1007)')))\n",
            "Error occurred while scraping the data: 'NoneType' object has no attribute 'find_all'\n",
            "Procesados 700 de 1878 enlaces\n",
            "Procesados 710 de 1878 enlaces\n",
            "Error occurred while scraping the data: HTTPSConnectionPool(host='portal.mineco.gob.es', port=443): Max retries exceeded with url: /es-es/digitalizacionIA/noticias/Paginas/default.aspx (Caused by SSLError(SSLCertVerificationError(1, '[SSL: CERTIFICATE_VERIFY_FAILED] certificate verify failed: unable to get local issuer certificate (_ssl.c:1007)')))\n",
            "Error occurred while scraping the data: HTTPSConnectionPool(host='portal.mineco.gob.es', port=443): Max retries exceeded with url: /es-es/economiayempresa/unidadmercado/gum (Caused by SSLError(SSLCertVerificationError(1, '[SSL: CERTIFICATE_VERIFY_FAILED] certificate verify failed: unable to get local issuer certificate (_ssl.c:1007)')))\n",
            "Procesados 720 de 1878 enlaces\n",
            "Error occurred while scraping the data: HTTPSConnectionPool(host='portal.mineco.gob.es', port=443): Max retries exceeded with url: /es-es/economiayempresa/unidadmercado/mercadointeriorservicios (Caused by SSLError(SSLCertVerificationError(1, '[SSL: CERTIFICATE_VERIFY_FAILED] certificate verify failed: unable to get local issuer certificate (_ssl.c:1007)')))\n",
            "Procesados 730 de 1878 enlaces\n",
            "Error occurred while scraping the data: HTTPSConnectionPool(host='www.inclusion.gob.es', port=443): Max retries exceeded with url: /accesibilidad (Caused by SSLError(SSLCertVerificationError(1, '[SSL: CERTIFICATE_VERIFY_FAILED] certificate verify failed: unable to get local issuer certificate (_ssl.c:1007)')))\n",
            "Error occurred while scraping the data: 403 Client Error: Forbidden for url: https://www.adif.es/\n",
            "Error occurred while scraping the data: 403 Client Error: Forbidden for url: https://administracion.gob.es/\n",
            "Procesados 740 de 1878 enlaces\n",
            "Procesados 750 de 1878 enlaces\n",
            "Procesados 760 de 1878 enlaces\n",
            "Procesados 770 de 1878 enlaces\n",
            "Error occurred while scraping the data: HTTPSConnectionPool(host='www.inclusion.gob.es', port=443): Max retries exceeded with url: /comunicacion/videos (Caused by SSLError(SSLCertVerificationError(1, '[SSL: CERTIFICATE_VERIFY_FAILED] certificate verify failed: unable to get local issuer certificate (_ssl.c:1007)')))\n",
            "Procesados 780 de 1878 enlaces\n",
            "Procesados 790 de 1878 enlaces\n",
            "Error occurred while scraping the data: HTTPSConnectionPool(host='www.inclusion.gob.es', port=443): Max retries exceeded with url: /el-ministerio/atencion-al-ciudadano (Caused by SSLError(SSLCertVerificationError(1, '[SSL: CERTIFICATE_VERIFY_FAILED] certificate verify failed: unable to get local issuer certificate (_ssl.c:1007)')))\n",
            "Error occurred while scraping the data: 'NoneType' object has no attribute 'find_all'\n",
            "Error occurred while scraping the data: HTTPSConnectionPool(host='portal.mineco.gob.es', port=443): Max retries exceeded with url: /es-es (Caused by SSLError(SSLCertVerificationError(1, '[SSL: CERTIFICATE_VERIFY_FAILED] certificate verify failed: unable to get local issuer certificate (_ssl.c:1007)')))\n",
            "Procesados 800 de 1878 enlaces\n",
            "Error occurred while scraping the data: HTTPSConnectionPool(host='portal.mineco.gob.es', port=443): Max retries exceeded with url: /es-es/ministerio/Paginas/Aviso_Legal.aspx (Caused by SSLError(SSLCertVerificationError(1, '[SSL: CERTIFICATE_VERIFY_FAILED] certificate verify failed: unable to get local issuer certificate (_ssl.c:1007)')))\n",
            "Error occurred while scraping the data: HTTPSConnectionPool(host='www.inclusion.gob.es', port=443): Max retries exceeded with url: /organizacion (Caused by SSLError(SSLCertVerificationError(1, '[SSL: CERTIFICATE_VERIFY_FAILED] certificate verify failed: unable to get local issuer certificate (_ssl.c:1007)')))\n",
            "Procesados 810 de 1878 enlaces\n",
            "Error occurred while scraping the data: HTTPSConnectionPool(host='portal.mineco.gob.es', port=443): Max retries exceeded with url: /es-es/ministro (Caused by SSLError(SSLCertVerificationError(1, '[SSL: CERTIFICATE_VERIFY_FAILED] certificate verify failed: unable to get local issuer certificate (_ssl.c:1007)')))\n",
            "Error occurred while scraping the data: HTTPSConnectionPool(host='www.inclusion.gob.es', port=443): Max retries exceeded with url: /web/guest/estadisticas (Caused by SSLError(SSLCertVerificationError(1, '[SSL: CERTIFICATE_VERIFY_FAILED] certificate verify failed: unable to get local issuer certificate (_ssl.c:1007)')))\n",
            "Error occurred while scraping the data: HTTPSConnectionPool(host='www.inclusion.gob.es', port=443): Max retries exceeded with url: /web/migraciones/personas-destinatarias (Caused by SSLError(SSLCertVerificationError(1, '[SSL: CERTIFICATE_VERIFY_FAILED] certificate verify failed: unable to get local issuer certificate (_ssl.c:1007)')))\n",
            "Error occurred while scraping the data: HTTPSConnectionPool(host='www.inclusion.gob.es', port=443): Max retries exceeded with url: /web/cartaespana/ (Caused by SSLError(SSLCertVerificationError(1, '[SSL: CERTIFICATE_VERIFY_FAILED] certificate verify failed: unable to get local issuer certificate (_ssl.c:1007)')))\n",
            "Procesados 820 de 1878 enlaces\n",
            "Error occurred while scraping the data: HTTPSConnectionPool(host='portal.mineco.gob.es', port=443): Max retries exceeded with url: /es-es/ministerio/Paginas/Politica_de_privacidad.aspx (Caused by SSLError(SSLCertVerificationError(1, '[SSL: CERTIFICATE_VERIFY_FAILED] certificate verify failed: unable to get local issuer certificate (_ssl.c:1007)')))\n",
            "Error occurred while scraping the data: HTTPSConnectionPool(host='www.inclusion.gob.es', port=443): Max retries exceeded with url: /web/guest/canal-interno-informacion (Caused by SSLError(SSLCertVerificationError(1, '[SSL: CERTIFICATE_VERIFY_FAILED] certificate verify failed: unable to get local issuer certificate (_ssl.c:1007)')))\n",
            "Error occurred while scraping the data: 404 Client Error: Not found for url: https://www.sanidad.gob.es/normativa/proyectos/home.htm\n",
            "Error occurred while scraping the data: HTTPSConnectionPool(host='www.inclusion.gob.es', port=443): Max retries exceeded with url: /w/el-gobierno-aprueba-el-informe-con-el-balance-de-gestion-de-la-crisis-migratoria-tras-dos-anos-de-guerra-en-ucrania (Caused by SSLError(SSLCertVerificationError(1, '[SSL: CERTIFICATE_VERIFY_FAILED] certificate verify failed: unable to get local issuer certificate (_ssl.c:1007)')))\n",
            "Procesados 830 de 1878 enlaces\n",
            "Error occurred while scraping the data: 400 Client Error: Bad Request for url: https://twitter.com/share?url=https://avancedigital.mineco.gob.es/es-es/Paginas/index.aspx\n",
            "Error occurred while scraping the data: 404 Client Error: Not found for url: https://www.sanidad.gob.es/ciudadanos/portada/home.htm\n",
            "Error occurred while scraping the data: 400 Client Error: Bad Request for url: https://twitter.com/@territorialgob\n",
            "Procesados 840 de 1878 enlaces\n",
            "Error occurred while scraping the data: HTTPSConnectionPool(host='www.idae.es', port=443): Max retries exceeded with url: /ayudas-y-financiacion/para-energias-renovables-en-autoconsumo-almacenamiento-y-termicas-sector (Caused by SSLError(SSLError(1, '[SSL: UNSAFE_LEGACY_RENEGOTIATION_DISABLED] unsafe legacy renegotiation disabled (_ssl.c:1007)')))\n",
            "Error occurred while scraping the data: HTTPSConnectionPool(host='www.inclusion.gob.es', port=443): Max retries exceeded with url: /web/guest/estadisticas-y-estudios/estadisticas/empleo-y-mercado-laboral (Caused by SSLError(SSLCertVerificationError(1, '[SSL: CERTIFICATE_VERIFY_FAILED] certificate verify failed: unable to get local issuer certificate (_ssl.c:1007)')))\n",
            "Error occurred while scraping the data: HTTPSConnectionPool(host='www.lamoncloa.gob.es', port=443): Max retries exceeded with url: /Paginas/index.aspx (Caused by SSLError(SSLError(1, '[SSL: UNSAFE_LEGACY_RENEGOTIATION_DISABLED] unsafe legacy renegotiation disabled (_ssl.c:1007)')))\n",
            "Error occurred while scraping the data: 404 Client Error: Not Found for url: https://www.comunidad.madrid/transparencia/plan-de-gobierno/presidente\n",
            "Procesados 850 de 1878 enlaces\n",
            "Error occurred while scraping the data: HTTPSConnectionPool(host='portal.mineco.gob.es', port=443): Max retries exceeded with url: /es-es/TID/noticias (Caused by SSLError(SSLCertVerificationError(1, '[SSL: CERTIFICATE_VERIFY_FAILED] certificate verify failed: unable to get local issuer certificate (_ssl.c:1007)')))\n",
            "Error occurred while scraping the data: HTTPSConnectionPool(host='www.inclusion.gob.es', port=443): Max retries exceeded with url: /web/migraciones/foro-para-la-integracion-social-de-los-inmigrantes-fisi (Caused by SSLError(SSLCertVerificationError(1, '[SSL: CERTIFICATE_VERIFY_FAILED] certificate verify failed: unable to get local issuer certificate (_ssl.c:1007)')))\n",
            "Procesados 860 de 1878 enlaces\n",
            "Error occurred while scraping the data: HTTPSConnectionPool(host='www.inclusion.gob.es', port=443): Max retries exceeded with url: /web/guest/comunicacion/noticias/buscador (Caused by SSLError(SSLCertVerificationError(1, '[SSL: CERTIFICATE_VERIFY_FAILED] certificate verify failed: unable to get local issuer certificate (_ssl.c:1007)')))\n",
            "Error occurred while scraping the data: HTTPSConnectionPool(host='www.inclusion.gob.es', port=443): Max retries exceeded with url: /web/migraciones/consejo-general-de-la-ciudadania-espanola-en-el-exterior (Caused by SSLError(SSLCertVerificationError(1, '[SSL: CERTIFICATE_VERIFY_FAILED] certificate verify failed: unable to get local issuer certificate (_ssl.c:1007)')))\n",
            "La solicitud a https://www.imserso.es/ excedió el tiempo máximo de espera.\n",
            "Procesados 870 de 1878 enlaces\n",
            "Procesados 880 de 1878 enlaces\n",
            "Error occurred while scraping the data: HTTPSConnectionPool(host='portal.mineco.gob.es', port=443): Max retries exceeded with url: /es-es/ministro/agenda (Caused by SSLError(SSLCertVerificationError(1, '[SSL: CERTIFICATE_VERIFY_FAILED] certificate verify failed: unable to get local issuer certificate (_ssl.c:1007)')))\n",
            "Error occurred while scraping the data: HTTPSConnectionPool(host='www.inclusion.gob.es', port=443): Max retries exceeded with url: /web/migraciones/quienes-somos (Caused by SSLError(SSLCertVerificationError(1, '[SSL: CERTIFICATE_VERIFY_FAILED] certificate verify failed: unable to get local issuer certificate (_ssl.c:1007)')))\n",
            "Procesados 890 de 1878 enlaces\n",
            "Error occurred while scraping the data: HTTPSConnectionPool(host='datos.gob.es', port=443): Max retries exceeded with url: / (Caused by SSLError(SSLCertVerificationError(1, '[SSL: CERTIFICATE_VERIFY_FAILED] certificate verify failed: unable to get local issuer certificate (_ssl.c:1007)')))\n",
            "Error occurred while scraping the data: HTTPSConnectionPool(host='www.inclusion.gob.es', port=443): Max retries exceeded with url: /web/guest/el-ministro (Caused by SSLError(SSLCertVerificationError(1, '[SSL: CERTIFICATE_VERIFY_FAILED] certificate verify failed: unable to get local issuer certificate (_ssl.c:1007)')))\n",
            "Procesados 900 de 1878 enlaces\n",
            "Error occurred while scraping the data: HTTPSConnectionPool(host='www.inclusion.gob.es', port=443): Max retries exceeded with url: /web/guest/quejas-y-sugerencias (Caused by SSLError(SSLCertVerificationError(1, '[SSL: CERTIFICATE_VERIFY_FAILED] certificate verify failed: unable to get local issuer certificate (_ssl.c:1007)')))\n"
          ]
        },
        {
          "output_type": "stream",
          "name": "stderr",
          "text": [
            "WARNING:bs4.dammit:Some characters could not be decoded, and were replaced with REPLACEMENT CHARACTER.\n"
          ]
        },
        {
          "output_type": "stream",
          "name": "stdout",
          "text": [
            "Error occurred while scraping the data: 'NoneType' object has no attribute 'find_all'\n",
            "Procesados 910 de 1878 enlaces\n",
            "Procesados 920 de 1878 enlaces\n",
            "Error occurred while scraping the data: HTTPSConnectionPool(host='sede.maec.gob.es', port=443): Max retries exceeded with url: /pagina/index/directorio/citaprevia (Caused by SSLError(SSLCertVerificationError(1, '[SSL: CERTIFICATE_VERIFY_FAILED] certificate verify failed: unable to get local issuer certificate (_ssl.c:1007)')))\n",
            "Error occurred while scraping the data: 403 Client Error: Forbidden for url: https://transparencia.gob.es/\n"
          ]
        },
        {
          "output_type": "stream",
          "name": "stderr",
          "text": [
            "WARNING:bs4.dammit:Some characters could not be decoded, and were replaced with REPLACEMENT CHARACTER.\n"
          ]
        },
        {
          "output_type": "stream",
          "name": "stdout",
          "text": [
            "Error occurred while scraping the data: 'NoneType' object has no attribute 'find_all'\n",
            "Error occurred while scraping the data: HTTPSConnectionPool(host='portal.mineco.gob.es', port=443): Max retries exceeded with url: /es-es/ministerio/igualdadgenero/articulos (Caused by SSLError(SSLCertVerificationError(1, '[SSL: CERTIFICATE_VERIFY_FAILED] certificate verify failed: unable to get local issuer certificate (_ssl.c:1007)')))\n",
            "Procesados 930 de 1878 enlaces\n",
            "Error occurred while scraping the data: 429 Client Error: Too Many Requests for url: https://www.instagram.com/accounts/login/?next=https%3A%2F%2Fwww.instagram.com%2Fmiteco.gob%2F\n",
            "Error occurred while scraping the data: HTTPSConnectionPool(host='www.inclusion.gob.es', port=443): Max retries exceeded with url: /web/inclusion/estudios (Caused by SSLError(SSLCertVerificationError(1, '[SSL: CERTIFICATE_VERIFY_FAILED] certificate verify failed: unable to get local issuer certificate (_ssl.c:1007)')))\n",
            "Procesados 940 de 1878 enlaces\n"
          ]
        },
        {
          "output_type": "stream",
          "name": "stderr",
          "text": [
            "WARNING:bs4.dammit:Some characters could not be decoded, and were replaced with REPLACEMENT CHARACTER.\n"
          ]
        },
        {
          "output_type": "stream",
          "name": "stdout",
          "text": [
            "Error occurred while scraping the data: 'NoneType' object has no attribute 'find_all'\n",
            "Error occurred while scraping the data: 403 Client Error: Forbidden for url: https://generaciond.gob.es/\n",
            "Procesados 950 de 1878 enlaces\n",
            "Procesados 960 de 1878 enlaces\n",
            "Error occurred while scraping the data: HTTPSConnectionPool(host='www.inclusion.gob.es', port=443): Max retries exceeded with url: /privacidad (Caused by SSLError(SSLCertVerificationError(1, '[SSL: CERTIFICATE_VERIFY_FAILED] certificate verify failed: unable to get local issuer certificate (_ssl.c:1007)')))\n",
            "Error occurred while scraping the data: HTTPSConnectionPool(host='www.inclusion.gob.es', port=443): Max retries exceeded with url: /oberaxe/ (Caused by SSLError(SSLCertVerificationError(1, '[SSL: CERTIFICATE_VERIFY_FAILED] certificate verify failed: unable to get local issuer certificate (_ssl.c:1007)')))\n",
            "Procesados 970 de 1878 enlaces\n",
            "Error occurred while scraping the data: HTTPSConnectionPool(host='portal.mineco.gob.es', port=443): Max retries exceeded with url: /es-es/ministerio/sedeelectronica (Caused by SSLError(SSLCertVerificationError(1, '[SSL: CERTIFICATE_VERIFY_FAILED] certificate verify failed: unable to get local issuer certificate (_ssl.c:1007)')))\n",
            "Error occurred while scraping the data: 400 Client Error: Bad Request for url: https://twitter.com/MAECgob\n",
            "Procesados 980 de 1878 enlaces\n",
            "Error occurred while scraping the data: HTTPSConnectionPool(host='www.bonosocial.gob.es', port=443): Max retries exceeded with url: / (Caused by SSLError(SSLError(1, '[SSL: UNSAFE_LEGACY_RENEGOTIATION_DISABLED] unsafe legacy renegotiation disabled (_ssl.c:1007)')))\n",
            "Procesados 990 de 1878 enlaces\n",
            "Error occurred while scraping the data: HTTPSConnectionPool(host='www.mpr.gob.es', port=443): Max retries exceeded with url: /memoriademocratica/Paginas/index.aspx (Caused by SSLError(SSLError(1, '[SSL: UNSAFE_LEGACY_RENEGOTIATION_DISABLED] unsafe legacy renegotiation disabled (_ssl.c:1007)')))\n",
            "Error occurred while scraping the data: 'NoneType' object has no attribute 'find_all'\n",
            "Procesados 1000 de 1878 enlaces\n",
            "Error occurred while scraping the data: HTTPSConnectionPool(host='portal.mineco.gob.es', port=443): Max retries exceeded with url: /eu-es/Orriak/index.aspx (Caused by SSLError(SSLCertVerificationError(1, '[SSL: CERTIFICATE_VERIFY_FAILED] certificate verify failed: unable to get local issuer certificate (_ssl.c:1007)')))\n",
            "La solicitud a https://www.exteriores.gob.es/es/Paginas/navegacion.aspx excedió el tiempo máximo de espera.\n",
            "Error occurred while scraping the data: 400 Client Error: Bad Request for url: https://twitter.com/SEDIAgob\n",
            "Procesados 1010 de 1878 enlaces\n",
            "Error occurred while scraping the data: HTTPConnectionPool(host='www.seat.mpr.gob.es', port=80): Max retries exceeded with url: /portal/ministerio/ayudas-fondos/ayudas_transporte_mercancias_insular.html (Caused by NameResolutionError(\"<urllib3.connection.HTTPConnection object at 0x7f02586f6d40>: Failed to resolve 'www.seat.mpr.gob.es' ([Errno -2] Name or service not known)\"))\n",
            "Error occurred while scraping the data: HTTPSConnectionPool(host='www.inclusion.gob.es', port=443): Max retries exceeded with url: /web/migraciones/informacion-de-contacto (Caused by SSLError(SSLCertVerificationError(1, '[SSL: CERTIFICATE_VERIFY_FAILED] certificate verify failed: unable to get local issuer certificate (_ssl.c:1007)')))\n",
            "Procesados 1020 de 1878 enlaces\n",
            "Procesados 1030 de 1878 enlaces\n",
            "Error occurred while scraping the data: HTTPSConnectionPool(host='www.inclusion.gob.es', port=443): Max retries exceeded with url: /web/seguridad-social/quienes-somos (Caused by SSLError(SSLCertVerificationError(1, '[SSL: CERTIFICATE_VERIFY_FAILED] certificate verify failed: unable to get local issuer certificate (_ssl.c:1007)')))\n",
            "Error occurred while scraping the data: 400 Client Error: Bad Request for url: https://twitter.com/inclusiongob\n",
            "Procesados 1040 de 1878 enlaces\n",
            "Error occurred while scraping the data: 404 Client Error: Not Found for url: https://www.facebook.com/pg/territorialgob\n",
            "Procesados 1050 de 1878 enlaces\n",
            "Error occurred while scraping the data: HTTPSConnectionPool(host='www.inclusion.gob.es', port=443): Max retries exceeded with url: /web/migraciones/uge (Caused by SSLError(SSLCertVerificationError(1, '[SSL: CERTIFICATE_VERIFY_FAILED] certificate verify failed: unable to get local issuer certificate (_ssl.c:1007)')))\n",
            "Error occurred while scraping the data: HTTPConnectionPool(host='www.bonotermico.gob.es', port=80): Max retries exceeded with url: / (Caused by NameResolutionError(\"<urllib3.connection.HTTPConnection object at 0x7f0257cdfe20>: Failed to resolve 'www.bonotermico.gob.es' ([Errno -2] Name or service not known)\"))\n",
            "Error occurred while scraping the data: HTTPSConnectionPool(host='www.casareal.es', port=443): Max retries exceeded with url: /ES/Paginas/home.aspx/ (Caused by SSLError(SSLError(1, '[SSL: UNSAFE_LEGACY_RENEGOTIATION_DISABLED] unsafe legacy renegotiation disabled (_ssl.c:1007)')))\n",
            "Procesados 1060 de 1878 enlaces\n",
            "Error occurred while scraping the data: HTTPSConnectionPool(host='portal.mineco.gob.es', port=443): Max retries exceeded with url: /es-es/ministerio/igualdadgenero (Caused by SSLError(SSLCertVerificationError(1, '[SSL: CERTIFICATE_VERIFY_FAILED] certificate verify failed: unable to get local issuer certificate (_ssl.c:1007)')))\n",
            "Error occurred while scraping the data: HTTPSConnectionPool(host='www.inclusion.gob.es', port=443): Max retries exceeded with url: /web/guest/tramites/pensiones (Caused by SSLError(SSLCertVerificationError(1, '[SSL: CERTIFICATE_VERIFY_FAILED] certificate verify failed: unable to get local issuer certificate (_ssl.c:1007)')))\n"
          ]
        },
        {
          "output_type": "stream",
          "name": "stderr",
          "text": [
            "WARNING:bs4.dammit:Some characters could not be decoded, and were replaced with REPLACEMENT CHARACTER.\n"
          ]
        },
        {
          "output_type": "stream",
          "name": "stdout",
          "text": [
            "Error occurred while scraping the data: 'NoneType' object has no attribute 'find_all'\n",
            "Procesados 1070 de 1878 enlaces\n"
          ]
        },
        {
          "output_type": "stream",
          "name": "stderr",
          "text": [
            "WARNING:bs4.dammit:Some characters could not be decoded, and were replaced with REPLACEMENT CHARACTER.\n"
          ]
        },
        {
          "output_type": "stream",
          "name": "stdout",
          "text": [
            "Error occurred while scraping the data: 'NoneType' object has no attribute 'find_all'\n",
            "Error occurred while scraping the data: 404 Client Error: Not Found for url: https://www.mivau.gob.es/vivienda/actividades-servicios/urbanismo-y-politica-de-suelo/estudios-y-publicaciones\n",
            "Procesados 1080 de 1878 enlaces\n",
            "Error occurred while scraping the data: 400 Client Error: Bad Request for url: https://twitter.com/viviendagob\n",
            "Error occurred while scraping the data: 429 Client Error: Too Many Requests for url: https://www.instagram.com/accounts/login/?next=https%3A%2F%2Fwww.instagram.com%2Ftrabajogob%2F%3Fhl%3Des\n",
            "Procesados 1090 de 1878 enlaces\n"
          ]
        },
        {
          "output_type": "stream",
          "name": "stderr",
          "text": [
            "WARNING:bs4.dammit:Some characters could not be decoded, and were replaced with REPLACEMENT CHARACTER.\n"
          ]
        },
        {
          "output_type": "stream",
          "name": "stdout",
          "text": [
            "Error occurred while scraping the data: 'NoneType' object has no attribute 'find_all'\n"
          ]
        },
        {
          "output_type": "stream",
          "name": "stderr",
          "text": [
            "WARNING:bs4.dammit:Some characters could not be decoded, and were replaced with REPLACEMENT CHARACTER.\n"
          ]
        },
        {
          "output_type": "stream",
          "name": "stdout",
          "text": [
            "Error occurred while scraping the data: 'NoneType' object has no attribute 'find_all'\n",
            "Error occurred while scraping the data: HTTPSConnectionPool(host='www.bonosocial.gob.es', port=443): Max retries exceeded with url: / (Caused by SSLError(SSLError(1, '[SSL: UNSAFE_LEGACY_RENEGOTIATION_DISABLED] unsafe legacy renegotiation disabled (_ssl.c:1007)')))\n",
            "Procesados 1100 de 1878 enlaces\n",
            "Error occurred while scraping the data: HTTPSConnectionPool(host='www.inclusion.gob.es', port=443): Max retries exceeded with url: /web/migraciones/oberaxe (Caused by SSLError(SSLCertVerificationError(1, '[SSL: CERTIFICATE_VERIFY_FAILED] certificate verify failed: unable to get local issuer certificate (_ssl.c:1007)')))\n",
            "Procesados 1110 de 1878 enlaces\n",
            "Error occurred while scraping the data: 400 Client Error: Bad Request for url: https://twitter.com/ComunidadMadrid\n",
            "Error occurred while scraping the data: HTTPSConnectionPool(host='www.inclusion.gob.es', port=443): Max retries exceeded with url: /web/ucrania-urgente/home (Caused by SSLError(SSLCertVerificationError(1, '[SSL: CERTIFICATE_VERIFY_FAILED] certificate verify failed: unable to get local issuer certificate (_ssl.c:1007)')))\n",
            "Procesados 1120 de 1878 enlaces\n",
            "Error occurred while scraping the data: HTTPSConnectionPool(host='portal.mineco.gob.es', port=443): Max retries exceeded with url: /es-es/ministerio/brexit (Caused by SSLError(SSLCertVerificationError(1, '[SSL: CERTIFICATE_VERIFY_FAILED] certificate verify failed: unable to get local issuer certificate (_ssl.c:1007)')))\n",
            "Procesados 1130 de 1878 enlaces\n",
            "Error occurred while scraping the data: HTTPSConnectionPool(host='portal.mineco.gob.es', port=443): Max retries exceeded with url: /es-es/ministerio/publicaciones/papel (Caused by SSLError(SSLCertVerificationError(1, '[SSL: CERTIFICATE_VERIFY_FAILED] certificate verify failed: unable to get local issuer certificate (_ssl.c:1007)')))\n"
          ]
        },
        {
          "output_type": "stream",
          "name": "stderr",
          "text": [
            "WARNING:bs4.dammit:Some characters could not be decoded, and were replaced with REPLACEMENT CHARACTER.\n"
          ]
        },
        {
          "output_type": "stream",
          "name": "stdout",
          "text": [
            "Error occurred while scraping the data: 'NoneType' object has no attribute 'find_all'\n",
            "Procesados 1140 de 1878 enlaces\n",
            "Error occurred while scraping the data: HTTPSConnectionPool(host='portal.mineco.gob.es', port=443): Max retries exceeded with url: /es-es/ministerio/publicaciones (Caused by SSLError(SSLCertVerificationError(1, '[SSL: CERTIFICATE_VERIFY_FAILED] certificate verify failed: unable to get local issuer certificate (_ssl.c:1007)')))\n",
            "Error occurred while scraping the data: HTTPSConnectionPool(host='www.inclusion.gob.es', port=443): Max retries exceeded with url: /web/seguridad-social/altas-y-bajas (Caused by SSLError(SSLCertVerificationError(1, '[SSL: CERTIFICATE_VERIFY_FAILED] certificate verify failed: unable to get local issuer certificate (_ssl.c:1007)')))\n",
            "Procesados 1150 de 1878 enlaces\n",
            "Error occurred while scraping the data: ('Connection aborted.', RemoteDisconnected('Remote end closed connection without response'))\n",
            "Error occurred while scraping the data: 429 Client Error: Too Many Requests for url: https://www.instagram.com/accounts/login/?next=https%3A%2F%2Fwww.instagram.com%2FDefensaGob%2F\n"
          ]
        },
        {
          "output_type": "stream",
          "name": "stderr",
          "text": [
            "WARNING:bs4.dammit:Some characters could not be decoded, and were replaced with REPLACEMENT CHARACTER.\n"
          ]
        },
        {
          "output_type": "stream",
          "name": "stdout",
          "text": [
            "Error occurred while scraping the data: 'NoneType' object has no attribute 'find_all'\n",
            "Procesados 1160 de 1878 enlaces\n",
            "La solicitud a https://avancedigital.mineco.gob.es/es-es/Paginas/Programas.aspx excedió el tiempo máximo de espera.\n",
            "Procesados 1170 de 1878 enlaces\n",
            "Error occurred while scraping the data: HTTPSConnectionPool(host='www.inclusion.gob.es', port=443): Max retries exceeded with url: /web/guest/organizacion/se-migraciones (Caused by SSLError(SSLCertVerificationError(1, '[SSL: CERTIFICATE_VERIFY_FAILED] certificate verify failed: unable to get local issuer certificate (_ssl.c:1007)')))\n",
            "Error occurred while scraping the data: HTTPSConnectionPool(host='portal.mineco.gob.es', port=443): Max retries exceeded with url: /es-es/ministerio/infoservicios/perfilcontratante (Caused by SSLError(SSLCertVerificationError(1, '[SSL: CERTIFICATE_VERIFY_FAILED] certificate verify failed: unable to get local issuer certificate (_ssl.c:1007)')))\n",
            "Procesados 1180 de 1878 enlaces\n"
          ]
        },
        {
          "output_type": "stream",
          "name": "stderr",
          "text": [
            "WARNING:bs4.dammit:Some characters could not be decoded, and were replaced with REPLACEMENT CHARACTER.\n"
          ]
        },
        {
          "output_type": "stream",
          "name": "stdout",
          "text": [
            "Error occurred while scraping the data: 'NoneType' object has no attribute 'find_all'\n",
            "Procesados 1190 de 1878 enlaces\n",
            "Error occurred while scraping the data: HTTPSConnectionPool(host='portal.mineco.gob.es', port=443): Max retries exceeded with url: / (Caused by SSLError(SSLCertVerificationError(1, '[SSL: CERTIFICATE_VERIFY_FAILED] certificate verify failed: unable to get local issuer certificate (_ssl.c:1007)')))\n",
            "Error occurred while scraping the data: HTTPSConnectionPool(host='portal.mineco.gob.es', port=443): Max retries exceeded with url: /es-es/ministerio/participacionpublica/consultapublica (Caused by SSLError(SSLCertVerificationError(1, '[SSL: CERTIFICATE_VERIFY_FAILED] certificate verify failed: unable to get local issuer certificate (_ssl.c:1007)')))\n"
          ]
        },
        {
          "output_type": "stream",
          "name": "stderr",
          "text": [
            "WARNING:urllib3.connection:Failed to parse headers (url=https://sede.mdsocialesa2030.gob.es:443/): [MissingHeaderBodySeparatorDefect()], unparsed data: \"Content-security-policy : base-uri 'self'; object-src 'none'; media-src 'self'; child-src 'none'; frame-ancestors 'none'; connect-src 'self' https://*.google-analytics.com/; manifest-src 'self'; frame-src 'self' https://www.google.com/\\r\\nX-frame-options: DENY\\r\\nX-xss-protection: 1; mode=block\\r\\nX-content-type-options: nosniff\\r\\n\\r\\n\"\n",
            "Traceback (most recent call last):\n",
            "  File \"/usr/local/lib/python3.10/dist-packages/urllib3/connection.py\", line 464, in getresponse\n",
            "    assert_header_parsing(httplib_response.msg)\n",
            "  File \"/usr/local/lib/python3.10/dist-packages/urllib3/util/response.py\", line 88, in assert_header_parsing\n",
            "    raise HeaderParsingError(defects=defects, unparsed_data=unparsed_data)\n",
            "urllib3.exceptions.HeaderParsingError: [MissingHeaderBodySeparatorDefect()], unparsed data: \"Content-security-policy : base-uri 'self'; object-src 'none'; media-src 'self'; child-src 'none'; frame-ancestors 'none'; connect-src 'self' https://*.google-analytics.com/; manifest-src 'self'; frame-src 'self' https://www.google.com/\\r\\nX-frame-options: DENY\\r\\nX-xss-protection: 1; mode=block\\r\\nX-content-type-options: nosniff\\r\\n\\r\\n\"\n"
          ]
        },
        {
          "output_type": "stream",
          "name": "stdout",
          "text": [
            "Procesados 1200 de 1878 enlaces\n",
            "Error occurred while scraping the data: HTTPSConnectionPool(host='www.csd.gob.es', port=443): Max retries exceeded with url: /test.php/es/csd/organizacion/estructura-y-equipo-directivo (Caused by SSLError(SSLCertVerificationError(1, '[SSL: CERTIFICATE_VERIFY_FAILED] certificate verify failed: unable to get local issuer certificate (_ssl.c:1007)')))\n",
            "Procesados 1210 de 1878 enlaces\n",
            "Error occurred while scraping the data: 400 Client Error: Bad Request for url: https://twitter.com/territorialgob\n",
            "Error occurred while scraping the data: 'NoneType' object has no attribute 'find_all'\n",
            "Error occurred while scraping the data: HTTPSConnectionPool(host='www.inclusion.gob.es', port=443): Max retries exceeded with url: /aviso-legal (Caused by SSLError(SSLCertVerificationError(1, '[SSL: CERTIFICATE_VERIFY_FAILED] certificate verify failed: unable to get local issuer certificate (_ssl.c:1007)')))\n",
            "Procesados 1220 de 1878 enlaces\n",
            "Error occurred while scraping the data: HTTPSConnectionPool(host='www.inclusion.gob.es', port=443): Max retries exceeded with url: /web/guest/estadisticas-y-estudios/estadisticas/pensiones-y-prestaciones (Caused by SSLError(SSLCertVerificationError(1, '[SSL: CERTIFICATE_VERIFY_FAILED] certificate verify failed: unable to get local issuer certificate (_ssl.c:1007)')))\n",
            "Error occurred while scraping the data: HTTPSConnectionPool(host='www.inclusion.gob.es', port=443): Max retries exceeded with url: /web/seguridad-social/pensiones (Caused by SSLError(SSLCertVerificationError(1, '[SSL: CERTIFICATE_VERIFY_FAILED] certificate verify failed: unable to get local issuer certificate (_ssl.c:1007)')))\n",
            "Procesados 1230 de 1878 enlaces\n",
            "Error occurred while scraping the data: HTTPSConnectionPool(host='www.inclusion.gob.es', port=443): Max retries exceeded with url: /web/migraciones/informacion-util (Caused by SSLError(SSLCertVerificationError(1, '[SSL: CERTIFICATE_VERIFY_FAILED] certificate verify failed: unable to get local issuer certificate (_ssl.c:1007)')))\n",
            "Error occurred while scraping the data: 429 Client Error: Too Many Requests for url: https://www.instagram.com/accounts/login/?next=https%3A%2F%2Fwww.instagram.com%2Fterritorialgob%2F\n",
            "Procesados 1240 de 1878 enlaces\n"
          ]
        },
        {
          "output_type": "stream",
          "name": "stderr",
          "text": [
            "WARNING:bs4.dammit:Some characters could not be decoded, and were replaced with REPLACEMENT CHARACTER.\n"
          ]
        },
        {
          "output_type": "stream",
          "name": "stdout",
          "text": [
            "Error occurred while scraping the data: 'NoneType' object has no attribute 'find_all'\n"
          ]
        },
        {
          "output_type": "stream",
          "name": "stderr",
          "text": [
            "WARNING:bs4.dammit:Some characters could not be decoded, and were replaced with REPLACEMENT CHARACTER.\n"
          ]
        },
        {
          "output_type": "stream",
          "name": "stdout",
          "text": [
            "Error occurred while scraping the data: 'NoneType' object has no attribute 'find_all'\n",
            "Procesados 1250 de 1878 enlaces\n",
            "Error occurred while scraping the data: HTTPSConnectionPool(host='www.inclusion.gob.es', port=443): Max retries exceeded with url: /sitemap (Caused by SSLError(SSLCertVerificationError(1, '[SSL: CERTIFICATE_VERIFY_FAILED] certificate verify failed: unable to get local issuer certificate (_ssl.c:1007)')))\n",
            "Error occurred while scraping the data: 429 Client Error: Too Many Requests for url: https://www.instagram.com/accounts/login/?next=https%3A%2F%2Fwww.instagram.com%2Fviviendagob%2F\n",
            "Procesados 1260 de 1878 enlaces\n",
            "Error occurred while scraping the data: 403 Client Error: Forbidden for url: https://www.un.org/sustainabledevelopment/es/2015/09/la-asamblea-general-adopta-la-agenda-2030-para-el-desarrollo-sostenible/\n",
            "Procesados 1270 de 1878 enlaces\n"
          ]
        },
        {
          "output_type": "stream",
          "name": "stderr",
          "text": [
            "WARNING:bs4.dammit:Some characters could not be decoded, and were replaced with REPLACEMENT CHARACTER.\n"
          ]
        },
        {
          "output_type": "stream",
          "name": "stdout",
          "text": [
            "Error occurred while scraping the data: 'NoneType' object has no attribute 'find_all'\n",
            "Procesados 1280 de 1878 enlaces\n",
            "La solicitud a https://mpt.gob.es/prensa/agenda.html excedió el tiempo máximo de espera.\n",
            "Error occurred while scraping the data: HTTPSConnectionPool(host='www.inclusion.gob.es', port=443): Max retries exceeded with url: /web/migraciones/integracion (Caused by SSLError(SSLCertVerificationError(1, '[SSL: CERTIFICATE_VERIFY_FAILED] certificate verify failed: unable to get local issuer certificate (_ssl.c:1007)')))\n",
            "Error occurred while scraping the data: HTTPSConnectionPool(host='www.inclusion.gob.es', port=443): Max retries exceeded with url: /estadisticas (Caused by SSLError(SSLCertVerificationError(1, '[SSL: CERTIFICATE_VERIFY_FAILED] certificate verify failed: unable to get local issuer certificate (_ssl.c:1007)')))\n",
            "Procesados 1290 de 1878 enlaces\n",
            "Error occurred while scraping the data: HTTPSConnectionPool(host='www.inclusion.gob.es', port=443): Max retries exceeded with url: /el-ministerio/el-ministerio-en-el-mundo (Caused by SSLError(SSLCertVerificationError(1, '[SSL: CERTIFICATE_VERIFY_FAILED] certificate verify failed: unable to get local issuer certificate (_ssl.c:1007)')))\n",
            "La solicitud a http://www.foroinmigracion.es/ excedió el tiempo máximo de espera.\n",
            "Procesados 1300 de 1878 enlaces\n",
            "Error occurred while scraping the data: HTTPSConnectionPool(host='portal.mineco.gob.es', port=443): Max retries exceeded with url: /es-es/economiayempresa/Paginas/TesoroSeguros.aspx (Caused by SSLError(SSLCertVerificationError(1, '[SSL: CERTIFICATE_VERIFY_FAILED] certificate verify failed: unable to get local issuer certificate (_ssl.c:1007)')))\n",
            "Procesados 1310 de 1878 enlaces\n",
            "Error occurred while scraping the data: HTTPSConnectionPool(host='portal.mineco.gob.es', port=443): Max retries exceeded with url: /es-es/ministerio/Paginas/Contacto.aspx (Caused by SSLError(SSLCertVerificationError(1, '[SSL: CERTIFICATE_VERIFY_FAILED] certificate verify failed: unable to get local issuer certificate (_ssl.c:1007)')))\n",
            "Error occurred while scraping the data: HTTPSConnectionPool(host='www.inclusion.gob.es', port=443): Max retries exceeded with url: /web/seguridad-social/otras-prestaciones (Caused by SSLError(SSLCertVerificationError(1, '[SSL: CERTIFICATE_VERIFY_FAILED] certificate verify failed: unable to get local issuer certificate (_ssl.c:1007)')))\n",
            "Error occurred while scraping the data: HTTPSConnectionPool(host='www.inclusion.gob.es', port=443): Max retries exceeded with url: /web/guest/estadisticas-y-estudios/estadisticas/migraciones (Caused by SSLError(SSLCertVerificationError(1, '[SSL: CERTIFICATE_VERIFY_FAILED] certificate verify failed: unable to get local issuer certificate (_ssl.c:1007)')))\n",
            "Procesados 1320 de 1878 enlaces\n",
            "Error occurred while scraping the data: HTTPSConnectionPool(host='www.inclusion.gob.es', port=443): Max retries exceeded with url: /web/migraciones/contratacion-de-personas-refugiadas (Caused by SSLError(SSLCertVerificationError(1, '[SSL: CERTIFICATE_VERIFY_FAILED] certificate verify failed: unable to get local issuer certificate (_ssl.c:1007)')))\n",
            "Error occurred while scraping the data: HTTPSConnectionPool(host='www.inclusion.gob.es', port=443): Max retries exceeded with url: /web/guest/organizacion/subsecretaria (Caused by SSLError(SSLCertVerificationError(1, '[SSL: CERTIFICATE_VERIFY_FAILED] certificate verify failed: unable to get local issuer certificate (_ssl.c:1007)')))\n",
            "Procesados 1330 de 1878 enlaces\n"
          ]
        },
        {
          "output_type": "stream",
          "name": "stderr",
          "text": [
            "WARNING:bs4.dammit:Some characters could not be decoded, and were replaced with REPLACEMENT CHARACTER.\n"
          ]
        },
        {
          "output_type": "stream",
          "name": "stdout",
          "text": [
            "Error occurred while scraping the data: 'NoneType' object has no attribute 'find_all'\n",
            "Error occurred while scraping the data: HTTPSConnectionPool(host='datos.gob.es', port=443): Max retries exceeded with url: /es/ (Caused by SSLError(SSLCertVerificationError(1, '[SSL: CERTIFICATE_VERIFY_FAILED] certificate verify failed: unable to get local issuer certificate (_ssl.c:1007)')))\n",
            "Procesados 1340 de 1878 enlaces\n"
          ]
        },
        {
          "output_type": "stream",
          "name": "stderr",
          "text": [
            "WARNING:bs4.dammit:Some characters could not be decoded, and were replaced with REPLACEMENT CHARACTER.\n"
          ]
        },
        {
          "output_type": "stream",
          "name": "stdout",
          "text": [
            "Error occurred while scraping the data: 'NoneType' object has no attribute 'find_all'\n",
            "La solicitud a https://ssweb.seap.minhap.es/portalCCAA/ excedió el tiempo máximo de espera.\n",
            "Error occurred while scraping the data: HTTPSConnectionPool(host='portal.mineco.gob.es', port=443): Max retries exceeded with url: /es-es/ministerio/propuestas-legislativas-europeas (Caused by SSLError(SSLCertVerificationError(1, '[SSL: CERTIFICATE_VERIFY_FAILED] certificate verify failed: unable to get local issuer certificate (_ssl.c:1007)')))\n",
            "Error occurred while scraping the data: 404 Client Error: Not Found for url: https://prensa.mites.gob.es/webPrensa/index.htm\n",
            "Error occurred while scraping the data: HTTPSConnectionPool(host='www.inclusion.gob.es', port=443): Max retries exceeded with url: /web/laoposicionquellevatunombre (Caused by SSLError(SSLCertVerificationError(1, '[SSL: CERTIFICATE_VERIFY_FAILED] certificate verify failed: unable to get local issuer certificate (_ssl.c:1007)')))\n",
            "Procesados 1350 de 1878 enlaces\n",
            "Error occurred while scraping the data: HTTPSConnectionPool(host='www.inclusion.gob.es', port=443): Max retries exceeded with url: /web/inclusion/ingreso-minimo-vital/organos-de-gobernanza-imv (Caused by SSLError(SSLCertVerificationError(1, '[SSL: CERTIFICATE_VERIFY_FAILED] certificate verify failed: unable to get local issuer certificate (_ssl.c:1007)')))\n",
            "Error occurred while scraping the data: HTTPSConnectionPool(host='portal.mineco.gob.es', port=443): Max retries exceeded with url: /es-es/economiayempresa/Paginas/PoliticaEconomica.aspx (Caused by SSLError(SSLCertVerificationError(1, '[SSL: CERTIFICATE_VERIFY_FAILED] certificate verify failed: unable to get local issuer certificate (_ssl.c:1007)')))\n",
            "Procesados 1360 de 1878 enlaces\n",
            "Error occurred while scraping the data: HTTPSConnectionPool(host='www.inclusion.gob.es', port=443): Max retries exceeded with url: /comunicacion/redes-sociales (Caused by SSLError(SSLCertVerificationError(1, '[SSL: CERTIFICATE_VERIFY_FAILED] certificate verify failed: unable to get local issuer certificate (_ssl.c:1007)')))\n",
            "Procesados 1370 de 1878 enlaces\n",
            "Error occurred while scraping the data: 403 Client Error: Forbidden for url: http://transparencia.gob.es/\n",
            "Error occurred while scraping the data: HTTPSConnectionPool(host='www.inclusion.gob.es', port=443): Max retries exceeded with url: /w/la-pension-media-sube-casi-un-5-en-un-ano-gracias-a-la-revalorizacion-y-se-situa-en-1.252-euros-al-mes (Caused by SSLError(SSLCertVerificationError(1, '[SSL: CERTIFICATE_VERIFY_FAILED] certificate verify failed: unable to get local issuer certificate (_ssl.c:1007)')))\n",
            "Procesados 1380 de 1878 enlaces\n",
            "Error occurred while scraping the data: HTTPSConnectionPool(host='portal.mineco.gob.es', port=443): Max retries exceeded with url: /en-us/Pages/index.aspx (Caused by SSLError(SSLCertVerificationError(1, '[SSL: CERTIFICATE_VERIFY_FAILED] certificate verify failed: unable to get local issuer certificate (_ssl.c:1007)')))\n"
          ]
        },
        {
          "output_type": "stream",
          "name": "stderr",
          "text": [
            "WARNING:bs4.dammit:Some characters could not be decoded, and were replaced with REPLACEMENT CHARACTER.\n"
          ]
        },
        {
          "output_type": "stream",
          "name": "stdout",
          "text": [
            "Error occurred while scraping the data: 'NoneType' object has no attribute 'find_all'\n",
            "Procesados 1390 de 1878 enlaces\n",
            "Error occurred while scraping the data: HTTPSConnectionPool(host='portal.mineco.gob.es', port=443): Max retries exceeded with url: /es-es/ministerio/Paginas/Accesibilidad.aspx (Caused by SSLError(SSLCertVerificationError(1, '[SSL: CERTIFICATE_VERIFY_FAILED] certificate verify failed: unable to get local issuer certificate (_ssl.c:1007)')))\n",
            "Error occurred while scraping the data: 403 Client Error: Forbidden for url: https://spanish-presidency.consilium.europa.eu/\n",
            "Procesados 1400 de 1878 enlaces\n",
            "Procesados 1410 de 1878 enlaces\n",
            "Error occurred while scraping the data: HTTPSConnectionPool(host='portal.mineco.gob.es', port=443): Max retries exceeded with url: /gl-es/Paxinas/index.aspx (Caused by SSLError(SSLCertVerificationError(1, '[SSL: CERTIFICATE_VERIFY_FAILED] certificate verify failed: unable to get local issuer certificate (_ssl.c:1007)')))\n"
          ]
        },
        {
          "output_type": "stream",
          "name": "stderr",
          "text": [
            "WARNING:bs4.dammit:Some characters could not be decoded, and were replaced with REPLACEMENT CHARACTER.\n"
          ]
        },
        {
          "output_type": "stream",
          "name": "stdout",
          "text": [
            "Error occurred while scraping the data: 'NoneType' object has no attribute 'find_all'\n",
            "Error occurred while scraping the data: HTTPSConnectionPool(host='portal.mineco.gob.es', port=443): Max retries exceeded with url: /es-es/ministerio/biblioteca (Caused by SSLError(SSLCertVerificationError(1, '[SSL: CERTIFICATE_VERIFY_FAILED] certificate verify failed: unable to get local issuer certificate (_ssl.c:1007)')))\n",
            "Error occurred while scraping the data: HTTPSConnectionPool(host='portal.mineco.gob.es', port=443): Max retries exceeded with url: /es-es/comunicacion/Paginas/default.aspx (Caused by SSLError(SSLCertVerificationError(1, '[SSL: CERTIFICATE_VERIFY_FAILED] certificate verify failed: unable to get local issuer certificate (_ssl.c:1007)')))\n",
            "Procesados 1420 de 1878 enlaces\n",
            "Error occurred while scraping the data: HTTPSConnectionPool(host='portal.mineco.gob.es', port=443): Max retries exceeded with url: /es-es/ministerio/igualdadgenero/noticias (Caused by SSLError(SSLCertVerificationError(1, '[SSL: CERTIFICATE_VERIFY_FAILED] certificate verify failed: unable to get local issuer certificate (_ssl.c:1007)')))\n",
            "Error occurred while scraping the data: HTTPSConnectionPool(host='portal.mineco.gob.es', port=443): Max retries exceeded with url: /es-es/ministerio/covid19 (Caused by SSLError(SSLCertVerificationError(1, '[SSL: CERTIFICATE_VERIFY_FAILED] certificate verify failed: unable to get local issuer certificate (_ssl.c:1007)')))\n",
            "Procesados 1430 de 1878 enlaces\n",
            "Error occurred while scraping the data: HTTPSConnectionPool(host='www.inclusion.gob.es', port=443): Max retries exceeded with url: /web/inclusion/politicas-de-inclusion (Caused by SSLError(SSLCertVerificationError(1, '[SSL: CERTIFICATE_VERIFY_FAILED] certificate verify failed: unable to get local issuer certificate (_ssl.c:1007)')))\n",
            "Error occurred while scraping the data: HTTPSConnectionPool(host='portal.mineco.gob.es', port=443): Max retries exceeded with url: /es-es/comunicacion/contacto (Caused by SSLError(SSLCertVerificationError(1, '[SSL: CERTIFICATE_VERIFY_FAILED] certificate verify failed: unable to get local issuer certificate (_ssl.c:1007)')))\n",
            "Procesados 1440 de 1878 enlaces\n",
            "Procesados 1450 de 1878 enlaces\n",
            "Error occurred while scraping the data: HTTPSConnectionPool(host='ciudadaniaexterior.inclusion.gob.es', port=443): Max retries exceeded with url: /oficina-espanola-del-retorno (Caused by SSLError(SSLCertVerificationError(1, '[SSL: CERTIFICATE_VERIFY_FAILED] certificate verify failed: unable to get local issuer certificate (_ssl.c:1007)')))\n",
            "Error occurred while scraping the data: HTTPSConnectionPool(host='www.mpr.gob.es', port=443): Max retries exceeded with url: / (Caused by SSLError(SSLError(1, '[SSL: UNSAFE_LEGACY_RENEGOTIATION_DISABLED] unsafe legacy renegotiation disabled (_ssl.c:1007)')))\n",
            "Procesados 1460 de 1878 enlaces\n",
            "Error occurred while scraping the data: HTTPSConnectionPool(host='www.inclusion.gob.es', port=443): Max retries exceeded with url: /web/seguridad-social/vida-laboral (Caused by SSLError(SSLCertVerificationError(1, '[SSL: CERTIFICATE_VERIFY_FAILED] certificate verify failed: unable to get local issuer certificate (_ssl.c:1007)')))\n",
            "Error occurred while scraping the data: HTTPSConnectionPool(host='www.inclusion.gob.es', port=443): Max retries exceeded with url: /web/migraciones/fondos-europeos (Caused by SSLError(SSLCertVerificationError(1, '[SSL: CERTIFICATE_VERIFY_FAILED] certificate verify failed: unable to get local issuer certificate (_ssl.c:1007)')))\n",
            "Procesados 1470 de 1878 enlaces\n",
            "Error occurred while scraping the data: HTTPSConnectionPool(host='portal.mineco.gob.es', port=443): Max retries exceeded with url: /es-es/Paginas/index.aspx (Caused by SSLError(SSLCertVerificationError(1, '[SSL: CERTIFICATE_VERIFY_FAILED] certificate verify failed: unable to get local issuer certificate (_ssl.c:1007)')))\n",
            "Procesados 1480 de 1878 enlaces\n"
          ]
        },
        {
          "output_type": "stream",
          "name": "stderr",
          "text": [
            "WARNING:bs4.dammit:Some characters could not be decoded, and were replaced with REPLACEMENT CHARACTER.\n"
          ]
        },
        {
          "output_type": "stream",
          "name": "stdout",
          "text": [
            "Error occurred while scraping the data: 'NoneType' object has no attribute 'find_all'\n",
            "Error occurred while scraping the data: HTTPSConnectionPool(host='www.inclusion.gob.es', port=443): Max retries exceeded with url: /web/migraciones/normativa (Caused by SSLError(SSLCertVerificationError(1, '[SSL: CERTIFICATE_VERIFY_FAILED] certificate verify failed: unable to get local issuer certificate (_ssl.c:1007)')))\n",
            "Error occurred while scraping the data: 'NoneType' object has no attribute 'find_all'\n",
            "Procesados 1490 de 1878 enlaces\n",
            "Error occurred while scraping the data: 400 Client Error: Bad Request for url: https://twitter.com/_minecogob\n",
            "Error occurred while scraping the data: 'NoneType' object has no attribute 'find_all'\n",
            "Error occurred while scraping the data: 404 Client Error: Not found for url: https://www.sanidad.gob.es/profesionales/portada/home.htm\n",
            "Error occurred while scraping the data: HTTPSConnectionPool(host='portal.mineco.gob.es', port=443): Max retries exceeded with url: /es-es/ministerio/Paginas/sistema-integridad-publica-SIP-codigo-etico.aspx (Caused by SSLError(SSLCertVerificationError(1, '[SSL: CERTIFICATE_VERIFY_FAILED] certificate verify failed: unable to get local issuer certificate (_ssl.c:1007)')))\n",
            "Error occurred while scraping the data: HTTPSConnectionPool(host='www.inclusion.gob.es', port=443): Max retries exceeded with url: /comunicacion/revistas (Caused by SSLError(SSLCertVerificationError(1, '[SSL: CERTIFICATE_VERIFY_FAILED] certificate verify failed: unable to get local issuer certificate (_ssl.c:1007)')))\n",
            "Procesados 1500 de 1878 enlaces\n",
            "Error occurred while scraping the data: HTTPSConnectionPool(host='www.inclusion.gob.es', port=443): Max retries exceeded with url: /web/migraciones/ciudadania (Caused by SSLError(SSLCertVerificationError(1, '[SSL: CERTIFICATE_VERIFY_FAILED] certificate verify failed: unable to get local issuer certificate (_ssl.c:1007)')))\n",
            "Error occurred while scraping the data: 403 Client Error: Forbidden for url: https://www.renfe.es/\n",
            "Error occurred while scraping the data: HTTPSConnectionPool(host='www.inclusion.gob.es', port=443): Max retries exceeded with url: /comunicacion/galeria (Caused by SSLError(SSLCertVerificationError(1, '[SSL: CERTIFICATE_VERIFY_FAILED] certificate verify failed: unable to get local issuer certificate (_ssl.c:1007)')))\n",
            "Procesados 1510 de 1878 enlaces\n"
          ]
        },
        {
          "output_type": "stream",
          "name": "stderr",
          "text": [
            "WARNING:bs4.dammit:Some characters could not be decoded, and were replaced with REPLACEMENT CHARACTER.\n"
          ]
        },
        {
          "output_type": "stream",
          "name": "stdout",
          "text": [
            "Error occurred while scraping the data: 'NoneType' object has no attribute 'find_all'\n"
          ]
        },
        {
          "output_type": "stream",
          "name": "stderr",
          "text": [
            "WARNING:bs4.dammit:Some characters could not be decoded, and were replaced with REPLACEMENT CHARACTER.\n"
          ]
        },
        {
          "output_type": "stream",
          "name": "stdout",
          "text": [
            "Error occurred while scraping the data: 'NoneType' object has no attribute 'find_all'\n",
            "Procesados 1520 de 1878 enlaces\n",
            "Procesados 1530 de 1878 enlaces\n",
            "Error occurred while scraping the data: 400 Client Error: Bad Request for url: https://twitter.com/interiorgob\n",
            "Error occurred while scraping the data: 404 Client Error: Not Found for url: https://prensa.mites.gob.es/webPrensa/multimedia/videos\n",
            "Procesados 1540 de 1878 enlaces\n",
            "Error occurred while scraping the data: HTTPSConnectionPool(host='www.inclusion.gob.es', port=443): Max retries exceeded with url: /sede-electronica (Caused by SSLError(SSLCertVerificationError(1, '[SSL: CERTIFICATE_VERIFY_FAILED] certificate verify failed: unable to get local issuer certificate (_ssl.c:1007)')))\n",
            "Error occurred while scraping the data: HTTPSConnectionPool(host='portal.mineco.gob.es', port=443): Max retries exceeded with url: /es-es/ministerio/empleo (Caused by SSLError(SSLCertVerificationError(1, '[SSL: CERTIFICATE_VERIFY_FAILED] certificate verify failed: unable to get local issuer certificate (_ssl.c:1007)')))\n",
            "Error occurred while scraping the data: HTTPSConnectionPool(host='portal.mineco.gob.es', port=443): Max retries exceeded with url: /es-es/ministerio/infoservicios/reconocimientotitulos/Paginas/ART_CABECERA.aspx (Caused by SSLError(SSLCertVerificationError(1, '[SSL: CERTIFICATE_VERIFY_FAILED] certificate verify failed: unable to get local issuer certificate (_ssl.c:1007)')))\n",
            "Error occurred while scraping the data: HTTPSConnectionPool(host='portal.mineco.gob.es', port=443): Max retries exceeded with url: / (Caused by SSLError(SSLCertVerificationError(1, '[SSL: CERTIFICATE_VERIFY_FAILED] certificate verify failed: unable to get local issuer certificate (_ssl.c:1007)')))\n",
            "Error occurred while scraping the data: HTTPSConnectionPool(host='portal.mineco.gob.es', port=443): Max retries exceeded with url: /es-es/ministerio/Paginas/mapaweb.aspx (Caused by SSLError(SSLCertVerificationError(1, '[SSL: CERTIFICATE_VERIFY_FAILED] certificate verify failed: unable to get local issuer certificate (_ssl.c:1007)')))\n",
            "Procesados 1550 de 1878 enlaces\n",
            "Error occurred while scraping the data: HTTPSConnectionPool(host='cervantes.org', port=443): Max retries exceeded with url: / (Caused by SSLError(SSLCertVerificationError(1, '[SSL: CERTIFICATE_VERIFY_FAILED] certificate verify failed: unable to get local issuer certificate (_ssl.c:1007)')))\n",
            "Procesados 1560 de 1878 enlaces\n"
          ]
        },
        {
          "output_type": "stream",
          "name": "stderr",
          "text": [
            "WARNING:bs4.dammit:Some characters could not be decoded, and were replaced with REPLACEMENT CHARACTER.\n"
          ]
        },
        {
          "output_type": "stream",
          "name": "stdout",
          "text": [
            "Error occurred while scraping the data: 'NoneType' object has no attribute 'find_all'\n",
            "Procesados 1570 de 1878 enlaces\n",
            "Error occurred while scraping the data: 403 Client Error: Forbidden for url: http://administracion.gob.es/pag_Home/actualidadParticipacion/ParticipacionPublicaProyectosNormativos0.html\n",
            "Procesados 1580 de 1878 enlaces\n",
            "Error occurred while scraping the data: 404 Client Error: Not Found for url: https://www.mites.gob.es/opencms/INTERNET/https:/www.fondoseuropeos.hacienda.gob.es/sitios/dgfc/es-ES/paginas/feder.aspx\n",
            "Procesados 1590 de 1878 enlaces\n",
            "Error occurred while scraping the data: HTTPSConnectionPool(host='portal.mineco.gob.es', port=443): Max retries exceeded with url: /es-es/digitalizacionIA/Paginas/Semana-de-la-Administracion-Abierta.aspx (Caused by SSLError(SSLCertVerificationError(1, '[SSL: CERTIFICATE_VERIFY_FAILED] certificate verify failed: unable to get local issuer certificate (_ssl.c:1007)')))\n",
            "Procesados 1600 de 1878 enlaces\n",
            "Error occurred while scraping the data: HTTPSConnectionPool(host='portal.mineco.gob.es', port=443): Max retries exceeded with url: /es-es/digitalizacionIA/noticias (Caused by SSLError(SSLCertVerificationError(1, '[SSL: CERTIFICATE_VERIFY_FAILED] certificate verify failed: unable to get local issuer certificate (_ssl.c:1007)')))\n",
            "Procesados 1610 de 1878 enlaces\n",
            "Error occurred while scraping the data: HTTPSConnectionPool(host='www.inclusion.gob.es', port=443): Max retries exceeded with url: /web/inclusion/ingreso-minimo-vital/que-es (Caused by SSLError(SSLCertVerificationError(1, '[SSL: CERTIFICATE_VERIFY_FAILED] certificate verify failed: unable to get local issuer certificate (_ssl.c:1007)')))\n",
            "Error occurred while scraping the data: HTTPSConnectionPool(host='www.inclusion.gob.es', port=443): Max retries exceeded with url: /web/guest/organizacion/sg-inclusion (Caused by SSLError(SSLCertVerificationError(1, '[SSL: CERTIFICATE_VERIFY_FAILED] certificate verify failed: unable to get local issuer certificate (_ssl.c:1007)')))\n",
            "Error occurred while scraping the data: 404 Client Error: Not Found for url: https://prensa.mites.gob.es/webPrensa/listado-noticia\n",
            "Procesados 1620 de 1878 enlaces\n",
            "Error occurred while scraping the data: HTTPSConnectionPool(host='www.inclusion.gob.es', port=443): Max retries exceeded with url: /web/migraciones/atencion-humanitaria (Caused by SSLError(SSLCertVerificationError(1, '[SSL: CERTIFICATE_VERIFY_FAILED] certificate verify failed: unable to get local issuer certificate (_ssl.c:1007)')))\n",
            "Error occurred while scraping the data: HTTPSConnectionPool(host='portal.mineco.gob.es', port=443): Max retries exceeded with url: /es-es/ministerio/empleo/empleo-internacional/Paginas/default.aspx (Caused by SSLError(SSLCertVerificationError(1, '[SSL: CERTIFICATE_VERIFY_FAILED] certificate verify failed: unable to get local issuer certificate (_ssl.c:1007)')))\n",
            "Procesados 1630 de 1878 enlaces\n",
            "Error occurred while scraping the data: 400 Client Error: Bad Request for url: https://twitter.com/msocialgob/\n",
            "Error occurred while scraping the data: 429 Client Error: Too Many Requests for url: https://www.instagram.com/accounts/login/?next=https%3A%2F%2Fwww.instagram.com%2Fexteriores.maec%2F\n",
            "Procesados 1640 de 1878 enlaces\n",
            "Error occurred while scraping the data: HTTPSConnectionPool(host='www.inclusion.gob.es', port=443): Max retries exceeded with url: /web/guest/el-ministerio/quienes-somos (Caused by SSLError(SSLCertVerificationError(1, '[SSL: CERTIFICATE_VERIFY_FAILED] certificate verify failed: unable to get local issuer certificate (_ssl.c:1007)')))\n",
            "Procesados 1650 de 1878 enlaces\n"
          ]
        },
        {
          "output_type": "stream",
          "name": "stderr",
          "text": [
            "WARNING:bs4.dammit:Some characters could not be decoded, and were replaced with REPLACEMENT CHARACTER.\n"
          ]
        },
        {
          "output_type": "stream",
          "name": "stdout",
          "text": [
            "Error occurred while scraping the data: 'NoneType' object has no attribute 'find_all'\n",
            "Procesados 1660 de 1878 enlaces\n",
            "Procesados 1670 de 1878 enlaces\n",
            "Error occurred while scraping the data: HTTPSConnectionPool(host='www.inclusion.gob.es', port=443): Max retries exceeded with url: /web/guest/el-ministerio (Caused by SSLError(SSLCertVerificationError(1, '[SSL: CERTIFICATE_VERIFY_FAILED] certificate verify failed: unable to get local issuer certificate (_ssl.c:1007)')))\n",
            "Procesados 1680 de 1878 enlaces\n",
            "Error occurred while scraping the data: HTTPSConnectionPool(host='www.inclusion.gob.es', port=443): Max retries exceeded with url: /web/guest/comunicacion/galeria (Caused by SSLError(SSLCertVerificationError(1, '[SSL: CERTIFICATE_VERIFY_FAILED] certificate verify failed: unable to get local issuer certificate (_ssl.c:1007)')))\n"
          ]
        },
        {
          "output_type": "stream",
          "name": "stderr",
          "text": [
            "WARNING:bs4.dammit:Some characters could not be decoded, and were replaced with REPLACEMENT CHARACTER.\n"
          ]
        },
        {
          "output_type": "stream",
          "name": "stdout",
          "text": [
            "Error occurred while scraping the data: 'NoneType' object has no attribute 'find_all'\n",
            "Procesados 1690 de 1878 enlaces\n",
            "Error occurred while scraping the data: HTTPSConnectionPool(host='www.inclusion.gob.es', port=443): Max retries exceeded with url: /web/guest/brexit/seguridad-social (Caused by SSLError(SSLCertVerificationError(1, '[SSL: CERTIFICATE_VERIFY_FAILED] certificate verify failed: unable to get local issuer certificate (_ssl.c:1007)')))\n",
            "Error occurred while scraping the data: HTTPSConnectionPool(host='www.senasa.es', port=443): Max retries exceeded with url: / (Caused by SSLError(SSLCertVerificationError(1, '[SSL: CERTIFICATE_VERIFY_FAILED] certificate verify failed: unable to get local issuer certificate (_ssl.c:1007)')))\n",
            "Error occurred while scraping the data: HTTPSConnectionPool(host='portal.mineco.gob.es', port=443): Max retries exceeded with url: /es-es/economiayempresa/unidadmercado/mejoraregulacion (Caused by SSLError(SSLCertVerificationError(1, '[SSL: CERTIFICATE_VERIFY_FAILED] certificate verify failed: unable to get local issuer certificate (_ssl.c:1007)')))\n",
            "Procesados 1700 de 1878 enlaces\n",
            "Error occurred while scraping the data: HTTPSConnectionPool(host='www.inclusion.gob.es', port=443): Max retries exceeded with url: /web/migraciones/home (Caused by SSLError(SSLCertVerificationError(1, '[SSL: CERTIFICATE_VERIFY_FAILED] certificate verify failed: unable to get local issuer certificate (_ssl.c:1007)')))\n",
            "Error occurred while scraping the data: 400 Client Error: Bad Request for url: https://twitter.com/territorialgob/status/1726923512177389847?t=IyzaPLBNsltUrYuhrRoxtA&s=08\n",
            "Procesados 1710 de 1878 enlaces\n",
            "Error occurred while scraping the data: 404 Client Error: Not found for url: https://www.sanidad.gob.es/contactar/home.htm\n",
            "Error occurred while scraping the data: HTTPSConnectionPool(host='www.inclusion.gob.es', port=443): Max retries exceeded with url: /web/guest/tramites/ayudas (Caused by SSLError(SSLCertVerificationError(1, '[SSL: CERTIFICATE_VERIFY_FAILED] certificate verify failed: unable to get local issuer certificate (_ssl.c:1007)')))\n",
            "Error occurred while scraping the data: HTTPSConnectionPool(host='portal.mineco.gob.es', port=443): Max retries exceeded with url: /es-es/ministro/Paginas/fotografias.aspx (Caused by SSLError(SSLCertVerificationError(1, '[SSL: CERTIFICATE_VERIFY_FAILED] certificate verify failed: unable to get local issuer certificate (_ssl.c:1007)')))\n",
            "Procesados 1720 de 1878 enlaces\n"
          ]
        },
        {
          "output_type": "stream",
          "name": "stderr",
          "text": [
            "WARNING:bs4.dammit:Some characters could not be decoded, and were replaced with REPLACEMENT CHARACTER.\n"
          ]
        },
        {
          "output_type": "stream",
          "name": "stdout",
          "text": [
            "Error occurred while scraping the data: 'NoneType' object has no attribute 'find_all'\n",
            "Error occurred while scraping the data: HTTPSConnectionPool(host='www.inclusion.gob.es', port=443): Max retries exceeded with url: /documents/20121/970399/GUIA_sector_audiovisual_terceros.pdf/2f29f04c-8edc-69b2-25b6-0be41a04b461?t=1652263059474 (Caused by SSLError(SSLCertVerificationError(1, '[SSL: CERTIFICATE_VERIFY_FAILED] certificate verify failed: unable to get local issuer certificate (_ssl.c:1007)')))\n",
            "Procesados 1730 de 1878 enlaces\n",
            "Error occurred while scraping the data: HTTPSConnectionPool(host='www.csd.gob.es', port=443): Max retries exceeded with url: /es (Caused by SSLError(SSLCertVerificationError(1, '[SSL: CERTIFICATE_VERIFY_FAILED] certificate verify failed: unable to get local issuer certificate (_ssl.c:1007)')))\n",
            "Error occurred while scraping the data: 400 Client Error: Bad Request for url: https://twitter.com/setelecogob?lang=es\n",
            "Procesados 1740 de 1878 enlaces\n",
            "Error occurred while scraping the data: 400 Client Error: Bad Request for url: https://twitter.com/Defensagob\n",
            "Error occurred while scraping the data: HTTPSConnectionPool(host='www.inclusion.gob.es', port=443): Max retries exceeded with url: /w/la-ministra-de-inclusion-elma-saiz-se-reune-con-iffath-sharif-directora-de-proteccion-social-y-empleo-del-banco-mundial (Caused by SSLError(SSLCertVerificationError(1, '[SSL: CERTIFICATE_VERIFY_FAILED] certificate verify failed: unable to get local issuer certificate (_ssl.c:1007)')))\n",
            "Procesados 1750 de 1878 enlaces\n",
            "Error occurred while scraping the data: HTTPSConnectionPool(host='www.inclusion.gob.es', port=443): Max retries exceeded with url: /web/guest/el-ministerio/biografias (Caused by SSLError(SSLCertVerificationError(1, '[SSL: CERTIFICATE_VERIFY_FAILED] certificate verify failed: unable to get local issuer certificate (_ssl.c:1007)')))\n",
            "Error occurred while scraping the data: HTTPSConnectionPool(host='www.inclusion.gob.es', port=443): Max retries exceeded with url: /web/migraciones/estadisticas-opi (Caused by SSLError(SSLCertVerificationError(1, '[SSL: CERTIFICATE_VERIFY_FAILED] certificate verify failed: unable to get local issuer certificate (_ssl.c:1007)')))\n",
            "Procesados 1760 de 1878 enlaces\n",
            "Error occurred while scraping the data: HTTPSConnectionPool(host='www.inclusion.gob.es', port=443): Max retries exceeded with url: /web/migraciones/tipos-de-autorizacion (Caused by SSLError(SSLCertVerificationError(1, '[SSL: CERTIFICATE_VERIFY_FAILED] certificate verify failed: unable to get local issuer certificate (_ssl.c:1007)')))\n",
            "Error occurred while scraping the data: HTTPSConnectionPool(host='www.mpr.gob.es', port=443): Max retries exceeded with url: /memoriademocratica/Paginas/index.aspx (Caused by SSLError(SSLError(1, '[SSL: UNSAFE_LEGACY_RENEGOTIATION_DISABLED] unsafe legacy renegotiation disabled (_ssl.c:1007)')))\n",
            "Procesados 1770 de 1878 enlaces\n",
            "Error occurred while scraping the data: 403 Client Error: Forbidden for url: https://transparencia.gob.es/\n",
            "Error occurred while scraping the data: HTTPSConnectionPool(host='www.inclusion.gob.es', port=443): Max retries exceeded with url: /web/guest/comunicacion/redes-sociales (Caused by SSLError(SSLCertVerificationError(1, '[SSL: CERTIFICATE_VERIFY_FAILED] certificate verify failed: unable to get local issuer certificate (_ssl.c:1007)')))\n",
            "Procesados 1780 de 1878 enlaces\n"
          ]
        },
        {
          "output_type": "stream",
          "name": "stderr",
          "text": [
            "WARNING:bs4.dammit:Some characters could not be decoded, and were replaced with REPLACEMENT CHARACTER.\n"
          ]
        },
        {
          "output_type": "stream",
          "name": "stdout",
          "text": [
            "Error occurred while scraping the data: 'NoneType' object has no attribute 'find_all'\n",
            "Error occurred while scraping the data: 403 Client Error: Forbidden for url: https://administracion.gob.es\n",
            "Error occurred while scraping the data: HTTPSConnectionPool(host='www.inclusion.gob.es', port=443): Max retries exceeded with url: /w/la-ministra-elma-saiz-subraya-la-importante-proteccion-social-del-gobierno-en-melilla-donde-las-politicas-de-inclusion-benefician-a-una-de-cada-cinco-personas (Caused by SSLError(SSLCertVerificationError(1, '[SSL: CERTIFICATE_VERIFY_FAILED] certificate verify failed: unable to get local issuer certificate (_ssl.c:1007)')))\n",
            "Procesados 1790 de 1878 enlaces\n",
            "Error occurred while scraping the data: 'NoneType' object has no attribute 'find_all'\n",
            "Procesados 1800 de 1878 enlaces\n",
            "Error occurred while scraping the data: HTTPSConnectionPool(host='portal.mineco.gob.es', port=443): Max retries exceeded with url: /es-es/economiayempresa/unidadmercado (Caused by SSLError(SSLCertVerificationError(1, '[SSL: CERTIFICATE_VERIFY_FAILED] certificate verify failed: unable to get local issuer certificate (_ssl.c:1007)')))\n",
            "Error occurred while scraping the data: HTTPSConnectionPool(host='www.idae.es', port=443): Max retries exceeded with url: / (Caused by SSLError(SSLError(1, '[SSL: UNSAFE_LEGACY_RENEGOTIATION_DISABLED] unsafe legacy renegotiation disabled (_ssl.c:1007)')))\n",
            "Procesados 1810 de 1878 enlaces\n",
            "Procesados 1820 de 1878 enlaces\n",
            "Error occurred while scraping the data: HTTPSConnectionPool(host='portal.mineco.gob.es', port=443): Max retries exceeded with url: /es-es/ministerio/estrategias (Caused by SSLError(SSLCertVerificationError(1, '[SSL: CERTIFICATE_VERIFY_FAILED] certificate verify failed: unable to get local issuer certificate (_ssl.c:1007)')))\n",
            "Error occurred while scraping the data: No connection adapters were found for 'mailto: ?subject=Enviado desde https://avancedigital.mineco.gob.es&body=Creo que este contenido te puede interesar:%0ADigitalización e Inteligencia Artificial - Telecomunicaciones e Infraestructuras Digitales%0Ahttps://avancedigital.mineco.gob.es/es-es/Paginas/index.aspx%0A%0A'\n"
          ]
        },
        {
          "output_type": "stream",
          "name": "stderr",
          "text": [
            "WARNING:bs4.dammit:Some characters could not be decoded, and were replaced with REPLACEMENT CHARACTER.\n"
          ]
        },
        {
          "output_type": "stream",
          "name": "stdout",
          "text": [
            "Error occurred while scraping the data: 'NoneType' object has no attribute 'find_all'\n",
            "Error occurred while scraping the data: HTTPSConnectionPool(host='www.inclusion.gob.es', port=443): Max retries exceeded with url: /web/migraciones/vivir-en-el-extranjero (Caused by SSLError(SSLCertVerificationError(1, '[SSL: CERTIFICATE_VERIFY_FAILED] certificate verify failed: unable to get local issuer certificate (_ssl.c:1007)')))\n",
            "Error occurred while scraping the data: HTTPSConnectionPool(host='portal.mineco.gob.es', port=443): Max retries exceeded with url: /es-es/ministerio/participacionpublica (Caused by SSLError(SSLCertVerificationError(1, '[SSL: CERTIFICATE_VERIFY_FAILED] certificate verify failed: unable to get local issuer certificate (_ssl.c:1007)')))\n",
            "Procesados 1830 de 1878 enlaces\n"
          ]
        },
        {
          "output_type": "stream",
          "name": "stderr",
          "text": [
            "WARNING:bs4.dammit:Some characters could not be decoded, and were replaced with REPLACEMENT CHARACTER.\n"
          ]
        },
        {
          "output_type": "stream",
          "name": "stdout",
          "text": [
            "Error occurred while scraping the data: 'NoneType' object has no attribute 'find_all'\n",
            "Error occurred while scraping the data: HTTPSConnectionPool(host='portal.mineco.gob.es', port=443): Max retries exceeded with url: /es-es/ministerio/estrategias/paginas/Esquema_Nacional_de_Seguridad.aspx (Caused by SSLError(SSLCertVerificationError(1, '[SSL: CERTIFICATE_VERIFY_FAILED] certificate verify failed: unable to get local issuer certificate (_ssl.c:1007)')))\n",
            "Procesados 1840 de 1878 enlaces\n",
            "Error occurred while scraping the data: HTTPSConnectionPool(host='sede.fogasa.mites.gob.es', port=443): Max retries exceeded with url: / (Caused by SSLError(SSLCertVerificationError(1, '[SSL: CERTIFICATE_VERIFY_FAILED] certificate verify failed: unable to get local issuer certificate (_ssl.c:1007)')))\n",
            "Error occurred while scraping the data: 404 Client Error: Not found for url: https://www.sanidad.gob.es/mapaWeb/cargar.do\n",
            "Procesados 1850 de 1878 enlaces\n",
            "Error occurred while scraping the data: HTTPSConnectionPool(host='portal.mineco.gob.es', port=443): Max retries exceeded with url: /es-es/ministerio/areas-prioritarias (Caused by SSLError(SSLCertVerificationError(1, '[SSL: CERTIFICATE_VERIFY_FAILED] certificate verify failed: unable to get local issuer certificate (_ssl.c:1007)')))\n",
            "Procesados 1860 de 1878 enlaces\n",
            "Error occurred while scraping the data: HTTPSConnectionPool(host='www.reddecasas.es', port=443): Max retries exceeded with url: / (Caused by NewConnectionError('<urllib3.connection.HTTPSConnection object at 0x7f0258004490>: Failed to establish a new connection: [Errno 111] Connection refused'))\n",
            "Error occurred while scraping the data: HTTPSConnectionPool(host='www.inclusion.gob.es', port=443): Max retries exceeded with url: /web/guest/tramites-destacados (Caused by SSLError(SSLCertVerificationError(1, '[SSL: CERTIFICATE_VERIFY_FAILED] certificate verify failed: unable to get local issuer certificate (_ssl.c:1007)')))\n",
            "Error occurred while scraping the data: 500 Server Error: Internal Server Error for url: https://iee.mitma.gob.es/\n",
            "Procesados 1870 de 1878 enlaces\n"
          ]
        },
        {
          "output_type": "stream",
          "name": "stderr",
          "text": [
            "WARNING:bs4.dammit:Some characters could not be decoded, and were replaced with REPLACEMENT CHARACTER.\n"
          ]
        },
        {
          "output_type": "stream",
          "name": "stdout",
          "text": [
            "Error occurred while scraping the data: 'NoneType' object has no attribute 'find_all'\n",
            "Error occurred while scraping the data: 429 Client Error: Too Many Requests for url: https://www.instagram.com/accounts/login/?next=https%3A%2F%2Fwww.instagram.com%2Fmiteco.gob%2F\n",
            "Error occurred while scraping the data: HTTPSConnectionPool(host='www.inclusion.gob.es', port=443): Max retries exceeded with url: /web/guest/comunicacion/revistas (Caused by SSLError(SSLCertVerificationError(1, '[SSL: CERTIFICATE_VERIFY_FAILED] certificate verify failed: unable to get local issuer certificate (_ssl.c:1007)')))\n",
            "Procesados 1878 de 1878 enlaces\n"
          ]
        }
      ]
    },
    {
      "cell_type": "code",
      "source": [],
      "metadata": {
        "id": "gmjnA-rmi0dW"
      },
      "execution_count": null,
      "outputs": []
    },
    {
      "cell_type": "code",
      "source": [
        "#Para cada link se extraen los párrafos\n",
        "\n",
        "#lista_de_listas = [scrape_paragraphs(enlace) for enlace in df_enlaces['Enlaces']]\n",
        "\n",
        "# Preparar los datos para el DataFrame\n",
        "datos = [(df_enlaces['Enlaces'].iloc[i], parrafo) for i, lista in enumerate(resultados) for parrafo in lista]\n",
        "\n",
        "# Convertir en DataFrame\n",
        "df_parrafos = pd.DataFrame(datos, columns=['Enlace', 'Párrafo'])\n",
        "\n"
      ],
      "metadata": {
        "id": "InI5ZlfNL_0g"
      },
      "execution_count": null,
      "outputs": []
    },
    {
      "cell_type": "code",
      "source": [
        "df_parrafos.to_csv('párrafos.csv')"
      ],
      "metadata": {
        "id": "t847VvoCi6zN"
      },
      "execution_count": null,
      "outputs": []
    },
    {
      "cell_type": "code",
      "source": [
        "def crear_grupos_superpuestos(paragraphs):\n",
        "    # Generar grupos de párrafos superpuestos\n",
        "    grupos_superpuestos = [paragraphs[i:i+5] for i in range(0, len(paragraphs) - 1, 2)]\n",
        "    # Convierte cada grupo en un string\n",
        "    strings_de_grupos = [' '.join(grupo) for grupo in grupos_superpuestos]\n",
        "    return strings_de_grupos"
      ],
      "metadata": {
        "id": "_sgOM8n6RRHd"
      },
      "execution_count": null,
      "outputs": []
    },
    {
      "cell_type": "code",
      "source": [
        "\n",
        "#PARA PÁRRAFOS SUELTOS Y TEXTOS COMPLETOS:\n",
        "# Paso 1: Filtrar los párrafos por el recuento de palabras para eliminar párrafos que no contengan casi información\n",
        "df_parrafos_filtrados = df_parrafos[df_parrafos['Párrafo'].apply(lambda x: len(x.split()) >= 15)]\n",
        "\n",
        "#PARA UNIR LOS PÁRRAFOS\n",
        "# Paso 2: Agrupar los párrafos filtrados por enlace y aplicar crear_grupos_superpuestos\n",
        "df_grupos = df_parrafos_filtrados.groupby('Enlace')['Párrafo'].apply(lambda x: crear_grupos_superpuestos(x.tolist())).reset_index(name='Grupos')\n",
        "\n",
        "# Paso 3: Convertir cada grupo de párrafos en su propia fila\n",
        "df_grupos_expandidos = df_grupos.explode('Grupos').reset_index(drop=True)\n",
        "\n",
        "# Paso 4: Unir los grupos superpuestos por enlace en un solo texto\n",
        "df_unidos_por_enlace = df_grupos_expandidos.groupby('Enlace')['Grupos'].apply(lambda x: ' '.join([str(grupo) for grupo in x if grupo is not None])).reset_index(name='Texto Unido')\n",
        "\n",
        "\n"
      ],
      "metadata": {
        "id": "n08yKVeVMAbn"
      },
      "execution_count": null,
      "outputs": []
    },
    {
      "cell_type": "code",
      "source": [
        "#SOLO PARA PÁRRAFOS:\n",
        "\n",
        "\n",
        "df_parrafos_filtrados.to_csv('párrafos_más_de_15wds.csv')"
      ],
      "metadata": {
        "id": "hH6lhx-e6633"
      },
      "execution_count": null,
      "outputs": []
    },
    {
      "cell_type": "code",
      "source": [
        "import matplotlib.pyplot as plt\n",
        "#Calculamos la longitud de cada celda\n",
        "#df_unidos_por_enlace['Longitud'] = df_unidos_por_enlace['Texto Unido'].apply(lambda x: len(x.split()))\n",
        "\n",
        "#PARA PÁRRAFOS:\n",
        "df_parrafos_filtrados['Longitud'] = df_parrafos_filtrados['Párrafo'].apply(lambda x: len(x.split()))\n",
        "\n",
        "# Crear un histograma de la longitud de los textos\n",
        "plt.figure(figsize=(10, 6))\n",
        "\n",
        "#Para textos completos\n",
        "#plt.hist(df_unidos_por_enlace['Longitud'], bins=20, alpha=0.75, edgecolor='black')\n",
        "\n",
        "#Para párrafos\n",
        "plt.hist(df_parrafos_filtrados['Longitud'], bins=20, alpha=0.75, edgecolor='black')\n",
        "\n",
        "\n",
        "plt.xlabel('Longitud de las celdas (número de palabras)')\n",
        "plt.ylabel('Cantidad de Enlaces')\n",
        "plt.title('Distribución de la Longitud de Textos por Enlace')\n",
        "\n",
        "plt.grid(True)\n",
        "plt.tight_layout()\n",
        "plt.show()"
      ],
      "metadata": {
        "id": "EulePofAMGut",
        "colab": {
          "base_uri": "https://localhost:8080/",
          "height": 711
        },
        "outputId": "72f1fe85-971b-4693-88bc-b8885bac41a2"
      },
      "execution_count": null,
      "outputs": [
        {
          "output_type": "stream",
          "name": "stderr",
          "text": [
            "<ipython-input-116-7c70f9f105fe>:6: SettingWithCopyWarning: \n",
            "A value is trying to be set on a copy of a slice from a DataFrame.\n",
            "Try using .loc[row_indexer,col_indexer] = value instead\n",
            "\n",
            "See the caveats in the documentation: https://pandas.pydata.org/pandas-docs/stable/user_guide/indexing.html#returning-a-view-versus-a-copy\n",
            "  df_parrafos_filtrados['Longitud'] = df_parrafos_filtrados['Párrafo'].apply(lambda x: len(x.split()))\n"
          ]
        },
        {
          "output_type": "display_data",
          "data": {
            "text/plain": [
              "<Figure size 1000x600 with 1 Axes>"
            ],
            "image/png": "[encoded data removed]"
          },
          "metadata": {}
        }
      ]
    },
    {
      "cell_type": "code",
      "source": [
        "df_menos_de_600 = df_parrafos_filtrados[(df_parrafos_filtrados['Longitud'] >= 40) & (df_parrafos_filtrados['Longitud'] <= 300)]\n"
      ],
      "metadata": {
        "id": "jzERCcUyNRVW"
      },
      "execution_count": null,
      "outputs": []
    },
    {
      "cell_type": "code",
      "source": [
        "df_mas_de_600 = df_unidos_por_enlace[df_unidos_por_enlace['Longitud'] > 600  & (df_unidos_por_enlace['Longitud'] <= 1000)]\n"
      ],
      "metadata": {
        "id": "N4lItCKKnVXa"
      },
      "execution_count": null,
      "outputs": []
    },
    {
      "cell_type": "code",
      "source": [
        "#DESCARGAMOS EL DF\n",
        "\n",
        "df_menos_de_600.to_csv('párrafos_entre_40y300wds.csv')\n"
      ],
      "metadata": {
        "id": "9Lzhya9uSL5j"
      },
      "execution_count": null,
      "outputs": []
    },
    {
      "cell_type": "code",
      "source": [
        "df_mas_de_600.to_csv('masde600.csv')"
      ],
      "metadata": {
        "id": "R47kWtsAni91"
      },
      "execution_count": null,
      "outputs": []
    },
    {
      "cell_type": "code",
      "source": [
        "#FUNCIÓN POR SI QUEREMOS DIVIDIR LOS PÁRRAFOS MÁS LARGOS\n",
        "\n",
        "def dividir_en_tres(texto):\n",
        "    palabras = texto.split()\n",
        "    longitud_total = len(palabras)\n",
        "    tercio = longitud_total // 3\n",
        "    # Asegurarse de que tercio sea al menos 1 para evitar divisiones por cero.\n",
        "    tercio = max(tercio, 1)\n",
        "\n",
        "    # Dividir el texto en tres partes\n",
        "    parte1 = ' '.join(palabras[:tercio])\n",
        "    parte2 = ' '.join(palabras[tercio:tercio*2])\n",
        "    parte3 = ' '.join(palabras[tercio*2:])\n",
        "\n",
        "    return parte1, parte2, parte3\n",
        "\n",
        "# Aplicar la función de división a cada fila y expandir los resultados\n",
        "# Usaremos .apply(pd.Series) para convertir las tuplas resultantes en columnas separadas\n",
        "df_trozos = df_mas_de_600['Texto Unido'].apply(lambda x: dividir_en_tres(x)).apply(pd.Series)\n",
        "\n",
        "# Opcional: si quieres mantener los enlaces asociados con cada texto, asegúrate de incluir esa información\n",
        "df_trozos['Enlace'] = df_mas_de_600['Enlace'].values\n",
        "\n",
        "# Renombrar las columnas para reflejar que son partes de textos\n",
        "df_trozos.columns = ['Parte 1', 'Parte 2', 'Parte 3', 'Enlace']\n",
        "\n",
        "# Para un procesamiento posterior, es posible que quieras tener cada parte en su propia fila en lugar de en columnas separadas\n",
        "df_trozos_melt = df_trozos.melt(id_vars=['Enlace'], value_vars=['Parte 1', 'Parte 2', 'Parte 3'],\n",
        "                                var_name='Parte', value_name='Texto')\n"
      ],
      "metadata": {
        "id": "g77ptmcfoEnn"
      },
      "execution_count": null,
      "outputs": []
    },
    {
      "cell_type": "code",
      "source": [
        "df_trozos_melt.to_csv('trozos.csv')"
      ],
      "metadata": {
        "id": "H170WOH7ocBZ"
      },
      "execution_count": null,
      "outputs": []
    },
    {
      "cell_type": "code",
      "source": [
        "!pip install groq\n",
        "\n",
        "from groq import Groq\n",
        "from google.colab import userdata\n",
        "\n",
        "client = Groq(\n",
        "    api_key=userdata.get(\"GROQ_API_KEY\"),\n",
        ")\n"
      ],
      "metadata": {
        "id": "8fISbQ5LXYAy",
        "colab": {
          "base_uri": "https://localhost:8080/"
        },
        "outputId": "1845a3f7-de90-421f-f045-bfcac3230e62"
      },
      "execution_count": 2,
      "outputs": [
        {
          "output_type": "stream",
          "name": "stdout",
          "text": [
            "Collecting groq\n",
            "  Downloading groq-0.4.2-py3-none-any.whl (65 kB)\n",
            "\u001b[?25l     \u001b[90m━━━━━━━━━━━━━━━━━━━━━━━━━━━━━━━━━━━━━━━━\u001b[0m \u001b[32m0.0/65.7 kB\u001b[0m \u001b[31m?\u001b[0m eta \u001b[36m-:--:--\u001b[0m\r\u001b[2K     \u001b[91m━━━━━━━━━━━━━━━━━━━━━━━━━━━━━━━━━━━━━\u001b[0m\u001b[90m╺\u001b[0m\u001b[90m━━\u001b[0m \u001b[32m61.4/65.7 kB\u001b[0m \u001b[31m2.3 MB/s\u001b[0m eta \u001b[36m0:00:01\u001b[0m\r\u001b[2K     \u001b[90m━━━━━━━━━━━━━━━━━━━━━━━━━━━━━━━━━━━━━━━━\u001b[0m \u001b[32m65.7/65.7 kB\u001b[0m \u001b[31m1.6 MB/s\u001b[0m eta \u001b[36m0:00:00\u001b[0m\n",
            "\u001b[?25hRequirement already satisfied: anyio<5,>=3.5.0 in /usr/local/lib/python3.10/dist-packages (from groq) (3.7.1)\n",
            "Requirement already satisfied: distro<2,>=1.7.0 in /usr/lib/python3/dist-packages (from groq) (1.7.0)\n",
            "Collecting httpx<1,>=0.23.0 (from groq)\n",
            "  Downloading httpx-0.27.0-py3-none-any.whl (75 kB)\n",
            "\u001b[2K     \u001b[90m━━━━━━━━━━━━━━━━━━━━━━━━━━━━━━━━━━━━━━━━\u001b[0m \u001b[32m75.6/75.6 kB\u001b[0m \u001b[31m6.4 MB/s\u001b[0m eta \u001b[36m0:00:00\u001b[0m\n",
            "\u001b[?25hRequirement already satisfied: pydantic<3,>=1.9.0 in /usr/local/lib/python3.10/dist-packages (from groq) (2.6.4)\n",
            "Requirement already satisfied: sniffio in /usr/local/lib/python3.10/dist-packages (from groq) (1.3.1)\n",
            "Requirement already satisfied: typing-extensions<5,>=4.7 in /usr/local/lib/python3.10/dist-packages (from groq) (4.10.0)\n",
            "Requirement already satisfied: idna>=2.8 in /usr/local/lib/python3.10/dist-packages (from anyio<5,>=3.5.0->groq) (3.6)\n",
            "Requirement already satisfied: exceptiongroup in /usr/local/lib/python3.10/dist-packages (from anyio<5,>=3.5.0->groq) (1.2.0)\n",
            "Requirement already satisfied: certifi in /usr/local/lib/python3.10/dist-packages (from httpx<1,>=0.23.0->groq) (2024.2.2)\n",
            "Collecting httpcore==1.* (from httpx<1,>=0.23.0->groq)\n",
            "  Downloading httpcore-1.0.4-py3-none-any.whl (77 kB)\n",
            "\u001b[2K     \u001b[90m━━━━━━━━━━━━━━━━━━━━━━━━━━━━━━━━━━━━━━━━\u001b[0m \u001b[32m77.8/77.8 kB\u001b[0m \u001b[31m7.3 MB/s\u001b[0m eta \u001b[36m0:00:00\u001b[0m\n",
            "\u001b[?25hCollecting h11<0.15,>=0.13 (from httpcore==1.*->httpx<1,>=0.23.0->groq)\n",
            "  Downloading h11-0.14.0-py3-none-any.whl (58 kB)\n",
            "\u001b[2K     \u001b[90m━━━━━━━━━━━━━━━━━━━━━━━━━━━━━━━━━━━━━━━━\u001b[0m \u001b[32m58.3/58.3 kB\u001b[0m \u001b[31m5.3 MB/s\u001b[0m eta \u001b[36m0:00:00\u001b[0m\n",
            "\u001b[?25hRequirement already satisfied: annotated-types>=0.4.0 in /usr/local/lib/python3.10/dist-packages (from pydantic<3,>=1.9.0->groq) (0.6.0)\n",
            "Requirement already satisfied: pydantic-core==2.16.3 in /usr/local/lib/python3.10/dist-packages (from pydantic<3,>=1.9.0->groq) (2.16.3)\n",
            "Installing collected packages: h11, httpcore, httpx, groq\n",
            "Successfully installed groq-0.4.2 h11-0.14.0 httpcore-1.0.4 httpx-0.27.0\n"
          ]
        }
      ]
    },
    {
      "cell_type": "code",
      "source": [
        "#FUNCIÓN PARA USAR MIXTRAL EN EL DATASET\n",
        "\n",
        "def clarify_text (text):\n",
        "  prompt = \"\"\"Eres un experto en lenguaje claro en español que convierte cualquier texto en accesible y fácil de entender para todos. El texto original es sobre un tema específico (por ejemplo, un procedimiento administrativo, una descripción de un servicio, etc.) y quiero que sea reformulado siguiendo las pautas de lenguaje claro. Aquí están las directrices que me gustaría que siguieras:\n",
        "\n",
        "1. ESCRIBE DIRECTAMENTE EL TEXTO ACCESIBLE, SIN NINGUNA INTRODUCCIÓN COMO \"TEXTO CLARO:\", \"TEXTO ACCESIBLE\", O \"AQUÍ TIENES EL TEXTO:\".\n",
        "2. Bajo ninguna circunstancia escribas el texto original.\n",
        "\n",
        "3. Simplifica el vocabulario: Usa palabras sencillas y evita términos técnicos o jerga especializada. Cuando sea necesario utilizar un término técnico, incluye una breve explicación en términos simples.\n",
        "4. Sustituye las palabras difíciles administrativas por su explicación.\n",
        "5. Organiza la información en puntos o pasos claros: Esto ayuda a que el texto sea más fácil de seguir. Usa viñetas o números para los pasos o puntos importantes.\n",
        "\n",
        "6. Evita las oraciones largas y complicadas: Trata de mantener las oraciones cortas y al punto. Una idea por oración.\n",
        "\n",
        "7. Usa la voz activa en lugar de la pasiva: Esto hace que el texto sea más directo y fácil de leer.\n",
        "\n",
        "\n",
        "El objetivo es que el texto sea comprensible para adolescentes de 14 años, personas con un nivel básico de español, y aquellos con un bajo grado de alfabetización.\n",
        "IMPORTANTE: ESCRIBE SOLO EN ESPAÑOL!!!\n",
        "El texto es el siguiente:\n",
        "\"\"\"\n",
        "  if text is None:\n",
        "    return \" \"\n",
        "\n",
        "  if text is not None:\n",
        "    input = prompt + text\n",
        "    chat_completion = client.chat.completions.create(\n",
        "        messages=[\n",
        "            {\n",
        "                \"role\": \"user\",\n",
        "                \"content\": input,\n",
        "                }\n",
        "    ],\n",
        "        model=\"mixtral-8x7b-32768\",\n",
        "        temperature = 0.2\n",
        "        )\n",
        "    clarified_text = (chat_completion.choices[0].message.content)\n",
        "  return clarified_text"
      ],
      "metadata": {
        "id": "h9Q-V0G2XYii"
      },
      "execution_count": null,
      "outputs": []
    },
    {
      "cell_type": "code",
      "source": [
        "#FUNCIÓN CON PAUSA PARA NO SOBRECARGAR LA API\n",
        "\n",
        "\n",
        "def rellenar_texto_claro_con_pausas(df, incremento=20, pausa=60):\n",
        "    # Crear un nuevo DataFrame solo con la columna 'Texto Unido'\n",
        "    df_nuevo = df[['Texto Unido']].copy()\n",
        "\n",
        "    # Inicializar una nueva columna 'texto limpio' en el DataFrame nuevo\n",
        "    df_nuevo['texto limpio'] = None\n",
        "\n",
        "    total_filas = len(df_nuevo)\n",
        "    for inicio in range(0, total_filas, incremento):\n",
        "        fin = min(inicio + incremento, total_filas)\n",
        "\n",
        "        # Aplica la función clarify_text solo al segmento deseado y actualiza el nuevo DataFrame\n",
        "        df_nuevo['texto limpio'].iloc[inicio:fin] = df_nuevo['Texto Unido'].iloc[inicio:fin].apply(clarify_text)\n",
        "        print(f\"Rellenadas hasta la fila {fin}.\")\n",
        "\n",
        "        # Si no es la última iteración, pausa\n",
        "        if fin < total_filas:\n",
        "            print(f\"Pausando {pausa} segundos...\")\n",
        "            time.sleep(pausa)\n",
        "\n",
        "    return df_nuevo"
      ],
      "metadata": {
        "id": "K5NYPkJhpzPR"
      },
      "execution_count": null,
      "outputs": []
    },
    {
      "cell_type": "code",
      "source": [
        "df_menos_de_600.rename(columns={'Párrafo': 'Texto Unido'}, inplace=True)"
      ],
      "metadata": {
        "colab": {
          "base_uri": "https://localhost:8080/"
        },
        "id": "dqSaa32EQG5I",
        "outputId": "61bc2c91-0eda-4cf1-d515-c49fc3300eae"
      },
      "execution_count": null,
      "outputs": [
        {
          "output_type": "stream",
          "name": "stderr",
          "text": [
            "<ipython-input-122-5f17ed9b69b0>:1: SettingWithCopyWarning: \n",
            "A value is trying to be set on a copy of a slice from a DataFrame\n",
            "\n",
            "See the caveats in the documentation: https://pandas.pydata.org/pandas-docs/stable/user_guide/indexing.html#returning-a-view-versus-a-copy\n",
            "  df_menos_de_600.rename(columns={'Párrafo': 'Texto Unido'}, inplace=True)\n"
          ]
        }
      ]
    },
    {
      "cell_type": "code",
      "source": [
        "df_nuevo = rellenar_texto_claro_con_pausas(df_menos_de_600)"
      ],
      "metadata": {
        "colab": {
          "base_uri": "https://localhost:8080/"
        },
        "id": "pk_iZ56wp9iG",
        "outputId": "b3ffa9fc-1c0f-492f-d575-f3be1af0e2a6"
      },
      "execution_count": null,
      "outputs": [
        {
          "output_type": "stream",
          "name": "stdout",
          "text": [
            "Rellenadas hasta la fila 20.\n",
            "Pausando 60 segundos...\n",
            "Rellenadas hasta la fila 40.\n",
            "Pausando 60 segundos...\n",
            "Rellenadas hasta la fila 60.\n",
            "Pausando 60 segundos...\n",
            "Rellenadas hasta la fila 80.\n",
            "Pausando 60 segundos...\n",
            "Rellenadas hasta la fila 100.\n",
            "Pausando 60 segundos...\n",
            "Rellenadas hasta la fila 120.\n",
            "Pausando 60 segundos...\n",
            "Rellenadas hasta la fila 140.\n",
            "Pausando 60 segundos...\n",
            "Rellenadas hasta la fila 160.\n",
            "Pausando 60 segundos...\n",
            "Rellenadas hasta la fila 180.\n",
            "Pausando 60 segundos...\n",
            "Rellenadas hasta la fila 200.\n",
            "Pausando 60 segundos...\n",
            "Rellenadas hasta la fila 220.\n",
            "Pausando 60 segundos...\n",
            "Rellenadas hasta la fila 240.\n",
            "Pausando 60 segundos...\n",
            "Rellenadas hasta la fila 260.\n",
            "Pausando 60 segundos...\n",
            "Rellenadas hasta la fila 280.\n",
            "Pausando 60 segundos...\n",
            "Rellenadas hasta la fila 300.\n",
            "Pausando 60 segundos...\n",
            "Rellenadas hasta la fila 320.\n",
            "Pausando 60 segundos...\n",
            "Rellenadas hasta la fila 340.\n",
            "Pausando 60 segundos...\n",
            "Rellenadas hasta la fila 360.\n",
            "Pausando 60 segundos...\n",
            "Rellenadas hasta la fila 380.\n",
            "Pausando 60 segundos...\n",
            "Rellenadas hasta la fila 400.\n",
            "Pausando 60 segundos...\n",
            "Rellenadas hasta la fila 420.\n",
            "Pausando 60 segundos...\n",
            "Rellenadas hasta la fila 440.\n",
            "Pausando 60 segundos...\n",
            "Rellenadas hasta la fila 460.\n",
            "Pausando 60 segundos...\n",
            "Rellenadas hasta la fila 480.\n",
            "Pausando 60 segundos...\n",
            "Rellenadas hasta la fila 500.\n",
            "Pausando 60 segundos...\n",
            "Rellenadas hasta la fila 520.\n",
            "Pausando 60 segundos...\n",
            "Rellenadas hasta la fila 540.\n",
            "Pausando 60 segundos...\n",
            "Rellenadas hasta la fila 560.\n",
            "Pausando 60 segundos...\n",
            "Rellenadas hasta la fila 580.\n",
            "Pausando 60 segundos...\n",
            "Rellenadas hasta la fila 600.\n",
            "Pausando 60 segundos...\n",
            "Rellenadas hasta la fila 620.\n",
            "Pausando 60 segundos...\n",
            "Rellenadas hasta la fila 640.\n",
            "Pausando 60 segundos...\n",
            "Rellenadas hasta la fila 660.\n",
            "Pausando 60 segundos...\n",
            "Rellenadas hasta la fila 680.\n",
            "Pausando 60 segundos...\n",
            "Rellenadas hasta la fila 700.\n",
            "Pausando 60 segundos...\n",
            "Rellenadas hasta la fila 720.\n",
            "Pausando 60 segundos...\n",
            "Rellenadas hasta la fila 740.\n",
            "Pausando 60 segundos...\n",
            "Rellenadas hasta la fila 760.\n",
            "Pausando 60 segundos...\n",
            "Rellenadas hasta la fila 780.\n",
            "Pausando 60 segundos...\n",
            "Rellenadas hasta la fila 800.\n",
            "Pausando 60 segundos...\n",
            "Rellenadas hasta la fila 820.\n",
            "Pausando 60 segundos...\n",
            "Rellenadas hasta la fila 840.\n",
            "Pausando 60 segundos...\n",
            "Rellenadas hasta la fila 860.\n",
            "Pausando 60 segundos...\n",
            "Rellenadas hasta la fila 880.\n",
            "Pausando 60 segundos...\n",
            "Rellenadas hasta la fila 900.\n",
            "Pausando 60 segundos...\n",
            "Rellenadas hasta la fila 920.\n",
            "Pausando 60 segundos...\n",
            "Rellenadas hasta la fila 940.\n",
            "Pausando 60 segundos...\n",
            "Rellenadas hasta la fila 960.\n",
            "Pausando 60 segundos...\n",
            "Rellenadas hasta la fila 980.\n",
            "Pausando 60 segundos...\n",
            "Rellenadas hasta la fila 1000.\n",
            "Pausando 60 segundos...\n",
            "Rellenadas hasta la fila 1020.\n",
            "Pausando 60 segundos...\n",
            "Rellenadas hasta la fila 1040.\n",
            "Pausando 60 segundos...\n",
            "Rellenadas hasta la fila 1060.\n",
            "Pausando 60 segundos...\n",
            "Rellenadas hasta la fila 1080.\n",
            "Pausando 60 segundos...\n",
            "Rellenadas hasta la fila 1100.\n",
            "Pausando 60 segundos...\n",
            "Rellenadas hasta la fila 1120.\n",
            "Pausando 60 segundos...\n",
            "Rellenadas hasta la fila 1140.\n",
            "Pausando 60 segundos...\n",
            "Rellenadas hasta la fila 1160.\n",
            "Pausando 60 segundos...\n",
            "Rellenadas hasta la fila 1180.\n",
            "Pausando 60 segundos...\n",
            "Rellenadas hasta la fila 1200.\n",
            "Pausando 60 segundos...\n",
            "Rellenadas hasta la fila 1220.\n",
            "Pausando 60 segundos...\n",
            "Rellenadas hasta la fila 1240.\n",
            "Pausando 60 segundos...\n",
            "Rellenadas hasta la fila 1260.\n",
            "Pausando 60 segundos...\n",
            "Rellenadas hasta la fila 1280.\n",
            "Pausando 60 segundos...\n",
            "Rellenadas hasta la fila 1300.\n",
            "Pausando 60 segundos...\n",
            "Rellenadas hasta la fila 1320.\n",
            "Pausando 60 segundos...\n",
            "Rellenadas hasta la fila 1340.\n",
            "Pausando 60 segundos...\n",
            "Rellenadas hasta la fila 1360.\n",
            "Pausando 60 segundos...\n",
            "Rellenadas hasta la fila 1380.\n",
            "Pausando 60 segundos...\n",
            "Rellenadas hasta la fila 1400.\n",
            "Pausando 60 segundos...\n",
            "Rellenadas hasta la fila 1420.\n",
            "Pausando 60 segundos...\n",
            "Rellenadas hasta la fila 1440.\n",
            "Pausando 60 segundos...\n",
            "Rellenadas hasta la fila 1460.\n",
            "Pausando 60 segundos...\n",
            "Rellenadas hasta la fila 1480.\n",
            "Pausando 60 segundos...\n",
            "Rellenadas hasta la fila 1500.\n",
            "Pausando 60 segundos...\n",
            "Rellenadas hasta la fila 1520.\n",
            "Pausando 60 segundos...\n",
            "Rellenadas hasta la fila 1540.\n",
            "Pausando 60 segundos...\n",
            "Rellenadas hasta la fila 1560.\n",
            "Pausando 60 segundos...\n",
            "Rellenadas hasta la fila 1580.\n",
            "Pausando 60 segundos...\n",
            "Rellenadas hasta la fila 1600.\n",
            "Pausando 60 segundos...\n",
            "Rellenadas hasta la fila 1620.\n",
            "Pausando 60 segundos...\n",
            "Rellenadas hasta la fila 1640.\n",
            "Pausando 60 segundos...\n",
            "Rellenadas hasta la fila 1660.\n",
            "Pausando 60 segundos...\n",
            "Rellenadas hasta la fila 1680.\n",
            "Pausando 60 segundos...\n",
            "Rellenadas hasta la fila 1700.\n",
            "Pausando 60 segundos...\n",
            "Rellenadas hasta la fila 1720.\n",
            "Pausando 60 segundos...\n",
            "Rellenadas hasta la fila 1740.\n",
            "Pausando 60 segundos...\n",
            "Rellenadas hasta la fila 1760.\n",
            "Pausando 60 segundos...\n",
            "Rellenadas hasta la fila 1780.\n",
            "Pausando 60 segundos...\n",
            "Rellenadas hasta la fila 1800.\n",
            "Pausando 60 segundos...\n",
            "Rellenadas hasta la fila 1820.\n",
            "Pausando 60 segundos...\n",
            "Rellenadas hasta la fila 1840.\n",
            "Pausando 60 segundos...\n",
            "Rellenadas hasta la fila 1860.\n",
            "Pausando 60 segundos...\n",
            "Rellenadas hasta la fila 1880.\n",
            "Pausando 60 segundos...\n",
            "Rellenadas hasta la fila 1900.\n",
            "Pausando 60 segundos...\n",
            "Rellenadas hasta la fila 1920.\n",
            "Pausando 60 segundos...\n",
            "Rellenadas hasta la fila 1940.\n",
            "Pausando 60 segundos...\n",
            "Rellenadas hasta la fila 1960.\n",
            "Pausando 60 segundos...\n",
            "Rellenadas hasta la fila 1980.\n",
            "Pausando 60 segundos...\n",
            "Rellenadas hasta la fila 2000.\n",
            "Pausando 60 segundos...\n",
            "Rellenadas hasta la fila 2020.\n",
            "Pausando 60 segundos...\n",
            "Rellenadas hasta la fila 2040.\n",
            "Pausando 60 segundos...\n",
            "Rellenadas hasta la fila 2060.\n",
            "Pausando 60 segundos...\n",
            "Rellenadas hasta la fila 2080.\n",
            "Pausando 60 segundos...\n",
            "Rellenadas hasta la fila 2100.\n",
            "Pausando 60 segundos...\n",
            "Rellenadas hasta la fila 2120.\n",
            "Pausando 60 segundos...\n",
            "Rellenadas hasta la fila 2140.\n",
            "Pausando 60 segundos...\n",
            "Rellenadas hasta la fila 2160.\n",
            "Pausando 60 segundos...\n",
            "Rellenadas hasta la fila 2180.\n",
            "Pausando 60 segundos...\n",
            "Rellenadas hasta la fila 2200.\n",
            "Pausando 60 segundos...\n",
            "Rellenadas hasta la fila 2220.\n",
            "Pausando 60 segundos...\n",
            "Rellenadas hasta la fila 2240.\n",
            "Pausando 60 segundos...\n",
            "Rellenadas hasta la fila 2260.\n",
            "Pausando 60 segundos...\n",
            "Rellenadas hasta la fila 2280.\n",
            "Pausando 60 segundos...\n",
            "Rellenadas hasta la fila 2300.\n",
            "Pausando 60 segundos...\n",
            "Rellenadas hasta la fila 2320.\n",
            "Pausando 60 segundos...\n",
            "Rellenadas hasta la fila 2340.\n",
            "Pausando 60 segundos...\n",
            "Rellenadas hasta la fila 2360.\n",
            "Pausando 60 segundos...\n",
            "Rellenadas hasta la fila 2380.\n",
            "Pausando 60 segundos...\n",
            "Rellenadas hasta la fila 2400.\n",
            "Pausando 60 segundos...\n",
            "Rellenadas hasta la fila 2420.\n",
            "Pausando 60 segundos...\n",
            "Rellenadas hasta la fila 2440.\n",
            "Pausando 60 segundos...\n",
            "Rellenadas hasta la fila 2460.\n",
            "Pausando 60 segundos...\n",
            "Rellenadas hasta la fila 2480.\n",
            "Pausando 60 segundos...\n",
            "Rellenadas hasta la fila 2500.\n",
            "Pausando 60 segundos...\n",
            "Rellenadas hasta la fila 2520.\n",
            "Pausando 60 segundos...\n",
            "Rellenadas hasta la fila 2540.\n",
            "Pausando 60 segundos...\n",
            "Rellenadas hasta la fila 2560.\n",
            "Pausando 60 segundos...\n",
            "Rellenadas hasta la fila 2580.\n",
            "Pausando 60 segundos...\n",
            "Rellenadas hasta la fila 2600.\n",
            "Pausando 60 segundos...\n",
            "Rellenadas hasta la fila 2620.\n",
            "Pausando 60 segundos...\n",
            "Rellenadas hasta la fila 2640.\n",
            "Pausando 60 segundos...\n",
            "Rellenadas hasta la fila 2660.\n",
            "Pausando 60 segundos...\n",
            "Rellenadas hasta la fila 2680.\n",
            "Pausando 60 segundos...\n",
            "Rellenadas hasta la fila 2700.\n",
            "Pausando 60 segundos...\n",
            "Rellenadas hasta la fila 2720.\n",
            "Pausando 60 segundos...\n",
            "Rellenadas hasta la fila 2740.\n",
            "Pausando 60 segundos...\n",
            "Rellenadas hasta la fila 2760.\n",
            "Pausando 60 segundos...\n",
            "Rellenadas hasta la fila 2780.\n",
            "Pausando 60 segundos...\n",
            "Rellenadas hasta la fila 2800.\n",
            "Pausando 60 segundos...\n",
            "Rellenadas hasta la fila 2820.\n",
            "Pausando 60 segundos...\n",
            "Rellenadas hasta la fila 2840.\n",
            "Pausando 60 segundos...\n",
            "Rellenadas hasta la fila 2860.\n",
            "Pausando 60 segundos...\n",
            "Rellenadas hasta la fila 2880.\n",
            "Pausando 60 segundos...\n",
            "Rellenadas hasta la fila 2900.\n",
            "Pausando 60 segundos...\n",
            "Rellenadas hasta la fila 2920.\n",
            "Pausando 60 segundos...\n",
            "Rellenadas hasta la fila 2940.\n",
            "Pausando 60 segundos...\n",
            "Rellenadas hasta la fila 2960.\n",
            "Pausando 60 segundos...\n",
            "Rellenadas hasta la fila 2980.\n",
            "Pausando 60 segundos...\n",
            "Rellenadas hasta la fila 3000.\n",
            "Pausando 60 segundos...\n",
            "Rellenadas hasta la fila 3020.\n",
            "Pausando 60 segundos...\n",
            "Rellenadas hasta la fila 3040.\n",
            "Pausando 60 segundos...\n",
            "Rellenadas hasta la fila 3060.\n",
            "Pausando 60 segundos...\n",
            "Rellenadas hasta la fila 3080.\n",
            "Pausando 60 segundos...\n",
            "Rellenadas hasta la fila 3100.\n",
            "Pausando 60 segundos...\n",
            "Rellenadas hasta la fila 3120.\n",
            "Pausando 60 segundos...\n",
            "Rellenadas hasta la fila 3140.\n",
            "Pausando 60 segundos...\n",
            "Rellenadas hasta la fila 3160.\n",
            "Pausando 60 segundos...\n",
            "Rellenadas hasta la fila 3180.\n",
            "Pausando 60 segundos...\n",
            "Rellenadas hasta la fila 3200.\n",
            "Pausando 60 segundos...\n",
            "Rellenadas hasta la fila 3220.\n",
            "Pausando 60 segundos...\n",
            "Rellenadas hasta la fila 3240.\n",
            "Pausando 60 segundos...\n",
            "Rellenadas hasta la fila 3260.\n",
            "Pausando 60 segundos...\n",
            "Rellenadas hasta la fila 3280.\n",
            "Pausando 60 segundos...\n",
            "Rellenadas hasta la fila 3300.\n",
            "Pausando 60 segundos...\n",
            "Rellenadas hasta la fila 3320.\n",
            "Pausando 60 segundos...\n",
            "Rellenadas hasta la fila 3340.\n",
            "Pausando 60 segundos...\n",
            "Rellenadas hasta la fila 3360.\n",
            "Pausando 60 segundos...\n",
            "Rellenadas hasta la fila 3380.\n",
            "Pausando 60 segundos...\n",
            "Rellenadas hasta la fila 3400.\n",
            "Pausando 60 segundos...\n",
            "Rellenadas hasta la fila 3420.\n",
            "Pausando 60 segundos...\n",
            "Rellenadas hasta la fila 3440.\n",
            "Pausando 60 segundos...\n",
            "Rellenadas hasta la fila 3460.\n",
            "Pausando 60 segundos...\n",
            "Rellenadas hasta la fila 3480.\n",
            "Pausando 60 segundos...\n",
            "Rellenadas hasta la fila 3500.\n",
            "Pausando 60 segundos...\n",
            "Rellenadas hasta la fila 3520.\n",
            "Pausando 60 segundos...\n",
            "Rellenadas hasta la fila 3540.\n",
            "Pausando 60 segundos...\n",
            "Rellenadas hasta la fila 3560.\n",
            "Pausando 60 segundos...\n",
            "Rellenadas hasta la fila 3580.\n",
            "Pausando 60 segundos...\n",
            "Rellenadas hasta la fila 3600.\n",
            "Pausando 60 segundos...\n",
            "Rellenadas hasta la fila 3620.\n",
            "Pausando 60 segundos...\n",
            "Rellenadas hasta la fila 3640.\n",
            "Pausando 60 segundos...\n",
            "Rellenadas hasta la fila 3660.\n",
            "Pausando 60 segundos...\n",
            "Rellenadas hasta la fila 3680.\n",
            "Pausando 60 segundos...\n",
            "Rellenadas hasta la fila 3700.\n",
            "Pausando 60 segundos...\n",
            "Rellenadas hasta la fila 3720.\n",
            "Pausando 60 segundos...\n",
            "Rellenadas hasta la fila 3740.\n",
            "Pausando 60 segundos...\n",
            "Rellenadas hasta la fila 3760.\n",
            "Pausando 60 segundos...\n",
            "Rellenadas hasta la fila 3780.\n",
            "Pausando 60 segundos...\n",
            "Rellenadas hasta la fila 3800.\n",
            "Pausando 60 segundos...\n",
            "Rellenadas hasta la fila 3820.\n",
            "Pausando 60 segundos...\n",
            "Rellenadas hasta la fila 3840.\n",
            "Pausando 60 segundos...\n",
            "Rellenadas hasta la fila 3860.\n",
            "Pausando 60 segundos...\n",
            "Rellenadas hasta la fila 3880.\n",
            "Pausando 60 segundos...\n",
            "Rellenadas hasta la fila 3900.\n",
            "Pausando 60 segundos...\n",
            "Rellenadas hasta la fila 3920.\n",
            "Pausando 60 segundos...\n",
            "Rellenadas hasta la fila 3940.\n",
            "Pausando 60 segundos...\n",
            "Rellenadas hasta la fila 3960.\n",
            "Pausando 60 segundos...\n",
            "Rellenadas hasta la fila 3980.\n",
            "Pausando 60 segundos...\n",
            "Rellenadas hasta la fila 4000.\n",
            "Pausando 60 segundos...\n",
            "Rellenadas hasta la fila 4020.\n",
            "Pausando 60 segundos...\n",
            "Rellenadas hasta la fila 4040.\n",
            "Pausando 60 segundos...\n",
            "Rellenadas hasta la fila 4060.\n",
            "Pausando 60 segundos...\n",
            "Rellenadas hasta la fila 4080.\n",
            "Pausando 60 segundos...\n",
            "Rellenadas hasta la fila 4094.\n"
          ]
        }
      ]
    },
    {
      "cell_type": "code",
      "source": [
        "df_nuevo.to_csv('evaluado.csv')"
      ],
      "metadata": {
        "id": "_7BEONK5y2UR"
      },
      "execution_count": null,
      "outputs": []
    },
    {
      "cell_type": "code",
      "source": [
        "#RESTAURAMOS EL DATASET:\n",
        "\n",
        "df_nuevo = pd.read_csv('dataset.csv')"
      ],
      "metadata": {
        "id": "p1nAmHU8hSFe"
      },
      "execution_count": 3,
      "outputs": []
    },
    {
      "cell_type": "code",
      "source": [
        "print(df_nuevo.head(20))"
      ],
      "metadata": {
        "colab": {
          "base_uri": "https://localhost:8080/"
        },
        "id": "ulrEaCLmkUgX",
        "outputId": "f78d08d0-96b2-45c1-b8b7-aafd7f577626"
      },
      "execution_count": 10,
      "outputs": [
        {
          "output_type": "stream",
          "name": "stdout",
          "text": [
            "    Unnamed: 0                                        Texto Unido  \\\n",
            "0            0  El Ministerio de Transportes y Movilidad Soste...   \n",
            "1            1  El Ministerio de Transportes y Movilidad Soste...   \n",
            "2            2  El Ministerio de Transportes y Movilidad Soste...   \n",
            "3            3  El Ministerio de Transportes y Movilidad Soste...   \n",
            "4            4  El Ministerio de Transportes y Movilidad Soste...   \n",
            "5            5  El secretario de Estado de Transportes y Movil...   \n",
            "6            6  El Ministerio de Transportes y Movilidad Soste...   \n",
            "7            7  El ministro de Transportes y Movilidad Sosteni...   \n",
            "8            8  El ministro de Transportes y Movilidad Sosteni...   \n",
            "9            9  El ministro de Transportes y Movilidad Sosteni...   \n",
            "10          13  Las homologaciones en España de los títulos ob...   \n",
            "11          17  Los alumnos que proceden de cualquier sistema ...   \n",
            "12          18  En relación a los estudios de Formación Profes...   \n",
            "13          21  Para ejercer la profesión de maestro de primar...   \n",
            "14          22  Al tratarse de profesiones reguladas tanto en ...   \n",
            "15          23  Los docentes que ya residían y trabajaban en R...   \n",
            "16          26  Hasta el momento los alumnos y alumnas procede...   \n",
            "17          27  Se ha acordado, pero solo para el acceso a los...   \n",
            "18          28  Acuerdo entre los Ministerios de Universidades...   \n",
            "19          30  En todo caso, a partir del 1 de enero de 2021 ...   \n",
            "\n",
            "                                         texto limpio  \n",
            "0   El Ministerio de Transportes y Movilidad Soste...  \n",
            "1   La Dirección General de Carreteras (DGC) va a ...  \n",
            "2   El Ministerio de Transportes y Movilidad Soste...  \n",
            "3   El Ministerio de Transportes y Movilidad Soste...  \n",
            "4   El Ministerio de Transportes y Movilidad Soste...  \n",
            "5   El Secretario de Estado de Transportes y Movil...  \n",
            "6   El Ministerio de Transportes y Movilidad Soste...  \n",
            "7   El ministro de Transporte y Movilidad Sostenib...  \n",
            "8   El ministro de Transporte y Movilidad Sostenib...  \n",
            "9   El ministro de Transporte y Movilidad Sostenib...  \n",
            "10  Para validar en España títulos conseguidos en ...  \n",
            "11  -Si un estudiante viene de un sistema educativ...  \n",
            "12  -Si un estudiante ha completado su educación e...  \n",
            "13  Para ser maestro de primaria o profesor de sec...  \n",
            "14  Si una profesión está regulada tanto en España...  \n",
            "15  - Profesores que ya vivían y trabajaban en Rei...  \n",
            "16  - Hasta ahora, los estudiantes que provienen d...  \n",
            "17                    - Durante los años 2021-2022, 2  \n",
            "18  Acuerdo de colaboración educativa entre España...  \n",
            "19  - A partir del 1 de enero de 2021, si no hay a...  \n"
          ]
        }
      ]
    },
    {
      "cell_type": "code",
      "source": [
        "def eval_rewrite (text_org, text_reesc):\n",
        "  prompt =\"\"\"Eres un experto en lenguaje claro en español.\n",
        "  Dado un par de textos, evalúa si el segundo texto presenta la misma información que el segundo, pero de de forma más clara. Responde únicamente \"SÍ\" o \"NO\"\n",
        "IMPORTANTE: CÍÑETE A LA RESPUESTA (SÍ o NO), NO ESCRIBAS NADA MÁS\n",
        "\n",
        "Los textos son los siguientes:\n",
        "\"\"\"\n",
        "  input = prompt + \"texto original: \" + text_org + \"texto reescrito: \"\n",
        "\n",
        "  chat_completion = client.chat.completions.create(\n",
        "    messages=[\n",
        "        {\n",
        "            \"role\": \"user\",\n",
        "            \"content\": input,\n",
        "        }\n",
        "    ],\n",
        "    model=\"llama2-70b-4096\",\n",
        ")\n",
        "\n",
        "  return (chat_completion.choices[0].message.content)"
      ],
      "metadata": {
        "id": "UaxNiMdDiJSi"
      },
      "execution_count": 14,
      "outputs": []
    },
    {
      "cell_type": "code",
      "source": [
        "#PROBAMOS CON LOS PROMPTS\n",
        "\n",
        "df_nuevo_pruebas = df_nuevo.head(20)\n",
        "df_nuevo_pruebas['Evaluación'] = df_nuevo_pruebas.apply(lambda row: eval_rewrite(row['Texto Unido'], row['texto limpio']), axis=1)"
      ],
      "metadata": {
        "colab": {
          "base_uri": "https://localhost:8080/"
        },
        "id": "KYD_Iexej_Ak",
        "outputId": "21e7feff-82e9-4b05-832c-66bba45d7a2a"
      },
      "execution_count": 15,
      "outputs": [
        {
          "output_type": "stream",
          "name": "stderr",
          "text": [
            "<ipython-input-15-7a3da8cf953e>:1: SettingWithCopyWarning: \n",
            "A value is trying to be set on a copy of a slice from a DataFrame.\n",
            "Try using .loc[row_indexer,col_indexer] = value instead\n",
            "\n",
            "See the caveats in the documentation: https://pandas.pydata.org/pandas-docs/stable/user_guide/indexing.html#returning-a-view-versus-a-copy\n",
            "  df_nuevo_pruebas['Evaluación'] = df_nuevo_pruebas.apply(lambda row: eval_rewrite(row['Texto Unido'], row['texto limpio']), axis=1)\n"
          ]
        }
      ]
    },
    {
      "cell_type": "code",
      "source": [
        "import time\n",
        "\n",
        "# Añadir una nueva columna al DataFrame para almacenar los resultados\n",
        "df_nuevo['Evaluación'] = None\n",
        "\n",
        "# Definir el tamaño del batch\n",
        "batch_size = 100\n",
        "\n",
        "# Calcular el número total de batches\n",
        "total_batches = (len(df_nuevo) + batch_size - 1) // batch_size\n",
        "\n",
        "for i in range(total_batches):\n",
        "    inicio = i * batch_size\n",
        "    fin = inicio + batch_size\n",
        "    print(f\"Procesando batch {i+1} de {total_batches}: filas {inicio} a {min(fin, len(df_nuevo))}\")\n",
        "\n",
        "    # Aplicar eval_rewrite a cada batch\n",
        "    df_nuevo.loc[inicio:fin-1, 'Evaluación'] = df_nuevo.iloc[inicio:fin].apply(lambda row: eval_rewrite(row['Texto Unido'], row['texto limpio']), axis=1)\n",
        "\n",
        "    # Esperar 1 minuto entre cada batch, excepto después del último\n",
        "    if i < total_batches - 1:\n",
        "        print(\"Esperando 1 minuto antes de continuar con el siguiente batch...\")\n",
        "        time.sleep(60)"
      ],
      "metadata": {
        "colab": {
          "base_uri": "https://localhost:8080/"
        },
        "id": "yp7j6uq5nE3F",
        "outputId": "9361a2c9-4431-4483-e9e7-0c484d56dfb6"
      },
      "execution_count": 19,
      "outputs": [
        {
          "output_type": "stream",
          "name": "stdout",
          "text": [
            "Procesando batch 1 de 41: filas 0 a 100\n",
            "Esperando 1 minuto antes de continuar con el siguiente batch...\n",
            "Procesando batch 2 de 41: filas 100 a 200\n",
            "Esperando 1 minuto antes de continuar con el siguiente batch...\n",
            "Procesando batch 3 de 41: filas 200 a 300\n",
            "Esperando 1 minuto antes de continuar con el siguiente batch...\n",
            "Procesando batch 4 de 41: filas 300 a 400\n",
            "Esperando 1 minuto antes de continuar con el siguiente batch...\n",
            "Procesando batch 5 de 41: filas 400 a 500\n",
            "Esperando 1 minuto antes de continuar con el siguiente batch...\n",
            "Procesando batch 6 de 41: filas 500 a 600\n",
            "Esperando 1 minuto antes de continuar con el siguiente batch...\n",
            "Procesando batch 7 de 41: filas 600 a 700\n",
            "Esperando 1 minuto antes de continuar con el siguiente batch...\n",
            "Procesando batch 8 de 41: filas 700 a 800\n",
            "Esperando 1 minuto antes de continuar con el siguiente batch...\n",
            "Procesando batch 9 de 41: filas 800 a 900\n",
            "Esperando 1 minuto antes de continuar con el siguiente batch...\n",
            "Procesando batch 10 de 41: filas 900 a 1000\n",
            "Esperando 1 minuto antes de continuar con el siguiente batch...\n",
            "Procesando batch 11 de 41: filas 1000 a 1100\n",
            "Esperando 1 minuto antes de continuar con el siguiente batch...\n",
            "Procesando batch 12 de 41: filas 1100 a 1200\n",
            "Esperando 1 minuto antes de continuar con el siguiente batch...\n",
            "Procesando batch 13 de 41: filas 1200 a 1300\n",
            "Esperando 1 minuto antes de continuar con el siguiente batch...\n",
            "Procesando batch 14 de 41: filas 1300 a 1400\n",
            "Esperando 1 minuto antes de continuar con el siguiente batch...\n",
            "Procesando batch 15 de 41: filas 1400 a 1500\n",
            "Esperando 1 minuto antes de continuar con el siguiente batch...\n",
            "Procesando batch 16 de 41: filas 1500 a 1600\n",
            "Esperando 1 minuto antes de continuar con el siguiente batch...\n",
            "Procesando batch 17 de 41: filas 1600 a 1700\n",
            "Esperando 1 minuto antes de continuar con el siguiente batch...\n",
            "Procesando batch 18 de 41: filas 1700 a 1800\n",
            "Esperando 1 minuto antes de continuar con el siguiente batch...\n",
            "Procesando batch 19 de 41: filas 1800 a 1900\n",
            "Esperando 1 minuto antes de continuar con el siguiente batch...\n",
            "Procesando batch 20 de 41: filas 1900 a 2000\n",
            "Esperando 1 minuto antes de continuar con el siguiente batch...\n",
            "Procesando batch 21 de 41: filas 2000 a 2100\n",
            "Esperando 1 minuto antes de continuar con el siguiente batch...\n",
            "Procesando batch 22 de 41: filas 2100 a 2200\n",
            "Esperando 1 minuto antes de continuar con el siguiente batch...\n",
            "Procesando batch 23 de 41: filas 2200 a 2300\n",
            "Esperando 1 minuto antes de continuar con el siguiente batch...\n",
            "Procesando batch 24 de 41: filas 2300 a 2400\n",
            "Esperando 1 minuto antes de continuar con el siguiente batch...\n",
            "Procesando batch 25 de 41: filas 2400 a 2500\n",
            "Esperando 1 minuto antes de continuar con el siguiente batch...\n",
            "Procesando batch 26 de 41: filas 2500 a 2600\n",
            "Esperando 1 minuto antes de continuar con el siguiente batch...\n",
            "Procesando batch 27 de 41: filas 2600 a 2700\n",
            "Esperando 1 minuto antes de continuar con el siguiente batch...\n",
            "Procesando batch 28 de 41: filas 2700 a 2800\n",
            "Esperando 1 minuto antes de continuar con el siguiente batch...\n",
            "Procesando batch 29 de 41: filas 2800 a 2900\n",
            "Esperando 1 minuto antes de continuar con el siguiente batch...\n",
            "Procesando batch 30 de 41: filas 2900 a 3000\n",
            "Esperando 1 minuto antes de continuar con el siguiente batch...\n",
            "Procesando batch 31 de 41: filas 3000 a 3100\n",
            "Esperando 1 minuto antes de continuar con el siguiente batch...\n",
            "Procesando batch 32 de 41: filas 3100 a 3200\n",
            "Esperando 1 minuto antes de continuar con el siguiente batch...\n",
            "Procesando batch 33 de 41: filas 3200 a 3300\n",
            "Esperando 1 minuto antes de continuar con el siguiente batch...\n",
            "Procesando batch 34 de 41: filas 3300 a 3400\n",
            "Esperando 1 minuto antes de continuar con el siguiente batch...\n",
            "Procesando batch 35 de 41: filas 3400 a 3500\n",
            "Esperando 1 minuto antes de continuar con el siguiente batch...\n",
            "Procesando batch 36 de 41: filas 3500 a 3600\n",
            "Esperando 1 minuto antes de continuar con el siguiente batch...\n",
            "Procesando batch 37 de 41: filas 3600 a 3700\n",
            "Esperando 1 minuto antes de continuar con el siguiente batch...\n",
            "Procesando batch 38 de 41: filas 3700 a 3800\n",
            "Esperando 1 minuto antes de continuar con el siguiente batch...\n",
            "Procesando batch 39 de 41: filas 3800 a 3900\n",
            "Esperando 1 minuto antes de continuar con el siguiente batch...\n",
            "Procesando batch 40 de 41: filas 3900 a 4000\n",
            "Esperando 1 minuto antes de continuar con el siguiente batch...\n",
            "Procesando batch 41 de 41: filas 4000 a 4094\n"
          ]
        }
      ]
    },
    {
      "cell_type": "code",
      "source": [
        "df_nuevo.to_csv('evaluado.csv')"
      ],
      "metadata": {
        "id": "okUw9VKdrg4W"
      },
      "execution_count": 20,
      "outputs": []
    },
    {
      "cell_type": "markdown",
      "source": [
        "#TERRITORIO DE PRUEBAS"
      ],
      "metadata": {
        "id": "CblOZ4UO8VIi"
      }
    },
    {
      "cell_type": "code",
      "source": [
        "df_pruebas = df_parrafos_filtrados.head(20)"
      ],
      "metadata": {
        "id": "hG21bOzQzy8S"
      },
      "execution_count": null,
      "outputs": []
    },
    {
      "cell_type": "code",
      "source": [
        "df_pruebas.rename(columns={'Párrafo': 'Texto Unido'}, inplace=True)"
      ],
      "metadata": {
        "colab": {
          "base_uri": "https://localhost:8080/"
        },
        "id": "dVuAkCHF8pQX",
        "outputId": "7f943f14-403e-423b-d989-dfaf85e04f14"
      },
      "execution_count": null,
      "outputs": [
        {
          "output_type": "stream",
          "name": "stderr",
          "text": [
            "<ipython-input-74-d738d2d31bda>:1: SettingWithCopyWarning: \n",
            "A value is trying to be set on a copy of a slice from a DataFrame\n",
            "\n",
            "See the caveats in the documentation: https://pandas.pydata.org/pandas-docs/stable/user_guide/indexing.html#returning-a-view-versus-a-copy\n",
            "  df_pruebas.rename(columns={'Párrafo': 'Texto Unido'}, inplace=True)\n"
          ]
        }
      ]
    },
    {
      "cell_type": "code",
      "source": [
        "print(df_pruebas.columns)"
      ],
      "metadata": {
        "colab": {
          "base_uri": "https://localhost:8080/"
        },
        "id": "eq-Q2cJ21D0e",
        "outputId": "82bb673b-2738-4573-a3f6-232097af3ca4"
      },
      "execution_count": null,
      "outputs": [
        {
          "output_type": "stream",
          "name": "stdout",
          "text": [
            "Index(['Enlace', 'Texto Unido', 'Longitud'], dtype='object')\n"
          ]
        }
      ]
    },
    {
      "cell_type": "code",
      "source": [
        "df_prueba_aclarado = rellenar_texto_claro_con_pausas(df_pruebas)"
      ],
      "metadata": {
        "colab": {
          "base_uri": "https://localhost:8080/"
        },
        "id": "QbhtET25z8tR",
        "outputId": "41c8f430-30b8-4d3c-c388-7cbce06d2b02"
      },
      "execution_count": null,
      "outputs": [
        {
          "output_type": "stream",
          "name": "stdout",
          "text": [
            "Rellenadas hasta la fila 20.\n"
          ]
        }
      ]
    },
    {
      "cell_type": "code",
      "source": [
        "df_prueba_aclarado.to_csv('pruebaclarado.csv')"
      ],
      "metadata": {
        "id": "nfAkxdxJ2RFU"
      },
      "execution_count": null,
      "outputs": []
    },
    {
      "cell_type": "code",
      "source": [
        "\n"
      ],
      "metadata": {
        "id": "Jl4ig4xe0ICU"
      },
      "execution_count": null,
      "outputs": []
    },
    {
      "cell_type": "code",
      "source": [
        "#PROMPT ANTERIOR\n",
        "'''\n",
        "\n",
        "def clarify_text (text):\n",
        "  prompt = \"\"\" You are an expert in clear language in Spanish who turns any text from the web into accessible and easy to understand for 12-year-old children.\n",
        "  The original text is about a specific topic (for example, an administrative procedure, a description of a service, etc.) and\n",
        "  I want it to be reformulated following clear language guidelines. Here are the guidelines I would like you to follow:\n",
        "\n",
        "1. Remove non-essential elements such as references to social networks, site navigation (menu tags, internal links, etc.), and any other content that does not contribute to the main information.\n",
        "\n",
        "2. Simplify the vocabulary: Use simple words and avoid technical terms or specialized jargon. When it is necessary to use a technical term, include a brief explanation in simple terms.\n",
        "\n",
        "3. Organize the information into clear points or steps THIS IS VERY IMPORTANT!: This helps to make the text easier to follow. Use numbers for important steps or points.\n",
        "\n",
        "4. Avoid long and complicated sentences: Try to keep sentences short and to the point. One idea per sentence.\n",
        "\n",
        "5. Use the active voice instead of the passive: This makes the text more direct and easier to read.\n",
        "\n",
        "The goal is for the text to be understandable for teenagers aged 14, people with a basic level of Spanish, and those with a low degree of literacy.\n",
        "\n",
        "HIGHLY IMPORTANT: YOU CAN ONLY ANSWER IN SPANISH!!\n",
        "\n",
        "The text is as follows:\n",
        "\"\"\"\n",
        "  if text is None:\n",
        "    return \" \"\n",
        "\n",
        "  if text is not None:\n",
        "    input = prompt + text\n",
        "    chat_completion = client.chat.completions.create(\n",
        "        messages=[\n",
        "            {\n",
        "                \"role\": \"user\",\n",
        "                \"content\": input,\n",
        "                }\n",
        "    ],\n",
        "        model=\"mixtral-8x7b-32768\",\n",
        "        temperature = 0.2\n",
        "        )\n",
        "    clarified_text = (chat_completion.choices[0].message.content)\n",
        "  return clarified_text\n",
        "\n",
        "  '''\n"
      ],
      "metadata": {
        "id": "eHIj8HXwK5jt"
      },
      "execution_count": null,
      "outputs": []
    }
  ]
}