{
  "nbformat": 4,
  "nbformat_minor": 0,
  "metadata": {
    "colab": {
      "provenance": [],
      "include_colab_link": true
    },
    "kernelspec": {
      "name": "python3",
      "display_name": "Python 3"
    },
    "language_info": {
      "name": "python"
    }
  },
  "cells": [
    {
      "cell_type": "markdown",
      "metadata": {
        "id": "view-in-github",
        "colab_type": "text"
      },
      "source": [
        "<a href=\"https://colab.research.google.com/github/menpente/somosnlp_reescritura_textos_administrativos/blob/main/Prueba_sin_spacy.ipynb\" target=\"_parent\"><img src=\"https://colab.research.google.com/assets/colab-badge.svg\" alt=\"Open In Colab\"/></a>"
      ]
    },
    {
      "cell_type": "code",
      "source": [
        "import requests\n",
        "from bs4 import BeautifulSoup\n",
        "import re\n",
        "from urllib.parse import urljoin\n",
        "import pandas as pd\n"
      ],
      "metadata": {
        "id": "Ton3V3eWx13t"
      },
      "execution_count": null,
      "outputs": []
    },
    {
      "cell_type": "code",
      "source": [
        "def scrape_text(url):\n",
        "    try:\n",
        "        response = requests.get(url)\n",
        "        response.raise_for_status()\n",
        "        soup = BeautifulSoup(response.content, 'html.parser')\n",
        "\n",
        "        # Remove script, style, meta, link, noscript, header, footer, aside, nav, img tags\n",
        "        for tag in soup([\"script\", \"style\", \"meta\", \"link\", \"noscript\", \"header\", \"footer\", \"aside\", \"nav\", \"img\"]):\n",
        "            tag.extract()\n",
        "\n",
        "        # Elimina el contenido del mensaje de cookies\n",
        "        for cookie_alert in soup.find_all(\"div\", class_=[\"alertaModal\", \"msg cookies oculto\"]):\n",
        "            cookie_alert.decompose()\n",
        "\n",
        "        # Extraer el texto manteniendo el orden de párrafos y listas\n",
        "        visible_texts = []\n",
        "        for element in soup.body.find_all(['p', 'li']):  # Busca párrafos y elementos de lista directamente bajo <body>\n",
        "            text = element.get_text(separator=' ', strip=True)\n",
        "            if text:  # Asegúrate de que el texto no esté vacío\n",
        "                visible_texts.append(text)\n",
        "\n",
        "        # Combina todos los textos extraídos en una única cadena, separando los elementos con un espacio\n",
        "        visible_text = \" \".join(visible_texts)\n",
        "\n",
        "        # Limpiar el texto de espacios múltiples y saltos de línea\n",
        "        visible_text = re.sub(r'\\s+', ' ', visible_text)\n",
        "\n",
        "        return visible_text.strip()\n",
        "\n",
        "    except Exception as e:\n",
        "        print(f\"Error occurred while scraping the data: {e}\")\n",
        "        return None\n"
      ],
      "metadata": {
        "id": "NNLwgukguVs9"
      },
      "execution_count": null,
      "outputs": []
    },
    {
      "cell_type": "code",
      "source": [
        "#Extraer links:\n",
        "\n",
        "\n",
        "\n",
        "def extraer_links(link):\n",
        "# URL base del sitio del que se extraerán los enlaces\n",
        "  base_url = link\n",
        "\n",
        "  response = requests.get(base_url)  # Haciendo la petición a la página principal\n",
        "  response.raise_for_status()\n",
        "  soup = BeautifulSoup(response.content, 'html.parser')\n",
        "\n",
        "  links = set()  # Utiliza un conjunto para evitar duplicados\n",
        "  for link in soup.find_all('a'):\n",
        "      href = link.get('href')\n",
        "      if href and not href.startswith('#'):  # Ignorar enlaces internos de la página que comienzan con '#'\n",
        "        full_url = urljoin(base_url, href)  # Convierte rutas relativas en absolutas usando la URL base\n",
        "        links.add(full_url)\n",
        "  df_enlaces = pd.DataFrame(list(links), columns=['Enlaces'])\n",
        "\n",
        "  return df_enlaces"
      ],
      "metadata": {
        "id": "DIqzZb0y2BKt"
      },
      "execution_count": null,
      "outputs": []
    },
    {
      "cell_type": "code",
      "source": [
        "df_enlaces = extraer_links(\"https://www.comunidad.madrid/\")\n",
        "\n",
        "\n",
        "df_enlaces['texto'] = df_enlaces['Enlaces'].apply(scrape_text)"
      ],
      "metadata": {
        "colab": {
          "base_uri": "https://localhost:8080/"
        },
        "id": "miJlUvVV5l0d",
        "outputId": "05d70602-547e-434b-da97-42b1ff7d2179"
      },
      "execution_count": null,
      "outputs": [
        {
          "output_type": "stream",
          "name": "stderr",
          "text": [
            "WARNING:bs4.dammit:Some characters could not be decoded, and were replaced with REPLACEMENT CHARACTER.\n"
          ]
        },
        {
          "output_type": "stream",
          "name": "stdout",
          "text": [
            "Error occurred while scraping the data: 'NoneType' object has no attribute 'find_all'\n",
            "Error occurred while scraping the data: 400 Client Error: Bad Request for url: https://twitter.com/ComunidadMadrid\n",
            "Error occurred while scraping the data: 404 Client Error: Not Found for url: https://www.comunidad.madrid/transparencia/plan-de-gobierno/presidente\n",
            "Error occurred while scraping the data: 'NoneType' object has no attribute 'find_all'\n"
          ]
        }
      ]
    },
    {
      "cell_type": "code",
      "source": [
        "!pip install groq\n",
        "\n",
        "from groq import Groq\n",
        "from google.colab import userdata\n",
        "\n",
        "client = Groq(\n",
        "    api_key=userdata.get(\"GROQ_API_KEY\"),\n",
        ")\n"
      ],
      "metadata": {
        "colab": {
          "base_uri": "https://localhost:8080/"
        },
        "id": "ztbcuLI_CXbM",
        "outputId": "59b46df0-c06c-42a1-95f1-85e18547aa95"
      },
      "execution_count": null,
      "outputs": [
        {
          "output_type": "stream",
          "name": "stdout",
          "text": [
            "Collecting groq\n",
            "  Downloading groq-0.4.2-py3-none-any.whl (65 kB)\n",
            "\u001b[?25l     \u001b[90m━━━━━━━━━━━━━━━━━━━━━━━━━━━━━━━━━━━━━━━━\u001b[0m \u001b[32m0.0/65.7 kB\u001b[0m \u001b[31m?\u001b[0m eta \u001b[36m-:--:--\u001b[0m\r\u001b[2K     \u001b[90m━━━━━━━━━━━━━━━━━━━━━━━━━━━━━━━━━━━━━━━━\u001b[0m \u001b[32m65.7/65.7 kB\u001b[0m \u001b[31m2.7 MB/s\u001b[0m eta \u001b[36m0:00:00\u001b[0m\n",
            "\u001b[?25hRequirement already satisfied: anyio<5,>=3.5.0 in /usr/local/lib/python3.10/dist-packages (from groq) (3.7.1)\n",
            "Requirement already satisfied: distro<2,>=1.7.0 in /usr/lib/python3/dist-packages (from groq) (1.7.0)\n",
            "Collecting httpx<1,>=0.23.0 (from groq)\n",
            "  Downloading httpx-0.27.0-py3-none-any.whl (75 kB)\n",
            "\u001b[2K     \u001b[90m━━━━━━━━━━━━━━━━━━━━━━━━━━━━━━━━━━━━━━━━\u001b[0m \u001b[32m75.6/75.6 kB\u001b[0m \u001b[31m5.3 MB/s\u001b[0m eta \u001b[36m0:00:00\u001b[0m\n",
            "\u001b[?25hRequirement already satisfied: pydantic<3,>=1.9.0 in /usr/local/lib/python3.10/dist-packages (from groq) (2.6.4)\n",
            "Requirement already satisfied: sniffio in /usr/local/lib/python3.10/dist-packages (from groq) (1.3.1)\n",
            "Requirement already satisfied: typing-extensions<5,>=4.7 in /usr/local/lib/python3.10/dist-packages (from groq) (4.10.0)\n",
            "Requirement already satisfied: idna>=2.8 in /usr/local/lib/python3.10/dist-packages (from anyio<5,>=3.5.0->groq) (3.6)\n",
            "Requirement already satisfied: exceptiongroup in /usr/local/lib/python3.10/dist-packages (from anyio<5,>=3.5.0->groq) (1.2.0)\n",
            "Requirement already satisfied: certifi in /usr/local/lib/python3.10/dist-packages (from httpx<1,>=0.23.0->groq) (2024.2.2)\n",
            "Collecting httpcore==1.* (from httpx<1,>=0.23.0->groq)\n",
            "  Downloading httpcore-1.0.4-py3-none-any.whl (77 kB)\n",
            "\u001b[2K     \u001b[90m━━━━━━━━━━━━━━━━━━━━━━━━━━━━━━━━━━━━━━━━\u001b[0m \u001b[32m77.8/77.8 kB\u001b[0m \u001b[31m10.1 MB/s\u001b[0m eta \u001b[36m0:00:00\u001b[0m\n",
            "\u001b[?25hCollecting h11<0.15,>=0.13 (from httpcore==1.*->httpx<1,>=0.23.0->groq)\n",
            "  Downloading h11-0.14.0-py3-none-any.whl (58 kB)\n",
            "\u001b[2K     \u001b[90m━━━━━━━━━━━━━━━━━━━━━━━━━━━━━━━━━━━━━━━━\u001b[0m \u001b[32m58.3/58.3 kB\u001b[0m \u001b[31m7.3 MB/s\u001b[0m eta \u001b[36m0:00:00\u001b[0m\n",
            "\u001b[?25hRequirement already satisfied: annotated-types>=0.4.0 in /usr/local/lib/python3.10/dist-packages (from pydantic<3,>=1.9.0->groq) (0.6.0)\n",
            "Requirement already satisfied: pydantic-core==2.16.3 in /usr/local/lib/python3.10/dist-packages (from pydantic<3,>=1.9.0->groq) (2.16.3)\n",
            "Installing collected packages: h11, httpcore, httpx, groq\n",
            "Successfully installed groq-0.4.2 h11-0.14.0 httpcore-1.0.4 httpx-0.27.0\n"
          ]
        }
      ]
    },
    {
      "cell_type": "code",
      "source": [
        "def eval_text (text):\n",
        "  prompt = \"\"\"Eres un experto en lenguaje claro en español.\n",
        "  Dado un texto \"sucio\" extraído de una página web, realizarás las siguientes acciones:\n",
        "1. Limpiar el texto, conservando solo la información relevante y eliminando palabras que correspondan a redes sociales, etiquetas de menús, etc.\n",
        "2. Leer y comprender el texto, extrayendo la información que consideres útil para el usuario.\n",
        "3. Empezarás directamente con el texto aclarado, sin ninguna aclaración o instrucción antes.\n",
        "4. Escribirás listas si se detalla algún procedimiento.\n",
        "5. Utilizarás un lenguaje sencillo que todo el mundo pueda entender. Si encuentras alguna palabra difícil, sustitúyela por otra palabra o expresión que sea más fácil de entender.\n",
        "6. Reescribirás el texto basado en tu comprensión del mismo. Al hacerlo, utilizarás solo oraciones en voz activa que preserven el orden natural de las oraciones, eliminarás términos técnicos y palabras que sean difíciles de entender.\n",
        "ADVERTENCIA: ¡RECUERDA SIEMPRE QUE SOLO PUEDES RESPONDER EN ESPAÑOL para que el usuario pueda entenderte! De lo contrario, el texto no servirá de nada.\n",
        "El texto es el siguiente\n",
        "\"\"\"\n",
        "  if text is None:\n",
        "    return \" \"\n",
        "\n",
        "  if text is not None:\n",
        "    input = prompt + text\n",
        "    chat_completion = client.chat.completions.create(\n",
        "        messages=[\n",
        "            {\n",
        "                \"role\": \"user\",\n",
        "                \"content\": input,\n",
        "                }\n",
        "    ],\n",
        "        model=\"mixtral-8x7b-32768\"\n",
        "        )\n",
        "    corrected_text = (chat_completion.choices[0].message.content)\n",
        "  return corrected_text\n"
      ],
      "metadata": {
        "id": "OOaMwURVCmpT"
      },
      "execution_count": null,
      "outputs": []
    },
    {
      "cell_type": "code",
      "source": [
        "df_enlaces.loc[:10, 'texto corregido'] = df_enlaces['texto'].iloc[:11].apply(eval_text)"
      ],
      "metadata": {
        "id": "GhhL5QeNHSpL"
      },
      "execution_count": null,
      "outputs": []
    },
    {
      "cell_type": "code",
      "source": [
        "df_enlaces.to_csv('datset.csv')"
      ],
      "metadata": {
        "id": "rRhWk7AqIgn6"
      },
      "execution_count": null,
      "outputs": []
    },
    {
      "cell_type": "markdown",
      "source": [
        "##TERRITORIO DE PRUEBAS"
      ],
      "metadata": {
        "id": "yu5G31JmAu_e"
      }
    },
    {
      "cell_type": "code",
      "source": [
        "\n",
        "url_getafe = \"https://sede.getafe.es/sta/CarpetaPublic/doEvent?APP_CODE=STA&PAGE_CODE=CATALOGO&DETALLE=6269000961339052507583\"\n",
        "texto_scrap_getafe = scrape_text(url_getafe)\n",
        "\n",
        "pprint.pprint(texto_scrap_getafe)\n",
        "\n"
      ],
      "metadata": {
        "colab": {
          "base_uri": "https://localhost:8080/"
        },
        "id": "U7GEfJ6Nvfds",
        "outputId": "08220202-831f-4821-9d9a-ca1099be8a7c"
      },
      "execution_count": null,
      "outputs": [
        {
          "output_type": "stream",
          "name": "stdout",
          "text": [
            "('El volante/certificado de empadronamiento es un documento de carácter '\n",
            " 'informativo en relación a la acreditación de residencia y domicilio habitual '\n",
            " 'en el municipio, a efectos administrativos. El volante de empadronamiento y '\n",
            " 'el certificado de empadronamiento pueden ser: Individual: donde sólo constan '\n",
            " 'los datos del solicitante. Familiar o Colectivo: donde constan todas las '\n",
            " 'personas empadronadas en ese domicilio. Histórico Individual o Colectivo: '\n",
            " 'donde consta de forma individual o colectiva el tiempo empadronado en el '\n",
            " 'domicilio. LOS VOLANTES/CERTIFICADOS INDIVIDUALES puede solicitarse, además '\n",
            " 'de presencialmente, online del siguiente modo: Con certificado electrónico: '\n",
            " 'a través de la opción de PADRON DE HABITANTES de \" Mi Carpeta Ciudadana \" y '\n",
            " 'podrá descargarlo inmediatamente. Sin certificado electrónico: a través de '\n",
            " 'la Oficina Virtual puede solicitar volante/certificado individual que le '\n",
            " 'será remitido por correo ordinario a la dirección en la que Vd. figure '\n",
            " 'empadronado. Para solicitarlo online debe hacerse desde un ordenador. No es '\n",
            " 'posible hacerlo desde un dispositivo móvil. Para acceder se recomienda '\n",
            " 'utilizar los siguientes navegadores: Internet Explorer versión 7.0 o '\n",
            " 'superior. Mozilla Firefox versión 3.5 o superior. Google Chrome versión 9.0 '\n",
            " 'o superior. Safari 5.0 o superior. Internet Explorer versión 7.0 o superior. '\n",
            " 'Mozilla Firefox versión 3.5 o superior. Google Chrome versión 9.0 o '\n",
            " 'superior. Safari 5.0 o superior. Ayuntamiento de Getafe Servicio de Atención '\n",
            " 'al Vecino. La resolución pone fin a la vía administrativa ·Ley 4/1996, de 10 '\n",
            " 'de enero, por la que se modifica la Ley 7/1985, de 2 de abril, Reguladora de '\n",
            " 'las Bases del Régimen Local (BOE Núm. 11,de 12 de enero de 1996) en relación '\n",
            " 'con el Padrón Municipal. ·Ley Orgánica 14/2003 de 20 de noviembre, que '\n",
            " 'modifica la Ley 7/1985, de 2 de abril, Reguladora de las Bases del Régimen '\n",
            " 'Local a efectos de perfeccionar la información contenida en el Padrón '\n",
            " 'Municipal relativa a los extranjeros empadronados.(BOE Núm. 279, de 21 de '\n",
            " 'noviembre de 2003) ·Real Decreto 2612/1996, de 20 de diciembre por el que se '\n",
            " 'modifica el Reglamento de Población y Demarcación Territorial de las '\n",
            " 'Entidades Locales aprobado por el Real Decreto 1690/1986, de 11 de '\n",
            " 'julio.(BOE Núm. de 14 de agosto de 1986). DOCUMENTACIÓN A APORTAR Si se '\n",
            " 'trata de un VOLANTE/CERTIFICADO COLECTIVO Y/O COLECTIVO HISTÓRICO , además '\n",
            " 'del impreso de solicitud firmado por todos los mayores de edad empadronados '\n",
            " 'en la vivienda, debe aportar los documentos de identidad en vigor de todos '\n",
            " 'ellos. DNI, Pasaporte, Tarjeta de Extranjero, o Tarjeta de Identidad, en '\n",
            " 'caso de ser nacional de la Unión Europea, del interesado, original y en '\n",
            " 'vigor. En el caso de menores no emancipados: Si los solicitantes (sean '\n",
            " 'progenitores o no) se encuentran empadronados en situación de alta en la '\n",
            " 'inscripción en la que figura el menor: original de DNI, Pasaporte, Tarjeta '\n",
            " 'de Extranjero, o Tarjeta de Identidad en caso de ser nacional de estados '\n",
            " 'miembros de la Unión Europea, de los solicitantes. Si los solicitantes (sean '\n",
            " 'progenitores o no) no se encuentran empadronados en situación de alta en la '\n",
            " 'inscripción en la que figura el menor: original de DNI, Pasaporte, Tarjeta '\n",
            " 'de Extranjero o Tarjeta de Identidad en caso de ser nacional de estados '\n",
            " 'miembros de la Unión Europea, de los solicitantes y autorización del mayor '\n",
            " 'de edad con el que el menor figure empadronado, adjuntándose fotocopia del '\n",
            " 'documento de identidad del autorizante. En el caso de personas fallecidas: '\n",
            " 'DNI, Pasaporte, Tarjeta de Extranjero, o Tarjeta de Identidad en caso de ser '\n",
            " 'nacional de la Unión Europea, tanto del fallecido como del solicitante, en '\n",
            " 'todos los casos, deberá presentarse además Certificado de Defunción expedido '\n",
            " 'por el Registro Civil o la página del Libro de Familia en que figura '\n",
            " 'registrado el fallecimiento, así como, el documento de acreditación de '\n",
            " 'interés legítimo, como pueden ser entre otros: Si la persona que lo solicita '\n",
            " 'es el cónyuge: Libro de Familia o Certificado de Matrimonio. Si la persona '\n",
            " 'que lo solicita es un hijo/a o padre/madre: Libro de Familia o Certificado '\n",
            " 'Literal de Nacimiento. Si la persona que lo solicita es heredera '\n",
            " 'testamentaria: Testamento y/o Certificado de Últimas Voluntades. Si el '\n",
            " 'solicitante no está empadronado en el mismo domicilio de la persona '\n",
            " 'fallecida, ni aparece como heredera, deberá aportar documento en el que se '\n",
            " 'acredite su condición de interesado o de representante del interesado. '\n",
            " 'Cuando la persona solicitante sea persona jurídica (por ejemplo, una '\n",
            " 'gestoría) u otros profesionales (por ejemplo, un abogado/a), se deberá '\n",
            " 'aportar la fotocopia de los documentos que acrediten que actúan en '\n",
            " 'representación de los interesados legítimos. DNI, Pasaporte, Tarjeta de '\n",
            " 'Extranjero, o Tarjeta de Identidad, en caso de ser nacional de la Unión '\n",
            " 'Europea, del interesado, original y en vigor. En el caso de menores no '\n",
            " 'emancipados: Si los solicitantes (sean progenitores o no) se encuentran '\n",
            " 'empadronados en situación de alta en la inscripción en la que figura el '\n",
            " 'menor: original de DNI, Pasaporte, Tarjeta de Extranjero, o Tarjeta de '\n",
            " 'Identidad en caso de ser nacional de estados miembros de la Unión Europea, '\n",
            " 'de los solicitantes. Si los solicitantes (sean progenitores o no) no se '\n",
            " 'encuentran empadronados en situación de alta en la inscripción en la que '\n",
            " 'figura el menor: original de DNI, Pasaporte, Tarjeta de Extranjero o Tarjeta '\n",
            " 'de Identidad en caso de ser nacional de estados miembros de la Unión '\n",
            " 'Europea, de los solicitantes y autorización del mayor de edad con el que el '\n",
            " 'menor figure empadronado, adjuntándose fotocopia del documento de identidad '\n",
            " 'del autorizante. Si los solicitantes (sean progenitores o no) se encuentran '\n",
            " 'empadronados en situación de alta en la inscripción en la que figura el '\n",
            " 'menor: original de DNI, Pasaporte, Tarjeta de Extranjero, o Tarjeta de '\n",
            " 'Identidad en caso de ser nacional de estados miembros de la Unión Europea, '\n",
            " 'de los solicitantes. Si los solicitantes (sean progenitores o no) no se '\n",
            " 'encuentran empadronados en situación de alta en la inscripción en la que '\n",
            " 'figura el menor: original de DNI, Pasaporte, Tarjeta de Extranjero o Tarjeta '\n",
            " 'de Identidad en caso de ser nacional de estados miembros de la Unión '\n",
            " 'Europea, de los solicitantes y autorización del mayor de edad con el que el '\n",
            " 'menor figure empadronado, adjuntándose fotocopia del documento de identidad '\n",
            " 'del autorizante. En el caso de personas fallecidas: DNI, Pasaporte, Tarjeta '\n",
            " 'de Extranjero, o Tarjeta de Identidad en caso de ser nacional de la Unión '\n",
            " 'Europea, tanto del fallecido como del solicitante, en todos los casos, '\n",
            " 'deberá presentarse además Certificado de Defunción expedido por el Registro '\n",
            " 'Civil o la página del Libro de Familia en que figura registrado el '\n",
            " 'fallecimiento, así como, el documento de acreditación de interés legítimo, '\n",
            " 'como pueden ser entre otros: Si la persona que lo solicita es el cónyuge: '\n",
            " 'Libro de Familia o Certificado de Matrimonio. Si la persona que lo solicita '\n",
            " 'es un hijo/a o padre/madre: Libro de Familia o Certificado Literal de '\n",
            " 'Nacimiento. Si la persona que lo solicita es heredera testamentaria: '\n",
            " 'Testamento y/o Certificado de Últimas Voluntades. Si el solicitante no está '\n",
            " 'empadronado en el mismo domicilio de la persona fallecida, ni aparece como '\n",
            " 'heredera, deberá aportar documento en el que se acredite su condición de '\n",
            " 'interesado o de representante del interesado. Cuando la persona solicitante '\n",
            " 'sea persona jurídica (por ejemplo, una gestoría) u otros profesionales (por '\n",
            " 'ejemplo, un abogado/a), se deberá aportar la fotocopia de los documentos que '\n",
            " 'acrediten que actúan en representación de los interesados legítimos. Si la '\n",
            " 'persona que lo solicita es el cónyuge: Libro de Familia o Certificado de '\n",
            " 'Matrimonio. Si la persona que lo solicita es un hijo/a o padre/madre: Libro '\n",
            " 'de Familia o Certificado Literal de Nacimiento. Si la persona que lo '\n",
            " 'solicita es heredera testamentaria: Testamento y/o Certificado de Últimas '\n",
            " 'Voluntades. Si el solicitante no está empadronado en el mismo domicilio de '\n",
            " 'la persona fallecida, ni aparece como heredera, deberá aportar documento en '\n",
            " 'el que se acredite su condición de interesado o de representante del '\n",
            " 'interesado. Cuando la persona solicitante sea persona jurídica (por ejemplo, '\n",
            " 'una gestoría) u otros profesionales (por ejemplo, un abogado/a), se deberá '\n",
            " 'aportar la fotocopia de los documentos que acrediten que actúan en '\n",
            " 'representación de los interesados legítimos. OBSERVACIONES El presente '\n",
            " 'trámite tiene intención informativa y de facilitar procesos, siendo la norma '\n",
            " 'reguladora de cada uno de ellos la que primara en caso de contradicción\" '\n",
            " 'Registro Electrónico Seleccione como desea identificarse: Escribiré mis '\n",
            " 'datos Atención : si accede sin identificación, podrá realizar el trámite, '\n",
            " 'pero sus datos no se asociarán a su historial, al no ser posible garantizar '\n",
            " 'su identidad. ¿Desea continuar? Aceptar Con certificado digital Acceso '\n",
            " 'mediante sistema Clave Escribiré mis datos Atención : si accede sin '\n",
            " 'identificación, podrá realizar el trámite, pero sus datos no se asociarán a '\n",
            " 'su historial, al no ser posible garantizar su identidad. ¿Desea continuar? '\n",
            " 'Aceptar Con certificado digital Acceso mediante sistema Clave')\n"
          ]
        }
      ]
    },
    {
      "cell_type": "code",
      "source": [
        "texto_getafe_aclarado = eval_text(texto_scrap_getafe)\n",
        "pprint.pprint(texto_getafe_aclarado)"
      ],
      "metadata": {
        "colab": {
          "base_uri": "https://localhost:8080/"
        },
        "id": "_9FkE4-izzer",
        "outputId": "99b575e6-c137-4d15-c191-35285acc0763"
      },
      "execution_count": null,
      "outputs": [
        {
          "output_type": "stream",
          "name": "stdout",
          "text": [
            "('El volante/certificado de empadronamiento es un documento informativo sobre '\n",
            " 'tu residencia y domicilio principal en el municipio para fines '\n",
            " 'administrativos. Puede ser individual, con solo tus datos, o '\n",
            " 'familiar/colectivo, con datos de todas las personas empadronadas en esa '\n",
            " 'dirección. También puede ser histórico, mostrando el tiempo que has vivido '\n",
            " 'en esa dirección.\\n'\n",
            " '\\n'\n",
            " 'Puedes solicitar el volante/certificado individual:\\n'\n",
            " '\\n'\n",
            " '* Presencialmente\\n'\n",
            " '* En línea con certificado electrónico: ve a \"Mi Carpeta Ciudadana\" y '\n",
            " 'descárgalo inmediatamente.\\n'\n",
            " '* En línea sin certificado electrónico: solicítalo a través de la Oficina '\n",
            " 'Virtual y te lo enviarán por correo ordinario a tu dirección de residencia '\n",
            " 'registrada.\\n'\n",
            " '\\n'\n",
            " 'Para solicitar en línea sin certificado electrónico:\\n'\n",
            " '\\n'\n",
            " '* Usa un ordenador, no un dispositivo móvil.\\n'\n",
            " '* Accede con los siguientes navegadores: Internet Explorer 7.0 o superior, '\n",
            " 'Mozilla Firefox 3.5 o superior, Google Chrome 9.0 o superior, Safari 5.0 o '\n",
            " 'superior.\\n'\n",
            " '\\n'\n",
            " 'Para solicitar un volante/certificado colectivo o histórico, necesitas:\\n'\n",
            " '\\n'\n",
            " '* El formulario de solicitud firmado por todos los mayores de edad '\n",
            " 'empadronados.\\n'\n",
            " '* Documentos de identidad vigentes de todos los solicitantes:\\n'\n",
            " '\\t+ DNI, Pasaporte, Tarjeta de Extranjero, o Tarjeta de Identidad (si eres '\n",
            " 'de la Unión Europea).\\n'\n",
            " '\\n'\n",
            " 'Si los solicitantes son menores no emancipados:\\n'\n",
            " '\\n'\n",
            " '* Si están empadronados y figuran en la misma inscripción: DNI, Pasaporte, '\n",
            " 'Tarjeta de Extranjero, o Tarjeta de Identidad de los solicitantes.\\n'\n",
            " '* Si no están empadronados o no figuran en la misma inscripción: DNI, '\n",
            " 'Pasaporte, Tarjeta de Extranjero o Tarjeta de Identidad de los solicitantes '\n",
            " 'y autorización del mayor de edad con el que el menor figure empadronado.\\n'\n",
            " '\\n'\n",
            " 'En caso de personas fallecidas:\\n'\n",
            " '\\n'\n",
            " '* DNI, Pasaporte, Tarjeta de Extranjero, o Tarjeta de Identidad de la '\n",
            " 'persona fallecida y del solicitante.\\n'\n",
            " '* Certificado de Defunción y documento de acreditación de interés legítimo '\n",
            " '(por ejemplo, Libro de Familia, Certificado de Matrimonio, Certificado '\n",
            " 'Literal de Nacimiento, Testamento y/o Certificado de Últimas Voluntades).\\n'\n",
            " '\\n'\n",
            " 'Cuando el solicitante sea una persona jurídica o profesional, aportar '\n",
            " 'documentos que acrediten que actúan en representación de los interesados '\n",
            " 'legítimos.')\n"
          ]
        }
      ]
    }
  ]
}